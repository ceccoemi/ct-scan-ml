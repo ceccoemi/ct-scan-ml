{
 "cells": [
  {
   "cell_type": "code",
   "execution_count": 1,
   "metadata": {},
   "outputs": [
    {
     "name": "stdout",
     "output_type": "stream",
     "text": [
      "Tensorflow: 2.3.0\n"
     ]
    }
   ],
   "source": [
    "import time\n",
    "import datetime\n",
    "from pathlib import Path\n",
    "\n",
    "import numpy as np\n",
    "import tensorflow as tf\n",
    "from tensorflow import keras\n",
    "from tensorflow.keras.mixed_precision import experimental as mixed_precision\n",
    "from tqdm.notebook import tqdm\n",
    "import matplotlib.pyplot as plt\n",
    "\n",
    "from data import example_to_tensor, normalize\n",
    "from train import EarlyStopping\n",
    "from utils import plot_slice, plot_animated_volume\n",
    "\n",
    "print(f\"Tensorflow: {tf.__version__}\")\n",
    "tf.compat.v1.logging.set_verbosity(tf.compat.v1.logging.ERROR)\n",
    "\n",
    "%matplotlib inline\n",
    "plt.rcParams[\"figure.figsize\"] = [15, 7]"
   ]
  },
  {
   "cell_type": "code",
   "execution_count": 2,
   "metadata": {},
   "outputs": [],
   "source": [
    "verbose_training = True\n",
    "seed = 5\n",
    "# Hyperparameters\n",
    "epochs = 1000\n",
    "learning_rate = 0.0001\n",
    "patience = 5\n",
    "batch_size = 4\n",
    "test_num_samples = 10\n",
    "validation_num_samples = 10\n",
    "input_shape = (248, 128, 128, 1)  # downscale 4\n",
    "# input_shape = (16, 128, 128, 1)  # downscale 4 (nii only)\n",
    "# input_shape = (488, 256, 256, 1)  # downscale 2\n",
    "# input_shape = (964, 512, 512, 1)  # original"
   ]
  },
  {
   "cell_type": "code",
   "execution_count": 3,
   "metadata": {},
   "outputs": [],
   "source": [
    "# This is to allocate GPU memory only when needed\n",
    "\n",
    "gpus = tf.config.experimental.list_physical_devices(\"GPU\")\n",
    "if gpus:\n",
    "    # Currently, memory growth needs to be the same across GPUs\n",
    "    for gpu in gpus:\n",
    "        tf.config.experimental.set_memory_growth(gpu, True)"
   ]
  },
  {
   "cell_type": "code",
   "execution_count": 4,
   "metadata": {},
   "outputs": [
    {
     "name": "stdout",
     "output_type": "stream",
     "text": [
      "Compute dtype: float16\n",
      "Variable dtype: float32\n"
     ]
    }
   ],
   "source": [
    "# Use mixed precision float16/float32\n",
    "\n",
    "policy = mixed_precision.Policy(\"mixed_float16\")\n",
    "# policy = mixed_precision.Policy('float32')\n",
    "mixed_precision.set_policy(policy)\n",
    "print(\"Compute dtype: %s\" % policy.compute_dtype)\n",
    "print(\"Variable dtype: %s\" % policy.variable_dtype)"
   ]
  },
  {
   "cell_type": "code",
   "execution_count": 5,
   "metadata": {},
   "outputs": [],
   "source": [
    "data_dir = Path(\"data\")\n",
    "tfrecord_fnames = [\n",
    "    str(p)\n",
    "    for g in (\n",
    "        data_dir.glob(\"tcia-0.25/*.tfrecord\"),\n",
    "        data_dir.glob(\"nrrd-0.25/*.tfrecord\"),\n",
    "        # data_dir.glob(\"nii-0.25/*.tfrecord\"),\n",
    "    )\n",
    "    for p in g\n",
    "]\n",
    "\n",
    "full_dataset = tf.data.TFRecordDataset(tfrecord_fnames)\n",
    "full_dataset = full_dataset.map(\n",
    "    example_to_tensor, num_parallel_calls=tf.data.experimental.AUTOTUNE\n",
    ")\n",
    "full_dataset = full_dataset.map(\n",
    "    normalize, num_parallel_calls=tf.data.experimental.AUTOTUNE\n",
    ")\n",
    "full_dataset = full_dataset.map(\n",
    "    lambda x: tf.expand_dims(x, axis=-1),\n",
    "    num_parallel_calls=tf.data.experimental.AUTOTUNE,\n",
    ")"
   ]
  },
  {
   "cell_type": "code",
   "execution_count": 6,
   "metadata": {},
   "outputs": [
    {
     "data": {
      "text/plain": [
       "<PrefetchDataset shapes: (None, 248, 128, 128, 1), types: tf.float32>"
      ]
     },
     "execution_count": 6,
     "metadata": {},
     "output_type": "execute_result"
    }
   ],
   "source": [
    "dataset = full_dataset.shuffle(\n",
    "    buffer_size=32, seed=seed, reshuffle_each_iteration=False\n",
    ")\n",
    "\n",
    "test_dataset = dataset.take(test_num_samples)\n",
    "test_dataset = test_dataset.batch(1)\n",
    "dataset = dataset.skip(test_num_samples)\n",
    "\n",
    "val_dataset = dataset.take(validation_num_samples)\n",
    "val_dataset = val_dataset.padded_batch(\n",
    "    batch_size=batch_size, padded_shapes=input_shape,\n",
    ")\n",
    "\n",
    "train_dataset = dataset.skip(validation_num_samples)\n",
    "train_dataset = train_dataset.padded_batch(\n",
    "    batch_size=batch_size, padded_shapes=input_shape,\n",
    ")\n",
    "train_dataset = train_dataset.cache()  # must be called before shuffle\n",
    "train_dataset = train_dataset.shuffle(buffer_size=64, reshuffle_each_iteration=True)\n",
    "train_dataset = train_dataset.take(16)\n",
    "train_dataset = train_dataset.prefetch(tf.data.experimental.AUTOTUNE)\n",
    "train_dataset"
   ]
  },
  {
   "cell_type": "code",
   "execution_count": 7,
   "metadata": {},
   "outputs": [],
   "source": [
    "def benchmark(dataset, num_epochs=4):\n",
    "    start_time = time.perf_counter()\n",
    "    for epoch_num in range(num_epochs):\n",
    "        for sample in dataset:\n",
    "            # Performing a training step\n",
    "            time.sleep(0.01)\n",
    "    tf.print(\"Execution time:\", time.perf_counter() - start_time)\n",
    "\n",
    "\n",
    "# benchmark(train_dataset)"
   ]
  },
  {
   "cell_type": "code",
   "execution_count": 8,
   "metadata": {},
   "outputs": [],
   "source": [
    "def conv_block(x, filters, kernel_size=3, dropout_rate=0.1, pool_size=2):\n",
    "    \"\"\"\n",
    "    - Convolution 3D\n",
    "    - Selu activation\n",
    "    - Dropout\n",
    "    - Max pool 3D\n",
    "    \n",
    "    x is the input layer using the Keras Functional API\n",
    "    \"\"\"\n",
    "    x = keras.layers.Conv3D(\n",
    "        filters=filters,\n",
    "        kernel_size=kernel_size,\n",
    "        padding=\"same\",\n",
    "        kernel_initializer=\"lecun_normal\",\n",
    "        bias_initializer=\"lecun_normal\",\n",
    "        activation=\"selu\",\n",
    "    )(x)\n",
    "    x = keras.layers.AlphaDropout(dropout_rate)(x)\n",
    "    x = keras.layers.MaxPool3D(pool_size=pool_size)(x)\n",
    "    return x"
   ]
  },
  {
   "cell_type": "code",
   "execution_count": 9,
   "metadata": {},
   "outputs": [],
   "source": [
    "def deconv_block(x, filters, kernel_size=3, dropout_rate=0.1, pool_size=2):\n",
    "    \"\"\"\n",
    "    - Up sampling 3D\n",
    "    - Convolution 3D\n",
    "    - Selu activation\n",
    "    - Dropout\n",
    "    \n",
    "    x is the input layer using the Keras Functional  API\n",
    "    \"\"\"\n",
    "    x = keras.layers.UpSampling3D(size=pool_size)(x)\n",
    "    x = keras.layers.Conv3D(\n",
    "        filters=filters,\n",
    "        kernel_size=kernel_size,\n",
    "        padding=\"same\",\n",
    "        kernel_initializer=\"lecun_normal\",\n",
    "        bias_initializer=\"lecun_normal\",\n",
    "        activation=\"selu\",\n",
    "    )(x)\n",
    "    x = keras.layers.AlphaDropout(dropout_rate)(x)\n",
    "    return x"
   ]
  },
  {
   "cell_type": "code",
   "execution_count": 10,
   "metadata": {
    "scrolled": false
   },
   "outputs": [
    {
     "name": "stdout",
     "output_type": "stream",
     "text": [
      "Model: \"encoder\"\n",
      "_________________________________________________________________\n",
      "Layer (type)                 Output Shape              Param #   \n",
      "=================================================================\n",
      "input_1 (InputLayer)         [(4, 248, 128, 128, 1)]   0         \n",
      "_________________________________________________________________\n",
      "conv3d (Conv3D)              (4, 248, 128, 128, 16)    448       \n",
      "_________________________________________________________________\n",
      "alpha_dropout (AlphaDropout) (4, 248, 128, 128, 16)    0         \n",
      "_________________________________________________________________\n",
      "max_pooling3d (MaxPooling3D) (4, 124, 64, 64, 16)      0         \n",
      "_________________________________________________________________\n",
      "conv3d_1 (Conv3D)            (4, 124, 64, 64, 32)      13856     \n",
      "_________________________________________________________________\n",
      "alpha_dropout_1 (AlphaDropou (4, 124, 64, 64, 32)      0         \n",
      "_________________________________________________________________\n",
      "max_pooling3d_1 (MaxPooling3 (4, 62, 32, 32, 32)       0         \n",
      "=================================================================\n",
      "Total params: 14,304\n",
      "Trainable params: 14,304\n",
      "Non-trainable params: 0\n",
      "_________________________________________________________________\n"
     ]
    }
   ],
   "source": [
    "encoder_inputs = keras.Input(input_shape, batch_size=batch_size)\n",
    "x = conv_block(encoder_inputs, filters=16)\n",
    "encoder_outputs = conv_block(x, filters=32)\n",
    "encoder = keras.Model(encoder_inputs, encoder_outputs, name=\"encoder\")\n",
    "encoder.summary()"
   ]
  },
  {
   "cell_type": "code",
   "execution_count": 11,
   "metadata": {},
   "outputs": [
    {
     "name": "stdout",
     "output_type": "stream",
     "text": [
      "Model: \"decoder\"\n",
      "_________________________________________________________________\n",
      "Layer (type)                 Output Shape              Param #   \n",
      "=================================================================\n",
      "input_2 (InputLayer)         [(4, 62, 32, 32, 32)]     0         \n",
      "_________________________________________________________________\n",
      "up_sampling3d (UpSampling3D) (4, 124, 64, 64, 32)      0         \n",
      "_________________________________________________________________\n",
      "conv3d_2 (Conv3D)            (4, 124, 64, 64, 32)      27680     \n",
      "_________________________________________________________________\n",
      "alpha_dropout_2 (AlphaDropou (4, 124, 64, 64, 32)      0         \n",
      "_________________________________________________________________\n",
      "up_sampling3d_1 (UpSampling3 (4, 248, 128, 128, 32)    0         \n",
      "_________________________________________________________________\n",
      "conv3d_3 (Conv3D)            (4, 248, 128, 128, 16)    13840     \n",
      "_________________________________________________________________\n",
      "alpha_dropout_3 (AlphaDropou (4, 248, 128, 128, 16)    0         \n",
      "_________________________________________________________________\n",
      "dense (Dense)                (4, 248, 128, 128, 1)     17        \n",
      "_________________________________________________________________\n",
      "activation (Activation)      (4, 248, 128, 128, 1)     0         \n",
      "=================================================================\n",
      "Total params: 41,537\n",
      "Trainable params: 41,537\n",
      "Non-trainable params: 0\n",
      "_________________________________________________________________\n"
     ]
    }
   ],
   "source": [
    "decoder_inputs = keras.Input(encoder.output_shape[1:], batch_size=batch_size)\n",
    "x = deconv_block(decoder_inputs, filters=32)\n",
    "x = deconv_block(x, filters=16)\n",
    "x = keras.layers.Dense(1)(x)\n",
    "decoder_outputs = keras.layers.Activation(\"sigmoid\", dtype=\"float32\")(x)\n",
    "decoder = keras.Model(decoder_inputs, decoder_outputs, name=\"decoder\")\n",
    "decoder.summary()"
   ]
  },
  {
   "cell_type": "code",
   "execution_count": 12,
   "metadata": {},
   "outputs": [
    {
     "name": "stdout",
     "output_type": "stream",
     "text": [
      "Model: \"autoencoder\"\n",
      "_________________________________________________________________\n",
      "Layer (type)                 Output Shape              Param #   \n",
      "=================================================================\n",
      "encoder (Functional)         (4, 62, 32, 32, 32)       14304     \n",
      "_________________________________________________________________\n",
      "decoder (Functional)         (4, 248, 128, 128, 1)     41537     \n",
      "=================================================================\n",
      "Total params: 55,841\n",
      "Trainable params: 55,841\n",
      "Non-trainable params: 0\n",
      "_________________________________________________________________\n"
     ]
    }
   ],
   "source": [
    "autoencoder = keras.models.Sequential([encoder, decoder], name=\"autoencoder\")\n",
    "# autoencoder.load_weights(\"models/autoencoder/20200924-235155/best_epoch_ckpt\")\n",
    "# autoencoder = keras.models.load_model(\"models/autoencoder/20200924-235155\")\n",
    "\n",
    "assert autoencoder.output_shape[1:] == input_shape\n",
    "autoencoder.summary()"
   ]
  },
  {
   "cell_type": "code",
   "execution_count": 13,
   "metadata": {},
   "outputs": [],
   "source": [
    "loss_fn = keras.losses.MeanSquaredError()\n",
    "optimizer = keras.optimizers.Adam(lr=learning_rate)\n",
    "optimizer = mixed_precision.LossScaleOptimizer(optimizer, loss_scale=\"dynamic\")"
   ]
  },
  {
   "cell_type": "code",
   "execution_count": null,
   "metadata": {},
   "outputs": [
    {
     "data": {
      "application/vnd.jupyter.widget-view+json": {
       "model_id": "7273ce684fd84d1d9a32d444e6dbc9dc",
       "version_major": 2,
       "version_minor": 0
      },
      "text/plain": [
       "HBox(children=(FloatProgress(value=0.0, max=1000.0), HTML(value='')))"
      ]
     },
     "metadata": {},
     "output_type": "display_data"
    },
    {
     "name": "stdout",
     "output_type": "stream",
     "text": [
      "\n",
      "Epoch : 0\n",
      "Training loss: 0.04763423651456833\n",
      "Validation loss: 0.011542127467691898\n",
      "\n",
      "Epoch : 1\n",
      "Training loss: 0.01523527130484581\n",
      "Validation loss: 0.011322778649628162\n",
      "\n",
      "Epoch : 2\n",
      "Training loss: 0.015419526025652885\n",
      "Validation loss: 0.011290603317320347\n",
      "\n",
      "Epoch : 3\n",
      "Training loss: 0.019479166716337204\n",
      "Validation loss: 0.01126996148377657\n",
      "\n",
      "Epoch : 4\n",
      "Training loss: 0.012479502707719803\n",
      "Validation loss: 0.011246838606894016\n",
      "\n",
      "Epoch : 5\n",
      "Training loss: 0.014211487025022507\n",
      "Validation loss: 0.011207862757146358\n"
     ]
    }
   ],
   "source": [
    "start_time = datetime.datetime.now()\n",
    "start_time_str = start_time.strftime(\"%Y%m%d-%H%M%S\")\n",
    "log_dir = f\"logs/experiments/{start_time_str}/\"\n",
    "model_dir = f\"models/experiments/{start_time_str}/\"\n",
    "ckpt_dir = model_dir + \"best_epoch_ckpt\"\n",
    "writer = tf.summary.create_file_writer(log_dir)\n",
    "\n",
    "early_stopping = EarlyStopping(patience)\n",
    "\n",
    "for epoch in tqdm(range(epochs), disable=False):\n",
    "\n",
    "    ### TRAIN ###\n",
    "\n",
    "    train_loss_metric = tf.keras.metrics.Mean(\"train_loss\", dtype=tf.float32)\n",
    "    for batch in train_dataset:\n",
    "        with tf.GradientTape() as tape:\n",
    "            predictions = autoencoder(batch)\n",
    "            loss_value = loss_fn(predictions, batch)\n",
    "            scaled_loss_value = optimizer.get_scaled_loss(loss_value)\n",
    "        scaled_gradients = tape.gradient(scaled_loss_value, autoencoder.trainable_variables)\n",
    "        gradients = optimizer.get_unscaled_gradients(scaled_gradients)\n",
    "        optimizer.apply_gradients(zip(gradients, autoencoder.trainable_variables))\n",
    "        train_loss_metric.update_state(loss_value)\n",
    "        with writer.as_default():\n",
    "            for grad, param in zip(gradients, autoencoder.trainable_variables):\n",
    "                tf.summary.histogram(param.name, param, step=epoch)\n",
    "                # tf.summary.histogram(param.name + \"/grad\", grad, buckets=1, step=epoch)\n",
    "\n",
    "    train_loss_mean = train_loss_metric.result()\n",
    "    with writer.as_default():\n",
    "        tf.summary.scalar(\"Training loss\", train_loss_mean, step=epoch)\n",
    "    train_loss_metric.reset_states()\n",
    "\n",
    "    ### VALIDATION ###\n",
    "\n",
    "    val_loss_metric = tf.keras.metrics.Mean(\"val_loss\", dtype=tf.float32)\n",
    "    for batch in val_dataset:\n",
    "        predictions = autoencoder(batch, training=False)\n",
    "        val_loss_metric.update_state(loss_fn(predictions, batch))\n",
    "\n",
    "    val_loss_mean = val_loss_metric.result()\n",
    "    with writer.as_default():\n",
    "        tf.summary.scalar(\"Validation loss\", val_loss_mean, step=epoch)\n",
    "    val_loss_metric.reset_states()\n",
    "\n",
    "    if verbose_training:\n",
    "        print()\n",
    "        print(f\"Epoch : {epoch}\")\n",
    "        print(f\"Training loss: {train_loss_mean}\")\n",
    "        print(f\"Validation loss: {val_loss_mean}\")\n",
    "\n",
    "    ### EARLY STOPPING ###\n",
    "\n",
    "    early_stopping.update(val_loss_mean)\n",
    "    if early_stopping.early_stop:\n",
    "        autoencoder.load_weights(ckpt_dir)\n",
    "        break\n",
    "    elif early_stopping.not_improving_epochs == 0:\n",
    "        autoencoder.save_weights(ckpt_dir)\n",
    "\n",
    "autoencoder.save(model_dir)\n",
    "\n",
    "end_time = datetime.datetime.now()\n",
    "training_time = str(end_time - start_time).split(\".\")[0]\n",
    "\n",
    "with writer.as_default():\n",
    "    tf.summary.text(\n",
    "        \"Hyperparameters\",\n",
    "        f\"batch size = {batch_size}; \"\n",
    "        f\"patience = {patience}; \"\n",
    "        f\"learning rate = {learning_rate}; \"\n",
    "        f\"training time = {training_time}\",\n",
    "        step=0,\n",
    "    )"
   ]
  },
  {
   "cell_type": "code",
   "execution_count": null,
   "metadata": {},
   "outputs": [],
   "source": [
    "reload_ext tensorboard\n",
    "%tensorboard --logdir=logs --bind_all"
   ]
  },
  {
   "cell_type": "code",
   "execution_count": null,
   "metadata": {},
   "outputs": [],
   "source": [
    "original = next(iter(test_dataset.skip(0)))\n",
    "encoder_out = autoencoder.layers[0](original)\n",
    "decoder_out = autoencoder.layers[1](encoder_out)\n",
    "batch_index = 0"
   ]
  },
  {
   "cell_type": "code",
   "execution_count": null,
   "metadata": {},
   "outputs": [],
   "source": [
    "z_index = 5\n",
    "fig, ax = plt.subplots(ncols=3)\n",
    "plot_slice(original, batch_index, z_index, ax[0])\n",
    "plot_slice(encoder_out, batch_index, encoder_out.shape[1] // 3, ax[1])\n",
    "plot_slice(decoder_out, batch_index, z_index, ax[2])"
   ]
  },
  {
   "cell_type": "code",
   "execution_count": null,
   "metadata": {},
   "outputs": [],
   "source": [
    "plot_animated_volume(original, batch_index)"
   ]
  },
  {
   "cell_type": "code",
   "execution_count": null,
   "metadata": {},
   "outputs": [],
   "source": [
    "plot_animated_volume(encoder_out, batch_index, fps=10)"
   ]
  },
  {
   "cell_type": "code",
   "execution_count": null,
   "metadata": {},
   "outputs": [],
   "source": [
    "plot_animated_volume(decoder_out, batch_index)"
   ]
  },
  {
   "cell_type": "code",
   "execution_count": null,
   "metadata": {},
   "outputs": [],
   "source": []
  }
 ],
 "metadata": {
  "kernelspec": {
   "display_name": "Python 3",
   "language": "python",
   "name": "python3"
  },
  "language_info": {
   "codemirror_mode": {
    "name": "ipython",
    "version": 3
   },
   "file_extension": ".py",
   "mimetype": "text/x-python",
   "name": "python",
   "nbconvert_exporter": "python",
   "pygments_lexer": "ipython3",
   "version": "3.6.6"
  }
 },
 "nbformat": 4,
 "nbformat_minor": 4
}
