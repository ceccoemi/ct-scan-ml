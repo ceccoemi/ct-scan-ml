{
 "cells": [
  {
   "cell_type": "code",
   "execution_count": 1,
   "metadata": {},
   "outputs": [],
   "source": [
    "from collections import defaultdict\n",
    "\n",
    "import numpy as np\n",
    "import tensorflow as tf\n",
    "from tensorflow import keras\n",
    "from tqdm.notebook import tqdm\n",
    "import matplotlib.pyplot as plt\n",
    "import pandas as pd\n",
    "import seaborn as sns\n",
    "\n",
    "from data import tfrecord_dataset, train_test_split\n",
    "from models import SeluConv3D, SeluDense\n",
    "from train import train_model_with_early_stopping\n",
    "from plot import plot_slice, plot_volume_animation\n",
    "from config import (\n",
    "    LIDC_SMALL_NEG_TFRECORD,\n",
    "    LIDC_BIG_NEG_TFRECORD,\n",
    "    LIDC_SMALL_POS_TFRECORD,\n",
    "    LIDC_BIG_POS_TFRECORD,\n",
    "    LIDC_SMALL_UNLABELED_TFRECORD,\n",
    "    LIDC_BIG_UNLABELED_TFRECORD,\n",
    "    SMALL_PATCH_SHAPE,\n",
    "    BIG_PATCH_SHAPE,\n",
    "    SEED,\n",
    ")\n",
    "\n",
    "%matplotlib inline\n",
    "plt.rcParams[\"figure.figsize\"] = [15, 7]"
   ]
  },
  {
   "cell_type": "code",
   "execution_count": 2,
   "metadata": {},
   "outputs": [
    {
     "name": "stdout",
     "output_type": "stream",
     "text": [
      "pos_samples = 379\n",
      "neg_samples = 375\n",
      "labeled_samples = 754\n"
     ]
    }
   ],
   "source": [
    "pos_x = tf.data.Dataset.zip(\n",
    "    (\n",
    "        tfrecord_dataset(LIDC_SMALL_POS_TFRECORD),\n",
    "        tfrecord_dataset(LIDC_BIG_POS_TFRECORD),\n",
    "    )\n",
    ")\n",
    "pos_samples = sum(1 for _ in pos_x)\n",
    "print(f\"{pos_samples = }\")\n",
    "pos_dataset = tf.data.Dataset.zip(\n",
    "    (pos_x, tf.data.Dataset.from_tensor_slices(np.int8([[1]])).repeat(pos_samples))\n",
    ")\n",
    "assert sum(1 for _ in pos_dataset) == pos_samples\n",
    "\n",
    "neg_x = tf.data.Dataset.zip(\n",
    "    (\n",
    "        tfrecord_dataset(LIDC_SMALL_NEG_TFRECORD),\n",
    "        tfrecord_dataset(LIDC_BIG_NEG_TFRECORD),\n",
    "    )\n",
    ")\n",
    "neg_samples = sum(1 for _ in neg_x)\n",
    "print(f\"{neg_samples = }\")\n",
    "neg_dataset = tf.data.Dataset.zip(\n",
    "    (neg_x, tf.data.Dataset.from_tensor_slices(np.int8([[0]])).repeat(neg_samples))\n",
    ")\n",
    "assert sum(1 for _ in neg_dataset) == neg_samples\n",
    "\n",
    "labeled_samples = pos_samples + neg_samples\n",
    "print(f\"{labeled_samples = }\")"
   ]
  },
  {
   "cell_type": "code",
   "execution_count": 3,
   "metadata": {},
   "outputs": [],
   "source": [
    "subset_size = 200\n",
    "assert subset_size % 2 == 0"
   ]
  },
  {
   "cell_type": "code",
   "execution_count": 4,
   "metadata": {},
   "outputs": [],
   "source": [
    "subset_dataset = (\n",
    "    pos_dataset.take(subset_size // 2)\n",
    "    .concatenate(neg_dataset.take(subset_size // 2))\n",
    "    .shuffle(buffer_size=subset_size, reshuffle_each_iteration=False, seed=SEED)\n",
    ")\n",
    "assert sum(1 for _ in subset_dataset) == subset_size"
   ]
  },
  {
   "cell_type": "code",
   "execution_count": 5,
   "metadata": {},
   "outputs": [
    {
     "name": "stdout",
     "output_type": "stream",
     "text": [
      "pretraining_samples = 554\n"
     ]
    },
    {
     "data": {
      "text/plain": [
       "<ShuffleDataset shapes: (((None, None, None, None), (None, None, None, None)), (1,)), types: ((tf.float32, tf.float32), tf.int8)>"
      ]
     },
     "execution_count": 5,
     "metadata": {},
     "output_type": "execute_result"
    }
   ],
   "source": [
    "pretraining_dataset = (\n",
    "    tf.data.Dataset.zip(\n",
    "        (\n",
    "            pos_x.skip(subset_size // 2),\n",
    "            tf.data.Dataset.from_tensor_slices(np.int8([[1]])).repeat(\n",
    "                pos_samples - (subset_size // 2)\n",
    "            ),\n",
    "        )\n",
    "    )\n",
    "    .concatenate(\n",
    "        tf.data.Dataset.zip(\n",
    "            (\n",
    "                neg_x.skip(subset_size // 2),\n",
    "                tf.data.Dataset.from_tensor_slices(np.int8([[0]])).repeat(\n",
    "                    neg_samples - (subset_size // 2)\n",
    "                ),\n",
    "            )\n",
    "        )\n",
    "    )\n",
    "    .shuffle(\n",
    "        buffer_size=(pos_samples + neg_samples),\n",
    "        reshuffle_each_iteration=False,\n",
    "        seed=SEED,\n",
    "    )\n",
    ")\n",
    "pretraining_samples = sum(1 for _ in pretraining_dataset)\n",
    "print(f\"{pretraining_samples = }\")\n",
    "assert pretraining_samples == (labeled_samples - subset_size)\n",
    "pretraining_dataset"
   ]
  },
  {
   "cell_type": "code",
   "execution_count": 6,
   "metadata": {},
   "outputs": [],
   "source": [
    "# (small, big), label = next(iter(pretraining_dataset.skip(0)))\n",
    "# print(label)\n",
    "# plot_volume_animation(small)"
   ]
  },
  {
   "cell_type": "code",
   "execution_count": 7,
   "metadata": {},
   "outputs": [],
   "source": [
    "# check that the two datasets are non-overlapping\n",
    "\n",
    "# for (_, big_a), _ in subset_dataset:\n",
    "#    for (_, big_b), _ in pretraining_dataset:\n",
    "#        assert not tf.reduce_all(tf.equal(big_a, big_b))"
   ]
  },
  {
   "cell_type": "code",
   "execution_count": 8,
   "metadata": {},
   "outputs": [],
   "source": [
    "def build_3d_cnn(dropout_rate):\n",
    "    input_small = keras.Input(SMALL_PATCH_SHAPE, name=\"input_small\")\n",
    "    x_small = SeluConv3D(\n",
    "        filters=32,\n",
    "        kernel_size=3,\n",
    "        name=\"small_selu_conv3d_1\",\n",
    "    )(input_small)\n",
    "    x_small = keras.layers.MaxPooling3D((1, 2, 2), name=\"small_maxpool_1\")(x_small)\n",
    "    x_small = SeluConv3D(\n",
    "        filters=64,\n",
    "        kernel_size=3,\n",
    "        name=\"small_selu_conv3d_2\",\n",
    "    )(x_small)\n",
    "    x_small = keras.layers.MaxPooling3D((1, 2, 2), name=\"small_maxpool_2\")(x_small)\n",
    "    x_small = SeluConv3D(\n",
    "        filters=128,\n",
    "        kernel_size=3,\n",
    "        name=\"small_selu_conv3d_3\",\n",
    "    )(x_small)\n",
    "    x_small = keras.layers.MaxPooling3D((1, 2, 2), name=\"small_maxpool_3\")(x_small)\n",
    "    x_small = SeluConv3D(\n",
    "        filters=256,\n",
    "        kernel_size=3,\n",
    "        name=\"small_selu_conv3d_4\",\n",
    "    )(x_small)\n",
    "    x_small = keras.layers.MaxPooling3D((1, 2, 2), name=\"small_maxpool_4\")(x_small)\n",
    "    x_small = keras.layers.Flatten(name=\"flatten_small\")(x_small)\n",
    "\n",
    "    input_big = keras.Input(BIG_PATCH_SHAPE, name=\"input_big\")\n",
    "    x_big = keras.layers.MaxPooling3D((2, 2, 2), name=\"big_maxpool_0\")(input_big)\n",
    "    x_big = SeluConv3D(\n",
    "        filters=32,\n",
    "        kernel_size=3,\n",
    "        name=\"big_selu_conv3d_1\",\n",
    "    )(x_big)\n",
    "    x_big = keras.layers.MaxPooling3D((1, 2, 2), name=\"big_maxpool_1\")(x_big)\n",
    "    x_big = SeluConv3D(\n",
    "        filters=64,\n",
    "        kernel_size=3,\n",
    "        name=\"big_selu_conv3d_2\",\n",
    "    )(x_big)\n",
    "    x_big = keras.layers.MaxPooling3D((1, 2, 2), name=\"big_maxpool_2\")(x_big)\n",
    "    x_big = SeluConv3D(\n",
    "        filters=128,\n",
    "        kernel_size=3,\n",
    "        name=\"big_selu_conv3d_3\",\n",
    "    )(x_big)\n",
    "    x_big = keras.layers.MaxPooling3D((1, 2, 2), name=\"big_maxpool_3\")(x_big)\n",
    "    x_big = SeluConv3D(\n",
    "        filters=256,\n",
    "        kernel_size=3,\n",
    "        name=\"big_selu_conv3d_4\",\n",
    "    )(x_big)\n",
    "    x_big = keras.layers.MaxPooling3D((1, 2, 2), name=\"big_maxpool_4\")(x_big)\n",
    "    x_big = keras.layers.Flatten(name=\"flatten_big\")(x_big)\n",
    "\n",
    "    x = keras.layers.concatenate([x_small, x_big], name=\"concatenate\")\n",
    "    x = SeluDense(128, name=\"selu_dense\")(x)\n",
    "    x = keras.layers.AlphaDropout(dropout_rate)(x)\n",
    "    x = keras.layers.Dense(1, activation=\"sigmoid\", name=\"final_dense\")(x)\n",
    "\n",
    "    cnn_3d = keras.Model(inputs=[input_small, input_big], outputs=x, name=\"3dcnn\")\n",
    "\n",
    "    return cnn_3d"
   ]
  },
  {
   "cell_type": "code",
   "execution_count": 9,
   "metadata": {},
   "outputs": [],
   "source": [
    "val_perc = 0.1\n",
    "batch_size = 16"
   ]
  },
  {
   "cell_type": "code",
   "execution_count": 10,
   "metadata": {},
   "outputs": [
    {
     "data": {
      "text/plain": [
       "<PrefetchDataset shapes: (((None, None, None, None, None), (None, None, None, None, None)), (None, 1)), types: ((tf.float32, tf.float32), tf.int8)>"
      ]
     },
     "execution_count": 10,
     "metadata": {},
     "output_type": "execute_result"
    }
   ],
   "source": [
    "pretraining_train_dataset, pretraining_val_dataset = train_test_split(\n",
    "    pretraining_dataset, test_perc=val_perc\n",
    ")\n",
    "pretraining_val_dataset = pretraining_val_dataset.batch(batch_size)\n",
    "pretraining_train_dataset = (\n",
    "    pretraining_train_dataset.cache()  # must be called before shuffle\n",
    "    .shuffle(buffer_size=1024, reshuffle_each_iteration=True)\n",
    "    .batch(batch_size)\n",
    "    .prefetch(tf.data.experimental.AUTOTUNE)\n",
    ")\n",
    "pretraining_train_dataset"
   ]
  },
  {
   "cell_type": "code",
   "execution_count": 11,
   "metadata": {},
   "outputs": [],
   "source": [
    "patience = 30\n",
    "learning_rate = 1e-5\n",
    "dropout_rate = 0.0"
   ]
  },
  {
   "cell_type": "code",
   "execution_count": 12,
   "metadata": {},
   "outputs": [
    {
     "name": "stdout",
     "output_type": "stream",
     "text": [
      "\n",
      "Epoch 00001: val_loss improved from inf to 0.23045, saving model to models/3d-cnn.h5\n",
      "\n",
      "Epoch 00002: val_loss improved from 0.23045 to 0.22570, saving model to models/3d-cnn.h5\n",
      "\n",
      "Epoch 00003: val_loss improved from 0.22570 to 0.22095, saving model to models/3d-cnn.h5\n",
      "\n",
      "Epoch 00004: val_loss did not improve from 0.22095\n",
      "\n",
      "Epoch 00005: val_loss improved from 0.22095 to 0.20906, saving model to models/3d-cnn.h5\n",
      "\n",
      "Epoch 00006: val_loss improved from 0.20906 to 0.19980, saving model to models/3d-cnn.h5\n",
      "\n",
      "Epoch 00007: val_loss did not improve from 0.19980\n",
      "\n",
      "Epoch 00008: val_loss did not improve from 0.19980\n",
      "\n",
      "Epoch 00009: val_loss did not improve from 0.19980\n",
      "\n",
      "Epoch 00010: val_loss improved from 0.19980 to 0.19365, saving model to models/3d-cnn.h5\n",
      "\n",
      "Epoch 00011: val_loss did not improve from 0.19365\n",
      "\n",
      "Epoch 00012: val_loss did not improve from 0.19365\n",
      "\n",
      "Epoch 00013: val_loss did not improve from 0.19365\n",
      "\n",
      "Epoch 00014: val_loss did not improve from 0.19365\n",
      "\n",
      "Epoch 00015: val_loss did not improve from 0.19365\n",
      "\n",
      "Epoch 00016: val_loss did not improve from 0.19365\n",
      "\n",
      "Epoch 00017: val_loss did not improve from 0.19365\n",
      "\n",
      "Epoch 00018: val_loss did not improve from 0.19365\n",
      "\n",
      "Epoch 00019: val_loss did not improve from 0.19365\n",
      "\n",
      "Epoch 00020: val_loss did not improve from 0.19365\n",
      "\n",
      "Epoch 00021: val_loss did not improve from 0.19365\n",
      "\n",
      "Epoch 00022: val_loss did not improve from 0.19365\n",
      "\n",
      "Epoch 00023: val_loss improved from 0.19365 to 0.19182, saving model to models/3d-cnn.h5\n",
      "\n",
      "Epoch 00024: val_loss did not improve from 0.19182\n",
      "\n",
      "Epoch 00025: val_loss did not improve from 0.19182\n",
      "\n",
      "Epoch 00026: val_loss did not improve from 0.19182\n",
      "\n",
      "Epoch 00027: val_loss did not improve from 0.19182\n",
      "\n",
      "Epoch 00028: val_loss did not improve from 0.19182\n",
      "\n",
      "Epoch 00029: val_loss improved from 0.19182 to 0.18185, saving model to models/3d-cnn.h5\n",
      "\n",
      "Epoch 00030: val_loss did not improve from 0.18185\n",
      "\n",
      "Epoch 00031: val_loss did not improve from 0.18185\n",
      "\n",
      "Epoch 00032: val_loss did not improve from 0.18185\n",
      "\n",
      "Epoch 00033: val_loss did not improve from 0.18185\n",
      "\n",
      "Epoch 00034: val_loss did not improve from 0.18185\n",
      "\n",
      "Epoch 00035: val_loss did not improve from 0.18185\n",
      "\n",
      "Epoch 00036: val_loss did not improve from 0.18185\n",
      "\n",
      "Epoch 00037: val_loss did not improve from 0.18185\n",
      "\n",
      "Epoch 00038: val_loss did not improve from 0.18185\n",
      "\n",
      "Epoch 00039: val_loss did not improve from 0.18185\n",
      "\n",
      "Epoch 00040: val_loss did not improve from 0.18185\n",
      "\n",
      "Epoch 00041: val_loss did not improve from 0.18185\n",
      "\n",
      "Epoch 00042: val_loss did not improve from 0.18185\n",
      "\n",
      "Epoch 00043: val_loss did not improve from 0.18185\n",
      "\n",
      "Epoch 00044: val_loss did not improve from 0.18185\n",
      "\n",
      "Epoch 00045: val_loss did not improve from 0.18185\n",
      "\n",
      "Epoch 00046: val_loss did not improve from 0.18185\n",
      "\n",
      "Epoch 00047: val_loss did not improve from 0.18185\n",
      "\n",
      "Epoch 00048: val_loss did not improve from 0.18185\n",
      "\n",
      "Epoch 00049: val_loss did not improve from 0.18185\n",
      "\n",
      "Epoch 00050: val_loss did not improve from 0.18185\n",
      "\n",
      "Epoch 00051: val_loss did not improve from 0.18185\n",
      "\n",
      "Epoch 00052: val_loss did not improve from 0.18185\n",
      "\n",
      "Epoch 00053: val_loss did not improve from 0.18185\n",
      "\n",
      "Epoch 00054: val_loss did not improve from 0.18185\n",
      "\n",
      "Epoch 00055: val_loss did not improve from 0.18185\n",
      "\n",
      "Epoch 00056: val_loss did not improve from 0.18185\n",
      "\n",
      "Epoch 00057: val_loss did not improve from 0.18185\n",
      "\n",
      "Epoch 00058: val_loss did not improve from 0.18185\n",
      "\n",
      "Epoch 00059: val_loss did not improve from 0.18185\n"
     ]
    }
   ],
   "source": [
    "cnn = build_3d_cnn(dropout_rate)\n",
    "cnn.compile(\n",
    "    optimizer=keras.optimizers.Adam(learning_rate),\n",
    "    loss=keras.losses.MeanSquaredError(),\n",
    "    metrics=[\n",
    "        keras.metrics.AUC(name=\"auc\"),\n",
    "        keras.metrics.BinaryAccuracy(name=\"accuracy\"),\n",
    "    ],\n",
    ")\n",
    "\n",
    "model_fname = f\"models/3d-cnn.h5\"\n",
    "log_dir = f\"logs/3d-cnn\"\n",
    "cnn = train_model_with_early_stopping(\n",
    "    cnn,\n",
    "    pretraining_train_dataset,\n",
    "    pretraining_val_dataset,\n",
    "    patience,\n",
    "    \"val_loss\",\n",
    "    model_fname,\n",
    "    log_dir,\n",
    "    verbose_checkpoint=1,\n",
    ")"
   ]
  },
  {
   "cell_type": "code",
   "execution_count": 13,
   "metadata": {},
   "outputs": [
    {
     "name": "stdout",
     "output_type": "stream",
     "text": [
      "4/4 [==============================] - 0s 8ms/step - loss: 0.1819 - auc: 0.8080 - accuracy: 0.7273\n"
     ]
    },
    {
     "data": {
      "text/plain": [
       "{'loss': 0.18185381591320038,\n",
       " 'auc': 0.8080000877380371,\n",
       " 'accuracy': 0.7272727489471436}"
      ]
     },
     "execution_count": 13,
     "metadata": {},
     "output_type": "execute_result"
    }
   ],
   "source": [
    "cnn.evaluate(pretraining_val_dataset, return_dict=True)"
   ]
  },
  {
   "cell_type": "code",
   "execution_count": 9,
   "metadata": {},
   "outputs": [],
   "source": [
    "def build_pretrained_3d_cnn():\n",
    "    pretrained_3d_cnn = keras.models.load_model(\"models/3d-cnn.h5\")\n",
    "    pretrained_3d_cnn.trainable = False\n",
    "    x = keras.layers.Dense(1, activation=\"sigmoid\", name=\"final_dense\")(\n",
    "        pretrained_3d_cnn.layers[-3].output\n",
    "    )\n",
    "    return keras.Model(inputs=pretrained_3d_cnn.input, outputs=x)"
   ]
  },
  {
   "cell_type": "code",
   "execution_count": 15,
   "metadata": {},
   "outputs": [],
   "source": [
    "rounds = 10\n",
    "fracs = (1, 5, 10)\n",
    "test_perc = 0.25\n",
    "batch_size = 8\n",
    "learning_rate = 1e-5\n",
    "num_epochs = 10\n",
    "patience = 150\n",
    "dropout_rate = 0.6\n",
    "dataset = subset_dataset\n",
    "metrics = [\n",
    "    keras.metrics.AUC(name=\"auc\"),\n",
    "    keras.metrics.BinaryAccuracy(name=\"accuracy\"),\n",
    "]"
   ]
  },
  {
   "cell_type": "code",
   "execution_count": null,
   "metadata": {},
   "outputs": [
    {
     "data": {
      "application/vnd.jupyter.widget-view+json": {
       "model_id": "a1be7a6a099e4440a38eda11debd050b",
       "version_major": 2,
       "version_minor": 0
      },
      "text/plain": [
       "HBox(children=(HTML(value=''), FloatProgress(value=0.0, max=10.0), HTML(value='')))"
      ]
     },
     "metadata": {},
     "output_type": "display_data"
    }
   ],
   "source": [
    "data = defaultdict(list)\n",
    "for r in tqdm(range(rounds)):\n",
    "    full_train_dataset, test_dataset = train_test_split(\n",
    "        dataset, test_perc=test_perc, seed=None\n",
    "    )\n",
    "    test_dataset = test_dataset.batch(batch_size)\n",
    "    for frac in fracs:\n",
    "        val_dataset, train_dataset = train_test_split(\n",
    "            full_train_dataset, test_perc=(1 / frac), seed=None\n",
    "        )\n",
    "        val_dataset = val_dataset.batch(batch_size)\n",
    "        if sum(1 for _ in val_dataset) == 0:\n",
    "            val_dataset = test_dataset\n",
    "        train_dataset = (\n",
    "            train_dataset.cache()  # must be called before shuffle\n",
    "            .shuffle(buffer_size=1024, reshuffle_each_iteration=True)\n",
    "            .batch(batch_size)\n",
    "            .prefetch(tf.data.experimental.AUTOTUNE)\n",
    "        )\n",
    "\n",
    "        cnn = build_3d_cnn(dropout_rate)\n",
    "        cnn.compile(\n",
    "            optimizer=keras.optimizers.Adam(learning_rate),\n",
    "            loss=keras.losses.MeanSquaredError(),\n",
    "            metrics=metrics,\n",
    "        )\n",
    "        if r == 0:  # first round log the training\n",
    "            callbacks = (\n",
    "                [\n",
    "                    keras.callbacks.TensorBoard(\n",
    "                        log_dir=f\"logs/3d-cnn-wo-pretraining-{frac}\",\n",
    "                        histogram_freq=2,\n",
    "                        write_graph=False,\n",
    "                        profile_batch=0,\n",
    "                    ),\n",
    "                ],\n",
    "            )\n",
    "        else:\n",
    "            callbacks = []\n",
    "        cnn.fit(\n",
    "            train_dataset,\n",
    "            validation_data=val_dataset,\n",
    "            epochs=15,\n",
    "            verbose=0,\n",
    "            callbacks=callbacks,\n",
    "        )\n",
    "        # cnn.load_weights(\"/tmp/3d-cnn-wo-pretraining\")\n",
    "        test_metrics = cnn.evaluate(test_dataset, return_dict=True, verbose=False)\n",
    "        data[\"nn_type\"].append(\"3D CNN W/O pretraining\")\n",
    "        data[\"train_size_fraction\"].append(frac)\n",
    "        data[\"metric\"].append(\"AUC\")\n",
    "        data[\"metric_value\"].append(test_metrics[\"auc\"])\n",
    "        data[\"nn_type\"].append(\"3D CNN W/O pretraining\")\n",
    "        data[\"train_size_fraction\"].append(frac)\n",
    "        data[\"metric\"].append(\"Accuracy\")\n",
    "        data[\"metric_value\"].append(test_metrics[\"accuracy\"])\n",
    "\n",
    "        cnn = build_pretrained_3d_cnn()\n",
    "        cnn.compile(\n",
    "            optimizer=keras.optimizers.Adam(learning_rate),\n",
    "            loss=keras.losses.MeanSquaredError(),\n",
    "            metrics=metrics,\n",
    "        )\n",
    "        if r == 0:  # first round log the training\n",
    "            callbacks = (\n",
    "                [\n",
    "                    keras.callbacks.TensorBoard(\n",
    "                        log_dir=f\"logs/3d-cnn-w-pretraining-{frac}\",\n",
    "                        histogram_freq=2,\n",
    "                        write_graph=False,\n",
    "                        profile_batch=0,\n",
    "                    ),\n",
    "                ],\n",
    "            )\n",
    "        else:\n",
    "            callbacks = []\n",
    "        cnn.fit(\n",
    "            train_dataset,\n",
    "            validation_data=val_dataset,\n",
    "            epochs=3000,\n",
    "            verbose=0,\n",
    "            callbacks=callbacks,\n",
    "        )\n",
    "        # cnn.load_weights(\"/tmp/3d-cnn-w-pretraining\")\n",
    "        test_metrics = cnn.evaluate(test_dataset, return_dict=True, verbose=False)\n",
    "        data[\"nn_type\"].append(\"3D CNN W/ pretraining\")\n",
    "        data[\"train_size_fraction\"].append(frac)\n",
    "        data[\"metric\"].append(\"AUC\")\n",
    "        data[\"metric_value\"].append(test_metrics[\"auc\"])\n",
    "        data[\"nn_type\"].append(\"3D CNN W/ pretraining\")\n",
    "        data[\"train_size_fraction\"].append(frac)\n",
    "        data[\"metric\"].append(\"Accuracy\")\n",
    "        data[\"metric_value\"].append(test_metrics[\"accuracy\"])\n",
    "\n",
    "df = pd.DataFrame(data)\n",
    "df.to_csv(\"frac-training.csv\", index=False)"
   ]
  },
  {
   "cell_type": "code",
   "execution_count": 10,
   "metadata": {},
   "outputs": [
    {
     "data": {
      "text/plain": [
       "<seaborn.axisgrid.FacetGrid at 0x7f364ee81cd0>"
      ]
     },
     "execution_count": 10,
     "metadata": {},
     "output_type": "execute_result"
    },
    {
     "data": {
      "image/png": "[encoded data removed]",
      "text/plain": [
       "<Figure size 877.5x360 with 2 Axes>"
      ]
     },
     "metadata": {
      "needs_background": "light"
     },
     "output_type": "display_data"
    }
   ],
   "source": [
    "df = pd.read_csv(\"frac-training.csv\")\n",
    "sns.catplot(\n",
    "    x=\"train_size_fraction\",\n",
    "    y=\"metric_value\",\n",
    "    hue=\"nn_type\",\n",
    "    col=\"metric\",\n",
    "    kind=\"point\",\n",
    "    data=df,\n",
    ")"
   ]
  },
  {
   "cell_type": "code",
   "execution_count": null,
   "metadata": {},
   "outputs": [],
   "source": []
  }
 ],
 "metadata": {
  "kernelspec": {
   "display_name": "Python 3",
   "language": "python",
   "name": "python3"
  },
  "language_info": {
   "codemirror_mode": {
    "name": "ipython",
    "version": 3
   },
   "file_extension": ".py",
   "mimetype": "text/x-python",
   "name": "python",
   "nbconvert_exporter": "python",
   "pygments_lexer": "ipython3",
   "version": "3.8.0"
  }
 },
 "nbformat": 4,
 "nbformat_minor": 4
}
