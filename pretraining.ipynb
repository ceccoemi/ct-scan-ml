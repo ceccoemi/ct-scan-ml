{
 "cells": [
  {
   "cell_type": "code",
   "execution_count": 1,
   "metadata": {},
   "outputs": [],
   "source": [
    "from collections import defaultdict\n",
    "\n",
    "import numpy as np\n",
    "import tensorflow as tf\n",
    "from tensorflow import keras\n",
    "from tqdm.notebook import tqdm\n",
    "import matplotlib.pyplot as plt\n",
    "import pandas as pd\n",
    "import seaborn as sns\n",
    "\n",
    "from data import classification_dataset, train_test_split\n",
    "from layers import SeluConv3D, SeluDense\n",
    "from plot import plot_slice, plot_volume_animation\n",
    "from config import (\n",
    "    LIDC_SMALL_NEG_TFRECORD,\n",
    "    LIDC_BIG_NEG_TFRECORD,\n",
    "    LIDC_SMALL_POS_TFRECORD,\n",
    "    LIDC_BIG_POS_TFRECORD,\n",
    "    SPIE_SMALL_NEG_TFRECORD,\n",
    "    SPIE_BIG_NEG_TFRECORD,\n",
    "    SPIE_SMALL_POS_TFRECORD,\n",
    "    SPIE_BIG_POS_TFRECORD,\n",
    "    SMALL_PATCH_SHAPE,\n",
    "    BIG_PATCH_SHAPE,\n",
    "    SEED,\n",
    ")\n",
    "\n",
    "%matplotlib inline\n",
    "plt.rcParams[\"figure.figsize\"] = [15, 7]"
   ]
  },
  {
   "cell_type": "code",
   "execution_count": 2,
   "metadata": {},
   "outputs": [
    {
     "name": "stdout",
     "output_type": "stream",
     "text": [
      "lidc_samples = 754\n"
     ]
    },
    {
     "data": {
      "text/plain": [
       "<ShuffleDataset shapes: (((None, None, None, None), (None, None, None, None)), (1,)), types: ((tf.float32, tf.float32), tf.int8)>"
      ]
     },
     "execution_count": 2,
     "metadata": {},
     "output_type": "execute_result"
    }
   ],
   "source": [
    "lidc_dataset, lidc_samples = classification_dataset(\n",
    "    LIDC_SMALL_NEG_TFRECORD,\n",
    "    LIDC_BIG_NEG_TFRECORD,\n",
    "    LIDC_SMALL_POS_TFRECORD,\n",
    "    LIDC_BIG_POS_TFRECORD,\n",
    "    return_size=True,\n",
    ")\n",
    "print(f\"{lidc_samples = }\")\n",
    "lidc_dataset"
   ]
  },
  {
   "cell_type": "code",
   "execution_count": 3,
   "metadata": {},
   "outputs": [],
   "source": [
    "# (small, big), label = next(iter(lidc_dataset.skip(100)))\n",
    "# print(label)\n",
    "# plot_volume_animation(small)"
   ]
  },
  {
   "cell_type": "code",
   "execution_count": 4,
   "metadata": {},
   "outputs": [],
   "source": [
    "def build_3d_cnn(dropout_rate=0.0):\n",
    "    input_small = keras.Input(SMALL_PATCH_SHAPE, name=\"input_small\")\n",
    "    x_small = SeluConv3D(\n",
    "        filters=32,\n",
    "        kernel_size=3,\n",
    "        name=\"small_selu_conv3d_1\",\n",
    "    )(input_small)\n",
    "    x_small = keras.layers.MaxPooling3D((1, 2, 2), name=\"small_maxpool_1\")(x_small)\n",
    "    x_small = SeluConv3D(\n",
    "        filters=64,\n",
    "        kernel_size=3,\n",
    "        name=\"small_selu_conv3d_2\",\n",
    "    )(x_small)\n",
    "    x_small = keras.layers.MaxPooling3D((1, 2, 2), name=\"small_maxpool_2\")(x_small)\n",
    "    x_small = SeluConv3D(\n",
    "        filters=128,\n",
    "        kernel_size=3,\n",
    "        name=\"small_selu_conv3d_3\",\n",
    "    )(x_small)\n",
    "    x_small = keras.layers.MaxPooling3D((1, 2, 2), name=\"small_maxpool_3\")(x_small)\n",
    "    x_small = SeluConv3D(\n",
    "        filters=256,\n",
    "        kernel_size=3,\n",
    "        name=\"small_selu_conv3d_4\",\n",
    "    )(x_small)\n",
    "    x_small = keras.layers.Permute((1, 2, 4, 3), name=\"small_permute_1\")(x_small)\n",
    "    x_small = keras.layers.MaxPooling3D((1, 1, 8), name=\"small_maxpool_4\")(x_small)\n",
    "    x_small = keras.layers.Permute((1, 2, 4, 3), name=\"small_permute_2\")(x_small)\n",
    "    x_small = keras.layers.Flatten(name=\"flatten_small\")(x_small)\n",
    "\n",
    "    input_big = keras.Input(BIG_PATCH_SHAPE, name=\"input_big\")\n",
    "    x_big = keras.layers.MaxPooling3D((2, 2, 2), name=\"big_maxpool_0\")(input_big)\n",
    "    x_big = SeluConv3D(\n",
    "        filters=32,\n",
    "        kernel_size=3,\n",
    "        name=\"big_selu_conv3d_1\",\n",
    "    )(x_big)\n",
    "    x_big = keras.layers.MaxPooling3D((1, 2, 2), name=\"big_maxpool_1\")(x_big)\n",
    "    x_big = SeluConv3D(\n",
    "        filters=64,\n",
    "        kernel_size=3,\n",
    "        name=\"big_selu_conv3d_2\",\n",
    "    )(x_big)\n",
    "    x_big = keras.layers.MaxPooling3D((1, 2, 2), name=\"big_maxpool_2\")(x_big)\n",
    "    x_big = SeluConv3D(\n",
    "        filters=128,\n",
    "        kernel_size=3,\n",
    "        name=\"big_selu_conv3d_3\",\n",
    "    )(x_big)\n",
    "    x_big = keras.layers.MaxPooling3D((1, 2, 2), name=\"big_maxpool_3\")(x_big)\n",
    "    x_big = SeluConv3D(\n",
    "        filters=256,\n",
    "        kernel_size=3,\n",
    "        name=\"big_selu_conv3d_4\",\n",
    "    )(x_big)\n",
    "    x_big = keras.layers.Permute((1, 2, 4, 3), name=\"big_permute_1\")(x_big)\n",
    "    x_big = keras.layers.MaxPooling3D((1, 1, 8), name=\"big_maxpool_4\")(x_big)\n",
    "    x_big = keras.layers.Permute((1, 2, 4, 3), name=\"big_permute_2\")(x_big)\n",
    "    x_big = keras.layers.Flatten(name=\"flatten_big\")(x_big)\n",
    "\n",
    "    x = keras.layers.concatenate([x_small, x_big], name=\"concatenate\")\n",
    "    x = SeluDense(256, name=\"selu_dense\")(x)\n",
    "    x = keras.layers.AlphaDropout(dropout_rate)(x)\n",
    "    x = keras.layers.Dense(1, activation=\"sigmoid\", name=\"final_dense\")(x)\n",
    "\n",
    "    cnn_3d = keras.Model(inputs=[input_small, input_big], outputs=x, name=\"3dcnn\")\n",
    "\n",
    "    return cnn_3d"
   ]
  },
  {
   "cell_type": "code",
   "execution_count": 5,
   "metadata": {},
   "outputs": [],
   "source": [
    "val_perc = 0.1\n",
    "batch_size = 16"
   ]
  },
  {
   "cell_type": "code",
   "execution_count": null,
   "metadata": {},
   "outputs": [],
   "source": [
    "lidc_train_dataset, lidc_val_dataset = train_test_split(\n",
    "    lidc_dataset, test_perc=val_perc\n",
    ")\n",
    "lidc_val_dataset = lidc_val_dataset.batch(batch_size)\n",
    "lidc_train_dataset = (\n",
    "    lidc_train_dataset.cache()  # must be called before shuffle\n",
    "    .shuffle(buffer_size=lidc_samples, reshuffle_each_iteration=True)\n",
    "    .batch(batch_size)\n",
    "    .prefetch(tf.data.experimental.AUTOTUNE)\n",
    ")\n",
    "lidc_train_dataset"
   ]
  },
  {
   "cell_type": "code",
   "execution_count": null,
   "metadata": {},
   "outputs": [],
   "source": [
    "patience = 30\n",
    "learning_rate = 1e-5\n",
    "dropout_rate = 0.0"
   ]
  },
  {
   "cell_type": "code",
   "execution_count": null,
   "metadata": {},
   "outputs": [],
   "source": [
    "cnn = build_3d_cnn(dropout_rate)\n",
    "cnn.compile(\n",
    "    optimizer=keras.optimizers.Adam(learning_rate),\n",
    "    loss=keras.losses.MeanSquaredError(),\n",
    "    metrics=[\n",
    "        keras.metrics.AUC(name=\"auc\"),\n",
    "        keras.metrics.BinaryAccuracy(name=\"accuracy\"),\n",
    "    ],\n",
    ")\n",
    "\n",
    "cnn.fit(\n",
    "    lidc_train_dataset,\n",
    "    validation_data=lidc_val_dataset,\n",
    "    epochs=1000,\n",
    "    verbose=0,\n",
    "    callbacks=[\n",
    "        keras.callbacks.ModelCheckpoint(\n",
    "            \"models/lidc-3d-cnn.h5\",\n",
    "            monitor=\"val_loss\",\n",
    "            save_best_only=True,\n",
    "            verbose=1,\n",
    "        ),\n",
    "        keras.callbacks.EarlyStopping(\n",
    "            monitor=\"val_loss\",\n",
    "            patience=patience,\n",
    "            restore_best_weights=True,\n",
    "        ),\n",
    "        keras.callbacks.TensorBoard(\n",
    "            log_dir=\"logs/lidc-3d-cnn\",\n",
    "            histogram_freq=1,\n",
    "            write_graph=False,\n",
    "            profile_batch=0,\n",
    "        ),\n",
    "    ],\n",
    ")"
   ]
  },
  {
   "cell_type": "code",
   "execution_count": null,
   "metadata": {},
   "outputs": [],
   "source": [
    "cnn.evaluate(lidc_val_dataset, return_dict=True)"
   ]
  },
  {
   "cell_type": "code",
   "execution_count": 6,
   "metadata": {},
   "outputs": [
    {
     "name": "stdout",
     "output_type": "stream",
     "text": [
      "spie_samples = 73\n"
     ]
    },
    {
     "data": {
      "text/plain": [
       "<ShuffleDataset shapes: (((None, None, None, None), (None, None, None, None)), (1,)), types: ((tf.float32, tf.float32), tf.int8)>"
      ]
     },
     "execution_count": 6,
     "metadata": {},
     "output_type": "execute_result"
    }
   ],
   "source": [
    "spie_dataset, spie_samples = classification_dataset(\n",
    "    SPIE_SMALL_NEG_TFRECORD,\n",
    "    SPIE_BIG_NEG_TFRECORD,\n",
    "    SPIE_SMALL_POS_TFRECORD,\n",
    "    SPIE_BIG_POS_TFRECORD,\n",
    "    return_size=True,\n",
    ")\n",
    "print(f\"{spie_samples = }\")\n",
    "spie_dataset"
   ]
  },
  {
   "cell_type": "code",
   "execution_count": 7,
   "metadata": {},
   "outputs": [],
   "source": [
    "def build_pretrained_3d_cnn():\n",
    "    pretrained_3d_cnn = keras.models.load_model(\"models/lidc-3d-cnn.h5\")\n",
    "    pretrained_3d_cnn.trainable = False\n",
    "    x = keras.layers.Dense(1, activation=\"sigmoid\", name=\"final_dense\")(\n",
    "        pretrained_3d_cnn.layers[-3].output\n",
    "    )\n",
    "    return keras.Model(inputs=pretrained_3d_cnn.input, outputs=x)"
   ]
  },
  {
   "cell_type": "code",
   "execution_count": 8,
   "metadata": {},
   "outputs": [],
   "source": [
    "rounds = 10\n",
    "fracs = (1, 2, 3, 4, 5)\n",
    "test_perc = 0.25\n",
    "batch_size = 8\n",
    "learning_rate = 1e-5\n",
    "wo_pretraining_num_epochs = 1000\n",
    "wo_pretraining_patience = 30\n",
    "w_pretraining_num_epochs = 10_000\n",
    "w_pretraining_patience = 5_000\n",
    "dropout_rate = 0.6\n",
    "dataset = spie_dataset\n",
    "metrics = [\n",
    "    keras.metrics.AUC(name=\"auc\"),\n",
    "    keras.metrics.BinaryAccuracy(name=\"accuracy\"),\n",
    "]"
   ]
  },
  {
   "cell_type": "code",
   "execution_count": null,
   "metadata": {},
   "outputs": [
    {
     "data": {
      "application/vnd.jupyter.widget-view+json": {
       "model_id": "11951ea04fa241e58e14de53db88b3d5",
       "version_major": 2,
       "version_minor": 0
      },
      "text/plain": [
       "HBox(children=(HTML(value=''), FloatProgress(value=0.0, max=10.0), HTML(value='')))"
      ]
     },
     "metadata": {},
     "output_type": "display_data"
    }
   ],
   "source": [
    "data = defaultdict(list)\n",
    "for r in tqdm(range(rounds)):\n",
    "    full_train_dataset, test_dataset = train_test_split(\n",
    "        dataset, test_perc=test_perc, seed=None\n",
    "    )\n",
    "    test_dataset = test_dataset.batch(batch_size)\n",
    "    for frac in fracs:\n",
    "        val_dataset, train_dataset = train_test_split(\n",
    "            full_train_dataset, test_perc=(1 / frac), seed=None\n",
    "        )\n",
    "        val_dataset = val_dataset.batch(batch_size)\n",
    "        if sum(1 for _ in val_dataset) == 0:\n",
    "            val_dataset = test_dataset\n",
    "        train_dataset = (\n",
    "            train_dataset.cache()  # must be called before shuffle\n",
    "            .shuffle(buffer_size=1024, reshuffle_each_iteration=True)\n",
    "            .batch(batch_size)\n",
    "            .prefetch(tf.data.experimental.AUTOTUNE)\n",
    "        )\n",
    "\n",
    "        cnn = build_3d_cnn(dropout_rate)\n",
    "        cnn.compile(\n",
    "            optimizer=keras.optimizers.Adam(learning_rate),\n",
    "            loss=keras.losses.MeanSquaredError(),\n",
    "            metrics=metrics,\n",
    "        )\n",
    "        callbacks = [\n",
    "            keras.callbacks.EarlyStopping(\n",
    "                monitor=\"val_loss\",\n",
    "                patience=wo_pretraining_patience,\n",
    "                restore_best_weights=True,\n",
    "            )\n",
    "        ]\n",
    "        if r < 2:  # first two rounds log the training\n",
    "            callbacks.append(\n",
    "                keras.callbacks.TensorBoard(\n",
    "                    log_dir=f\"logs/{r}-3d-cnn-wo-pretraining-{frac}\",\n",
    "                    histogram_freq=2,\n",
    "                    write_graph=False,\n",
    "                    profile_batch=0,\n",
    "                )\n",
    "            )\n",
    "        cnn.fit(\n",
    "            train_dataset,\n",
    "            validation_data=val_dataset,\n",
    "            epochs=wo_pretraining_num_epochs,\n",
    "            verbose=0,\n",
    "            callbacks=callbacks,\n",
    "        )\n",
    "        test_metrics = cnn.evaluate(test_dataset, return_dict=True, verbose=False)\n",
    "        data[\"nn_type\"].append(\"3D CNN W/O pretraining\")\n",
    "        data[\"train_size_fraction\"].append(frac)\n",
    "        data[\"metric\"].append(\"AUC\")\n",
    "        data[\"metric_value\"].append(test_metrics[\"auc\"])\n",
    "        data[\"nn_type\"].append(\"3D CNN W/O pretraining\")\n",
    "        data[\"train_size_fraction\"].append(frac)\n",
    "        data[\"metric\"].append(\"Accuracy\")\n",
    "        data[\"metric_value\"].append(test_metrics[\"accuracy\"])\n",
    "\n",
    "        cnn = build_pretrained_3d_cnn()\n",
    "        cnn.compile(\n",
    "            optimizer=keras.optimizers.Adam(learning_rate),\n",
    "            loss=keras.losses.MeanSquaredError(),\n",
    "            metrics=metrics,\n",
    "        )\n",
    "        callbacks = [\n",
    "            keras.callbacks.EarlyStopping(\n",
    "                monitor=\"val_loss\",\n",
    "                patience=w_pretraining_patience,\n",
    "                restore_best_weights=True,\n",
    "            )\n",
    "        ]\n",
    "        if r < 2:  # first two rounds log the training\n",
    "            callbacks.append(\n",
    "                keras.callbacks.TensorBoard(\n",
    "                    log_dir=f\"logs/{r}-3d-cnn-w-pretraining-{frac}\",\n",
    "                    histogram_freq=2,\n",
    "                    write_graph=False,\n",
    "                    profile_batch=0,\n",
    "                )\n",
    "            )\n",
    "        cnn.fit(\n",
    "            train_dataset,\n",
    "            validation_data=val_dataset,\n",
    "            epochs=w_pretraining_num_epochs,\n",
    "            verbose=0,\n",
    "            callbacks=callbacks,\n",
    "        )\n",
    "        test_metrics = cnn.evaluate(test_dataset, return_dict=True, verbose=False)\n",
    "        data[\"nn_type\"].append(\"3D CNN W/ pretraining\")\n",
    "        data[\"train_size_fraction\"].append(frac)\n",
    "        data[\"metric\"].append(\"AUC\")\n",
    "        data[\"metric_value\"].append(test_metrics[\"auc\"])\n",
    "        data[\"nn_type\"].append(\"3D CNN W/ pretraining\")\n",
    "        data[\"train_size_fraction\"].append(frac)\n",
    "        data[\"metric\"].append(\"Accuracy\")\n",
    "        data[\"metric_value\"].append(test_metrics[\"accuracy\"])\n",
    "\n",
    "df = pd.DataFrame(data)\n",
    "df.to_csv(\"frac-training.csv\", index=False)"
   ]
  },
  {
   "cell_type": "code",
   "execution_count": 2,
   "metadata": {},
   "outputs": [
    {
     "data": {
      "text/plain": [
       "<seaborn.axisgrid.FacetGrid at 0x7feab5f8ef40>"
      ]
     },
     "execution_count": 2,
     "metadata": {},
     "output_type": "execute_result"
    },
    {
     "data": {
      "image/png": "[encoded data removed]",
      "text/plain": [
       "<Figure size 877.5x360 with 2 Axes>"
      ]
     },
     "metadata": {
      "needs_background": "light"
     },
     "output_type": "display_data"
    }
   ],
   "source": [
    "df = pd.read_csv(\"frac-training.csv\")\n",
    "sns.catplot(\n",
    "    x=\"train_size_fraction\",\n",
    "    y=\"metric_value\",\n",
    "    hue=\"nn_type\",\n",
    "    col=\"metric\",\n",
    "    kind=\"point\",\n",
    "    data=df,\n",
    ")"
   ]
  },
  {
   "cell_type": "code",
   "execution_count": null,
   "metadata": {},
   "outputs": [],
   "source": []
  }
 ],
 "metadata": {
  "kernelspec": {
   "display_name": "Python 3",
   "language": "python",
   "name": "python3"
  },
  "language_info": {
   "codemirror_mode": {
    "name": "ipython",
    "version": 3
   },
   "file_extension": ".py",
   "mimetype": "text/x-python",
   "name": "python",
   "nbconvert_exporter": "python",
   "pygments_lexer": "ipython3",
   "version": "3.8.0"
  }
 },
 "nbformat": 4,
 "nbformat_minor": 4
}
