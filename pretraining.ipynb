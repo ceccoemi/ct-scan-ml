{
 "cells": [
  {
   "cell_type": "code",
   "execution_count": 1,
   "metadata": {},
   "outputs": [],
   "source": [
    "import datetime\n",
    "from pathlib import Path\n",
    "\n",
    "import matplotlib.pyplot as plt\n",
    "import numpy as np\n",
    "import tensorflow as tf\n",
    "from tensorflow import keras\n",
    "\n",
    "from model import build_encoder, build_autoencoder\n",
    "from data import example_to_tensor, normalize, add_channel_axis, train_test_split\n",
    "from utils import duplicate_iterator, plot_slice, plot_animated_volume\n",
    "from config import allocate_gpu_memory_only_when_needed, data_root_dir, seed\n",
    "\n",
    "%matplotlib inline\n",
    "plt.rcParams[\"figure.figsize\"] = [15, 7]"
   ]
  },
  {
   "cell_type": "code",
   "execution_count": 2,
   "metadata": {},
   "outputs": [],
   "source": [
    "# from tensorflow.keras.mixed_precision import experimental as mixed_precision\n",
    "#\n",
    "# policy = mixed_precision.Policy(\"mixed_float16\")\n",
    "##policy = mixed_precision.Policy(\"float32\")\n",
    "# mixed_precision.set_policy(policy)\n",
    "# print(\"Compute dtype: %s\" % policy.compute_dtype)\n",
    "# print(\"Variable dtype: %s\" % policy.variable_dtype)"
   ]
  },
  {
   "cell_type": "code",
   "execution_count": 3,
   "metadata": {},
   "outputs": [],
   "source": [
    "downscaling = 2\n",
    "if downscaling == 4:\n",
    "    input_shape = (24, 128, 128, 1)\n",
    "    tfrecord_glob = \"CT-[0-4]-0.25/*.tfrecord\"\n",
    "elif downscaling == 2:\n",
    "    input_shape = (48, 256, 256, 1)\n",
    "    tfrecord_glob = \"CT-[0-4]-0.5/*.tfrecord\"\n",
    "elif downscaling == 1:\n",
    "    input_shape = (96, 512, 512, 1)\n",
    "    tfrecord_glob = \"CT-[0-4]/*.tfrecord\"\n",
    "else:\n",
    "    raise RuntimeError(\"Downscaling not supported\")\n",
    "\n",
    "encoder_num_filters = [32, 64, 128]\n",
    "epochs = 1000\n",
    "patience = 20\n",
    "batch_size = 8\n",
    "learning_rate = 0.0001\n",
    "val_perc = 0.2"
   ]
  },
  {
   "cell_type": "code",
   "execution_count": 4,
   "metadata": {},
   "outputs": [
    {
     "name": "stdout",
     "output_type": "stream",
     "text": [
      "Number of samples: 1110\n"
     ]
    },
    {
     "data": {
      "text/plain": [
       "<ParallelMapDataset shapes: (None, None, None, 1), types: tf.float32>"
      ]
     },
     "execution_count": 4,
     "metadata": {},
     "output_type": "execute_result"
    }
   ],
   "source": [
    "tfrecord_fnames = [str(p) for p in Path(data_root_dir).glob(tfrecord_glob)]\n",
    "dataset = (\n",
    "    tf.data.TFRecordDataset(tfrecord_fnames)\n",
    "    .map(example_to_tensor, num_parallel_calls=tf.data.experimental.AUTOTUNE)\n",
    "    .map(normalize, num_parallel_calls=tf.data.experimental.AUTOTUNE)\n",
    "    .map(add_channel_axis, num_parallel_calls=tf.data.experimental.AUTOTUNE)\n",
    ")\n",
    "num_samples = sum(1 for _ in dataset)\n",
    "# num_samples = 1110   # CT-[0-4]\n",
    "print(f\"Number of samples: {num_samples}\")\n",
    "dataset"
   ]
  },
  {
   "cell_type": "code",
   "execution_count": 8,
   "metadata": {},
   "outputs": [
    {
     "data": {
      "text/plain": [
       "<PrefetchDataset shapes: (<unknown>, <unknown>), types: (tf.float32, tf.float32)>"
      ]
     },
     "execution_count": 8,
     "metadata": {},
     "output_type": "execute_result"
    }
   ],
   "source": [
    "unsupervised_train_ds, unsupervised_val_ds = train_test_split(\n",
    "    dataset,\n",
    "    test_perc=val_perc,\n",
    "    cardinality=num_samples,\n",
    "    seed=seed,\n",
    ")\n",
    "unsupervised_val_ds = unsupervised_val_ds.padded_batch(batch_size, input_shape)\n",
    "val_ds_gen = duplicate_iterator(unsupervised_val_ds)\n",
    "unsupervised_val_ds = (\n",
    "    tf.data.Dataset.from_generator(lambda: val_ds_gen, (tf.float32, tf.float32))\n",
    "    .cache()\n",
    "    .prefetch(tf.data.experimental.AUTOTUNE)\n",
    ")\n",
    "unsupervised_train_ds = unsupervised_train_ds.padded_batch(batch_size, input_shape)\n",
    "train_ds_gen = duplicate_iterator(unsupervised_train_ds)\n",
    "unsupervised_train_ds = (\n",
    "    tf.data.Dataset.from_generator(lambda: train_ds_gen, (tf.float32, tf.float32))\n",
    "    .cache()  # must be called before shuffle\n",
    "    .shuffle(buffer_size=64, reshuffle_each_iteration=True)\n",
    "    .prefetch(tf.data.experimental.AUTOTUNE)\n",
    ")\n",
    "unsupervised_train_ds"
   ]
  },
  {
   "cell_type": "code",
   "execution_count": null,
   "metadata": {},
   "outputs": [],
   "source": [
    "autoencoder = build_autoencoder(input_shape, encoder_num_filters)\n",
    "autoencoder.get_layer(\"encoder\").summary()\n",
    "autoencoder.get_layer(\"decoder\").summary()\n",
    "autoencoder.summary()"
   ]
  },
  {
   "cell_type": "code",
   "execution_count": null,
   "metadata": {},
   "outputs": [],
   "source": [
    "autoencoder.compile(\n",
    "    optimizer=keras.optimizers.Adam(learning_rate),\n",
    "    loss=keras.losses.MeanSquaredError(),\n",
    ")\n",
    "\n",
    "start_time = datetime.datetime.now().strftime(\"%Y%m%d-%H%M%S\")\n",
    "best_checkpoint = f\"models/autoencoder-{start_time}.h5\"\n",
    "checkpoint_cb = keras.callbacks.ModelCheckpoint(\n",
    "    best_checkpoint, monitor=\"val_loss\", verbose=1, save_best_only=True\n",
    ")\n",
    "early_stopping_cb = keras.callbacks.EarlyStopping(\n",
    "    monitor=\"val_loss\",\n",
    "    patience=patience,\n",
    ")\n",
    "log_dir = f\"logs/autoencoder-{start_time}\"\n",
    "file_writer = tf.summary.create_file_writer(log_dir)\n",
    "tensorboard_cb = tf.keras.callbacks.TensorBoard(\n",
    "    log_dir=log_dir,\n",
    "    histogram_freq=1,\n",
    "    write_graph=False,\n",
    "    profile_batch=0,\n",
    ")\n",
    "autoencoder.fit(\n",
    "    unsupervised_train_ds,\n",
    "    validation_data=unsupervised_val_ds,\n",
    "    epochs=epochs,\n",
    "    callbacks=[checkpoint_cb, early_stopping_cb, tensorboard_cb],\n",
    ")\n",
    "with file_writer.as_default():\n",
    "    tf.summary.text(\n",
    "        \"Hyperparameters\",\n",
    "        f\"{downscaling=}; \"\n",
    "        f\"{encoder_num_filters=}; \"\n",
    "        f\"{epochs=}; \"\n",
    "        f\"{patience=}; \"\n",
    "        f\"{batch_size=}; \"\n",
    "        f\"{learning_rate=}; \"\n",
    "        f\"{unsupervised_val_perc=}\",\n",
    "        step=0,\n",
    "    )\n",
    "autoencoder = keras.models.load_model(best_checkpoint)"
   ]
  },
  {
   "cell_type": "code",
   "execution_count": null,
   "metadata": {},
   "outputs": [],
   "source": [
    "autoencoder = keras.models.load_model(\"models/autoencoder-20201022-180425.h5\")\n",
    "original, _ = next(iter(unsupervised_val_ds.skip(4)))\n",
    "encoder_out = autoencoder.get_layer(\"encoder\")(original, training=False)\n",
    "decoder_out = autoencoder.get_layer(\"decoder\")(encoder_out, training=False)\n",
    "batch_index = 0"
   ]
  },
  {
   "cell_type": "code",
   "execution_count": null,
   "metadata": {},
   "outputs": [],
   "source": [
    "plot_animated_volume(original[0, :], fps=2)"
   ]
  },
  {
   "cell_type": "code",
   "execution_count": null,
   "metadata": {},
   "outputs": [],
   "source": [
    "z_index = 13\n",
    "fig, ax = plt.subplots(ncols=3)\n",
    "plot_slice(original[batch_index, :], z_index, ax[0])\n",
    "plot_slice(encoder_out[batch_index, :], encoder_out.shape[1] // 3, ax[1])\n",
    "plot_slice(decoder_out[batch_index, :], z_index, ax[2])"
   ]
  },
  {
   "cell_type": "code",
   "execution_count": null,
   "metadata": {},
   "outputs": [],
   "source": []
  },
  {
   "cell_type": "code",
   "execution_count": null,
   "metadata": {},
   "outputs": [],
   "source": [
    "pretrained = False\n",
    "if pretrained:\n",
    "    encoder = keras.models.load_model(\n",
    "        \"models/autoencoder-20201023-112618.h5\"\n",
    "    ).get_layer(\"encoder\")\n",
    "    encoder.trainable = False\n",
    "else:\n",
    "    encoder = build_encoder(input_shape)\n",
    "encoder.summary()"
   ]
  },
  {
   "cell_type": "code",
   "execution_count": null,
   "metadata": {},
   "outputs": [],
   "source": [
    "cnn = keras.Sequential(\n",
    "    [\n",
    "        encoder,\n",
    "        keras.layers.Flatten(),\n",
    "        keras.layers.Dense(\n",
    "            512,\n",
    "            kernel_initializer=\"lecun_normal\",\n",
    "            bias_initializer=\"lecun_normal\",\n",
    "            activation=\"selu\",\n",
    "        ),\n",
    "        keras.layers.AlphaDropout(0.3),\n",
    "        keras.layers.Dense(1, activation=\"sigmoid\"),\n",
    "    ],\n",
    "    name=\"cnn\",\n",
    ")\n",
    "cnn.summary()"
   ]
  },
  {
   "cell_type": "code",
   "execution_count": null,
   "metadata": {},
   "outputs": [],
   "source": [
    "cnn.compile(\n",
    "    optimizer=keras.optimizers.Adam(learning_rate),\n",
    "    loss=keras.losses.BinaryCrossentropy(),\n",
    "    metrics=[\n",
    "        keras.metrics.TruePositives(name=\"tp\"),\n",
    "        keras.metrics.FalsePositives(name=\"fp\"),\n",
    "        keras.metrics.TrueNegatives(name=\"tn\"),\n",
    "        keras.metrics.FalseNegatives(name=\"fn\"),\n",
    "        keras.metrics.BinaryAccuracy(name=\"accuracy\"),\n",
    "        keras.metrics.Precision(name=\"precision\"),\n",
    "        keras.metrics.Recall(name=\"recall\"),\n",
    "        keras.metrics.AUC(name=\"auc\"),\n",
    "    ],\n",
    ")\n",
    "\n",
    "start_time = datetime.datetime.now().strftime(\"%Y%m%d-%H%M%S\")\n",
    "best_checkpoint = f\"models/{'pretrained-' if pretrained else ''}{start_time}.h5\"\n",
    "checkpoint_cb = keras.callbacks.ModelCheckpoint(\n",
    "    best_checkpoint, monitor=\"val_auc\", mode=\"max\", verbose=1, save_best_only=True\n",
    ")\n",
    "early_stopping_cb = keras.callbacks.EarlyStopping(\n",
    "    monitor=\"val_auc\", patience=patience, mode=\"max\"\n",
    ")\n",
    "log_dir = f\"logs/{'pretrained-' if pretrained else ''}{start_time}\"\n",
    "file_writer = tf.summary.create_file_writer(log_dir)\n",
    "tensorboard_cb = tf.keras.callbacks.TensorBoard(\n",
    "    log_dir=f\"logs/{'pretrained-' if pretrained else ''}{start_time}\",\n",
    "    histogram_freq=1,\n",
    "    write_graph=False,\n",
    "    profile_batch=0,\n",
    ")\n",
    "cnn.fit(\n",
    "    train_dataset,\n",
    "    validation_data=val_dataset,\n",
    "    epochs=epochs,\n",
    "    callbacks=[checkpoint_cb, early_stopping_cb, tensorboard_cb],\n",
    ")\n",
    "with file_writer.as_default():\n",
    "    tf.summary.text(\n",
    "        \"Hyperparameters\",\n",
    "        f\"{downscaling=}; \"\n",
    "        f\"{encoder_num_filters=}; \"\n",
    "        f\"{epochs=}; \"\n",
    "        f\"{patience=}; \"\n",
    "        f\"{batch_size=}; \"\n",
    "        f\"{learning_rate=}; \"\n",
    "        f\"{unsupervised_val_perc=}\",\n",
    "        step=0,\n",
    "    )\n",
    "cnn = keras.models.load_model(best_checkpoint)"
   ]
  },
  {
   "cell_type": "code",
   "execution_count": null,
   "metadata": {},
   "outputs": [],
   "source": [
    "cnn = keras.models.load_model(\"models/20201021-213411.h5\")\n",
    "cnn.evaluate(test_dataset, verbose=0, return_dict=True)"
   ]
  },
  {
   "cell_type": "code",
   "execution_count": null,
   "metadata": {},
   "outputs": [],
   "source": [
    "cnn = keras.models.load_model(\"models/pretrained-20201021-230015.h5\")\n",
    "cnn.evaluate(test_dataset, verbose=0, return_dict=True)"
   ]
  },
  {
   "cell_type": "code",
   "execution_count": null,
   "metadata": {},
   "outputs": [],
   "source": [
    "x, y = next(iter(test_dataset.skip(6)))\n",
    "prediction = cnn(x, training=False)\n",
    "print(f\"real: {y.numpy()}, prediction: {prediction.numpy()}\")\n",
    "plot_animated_volume(x[0, :], fps=1)"
   ]
  },
  {
   "cell_type": "code",
   "execution_count": null,
   "metadata": {},
   "outputs": [],
   "source": []
  }
 ],
 "metadata": {
  "kernelspec": {
   "display_name": "Python 3",
   "language": "python",
   "name": "python3"
  },
  "language_info": {
   "codemirror_mode": {
    "name": "ipython",
    "version": 3
   },
   "file_extension": ".py",
   "mimetype": "text/x-python",
   "name": "python",
   "nbconvert_exporter": "python",
   "pygments_lexer": "ipython3",
   "version": "3.8.0"
  }
 },
 "nbformat": 4,
 "nbformat_minor": 4
}
