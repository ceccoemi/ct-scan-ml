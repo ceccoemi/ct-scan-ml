{
 "cells": [
  {
   "cell_type": "code",
   "execution_count": 1,
   "metadata": {},
   "outputs": [
    {
     "name": "stdout",
     "output_type": "stream",
     "text": [
      "Tensorflow: 2.3.0\n"
     ]
    }
   ],
   "source": [
    "import datetime\n",
    "from pathlib import Path\n",
    "\n",
    "import numpy as np\n",
    "import tensorflow as tf\n",
    "from tensorflow import keras\n",
    "from tqdm.notebook import tqdm\n",
    "import matplotlib.pyplot as plt\n",
    "\n",
    "from data import example_to_tensor\n",
    "from train import EarlyStopping\n",
    "from utils import plot_slice, plot_animated_volume\n",
    "\n",
    "print(f\"Tensorflow: {tf.__version__}\")\n",
    "tf.compat.v1.logging.set_verbosity(tf.compat.v1.logging.ERROR)\n",
    "\n",
    "%matplotlib inline\n",
    "plt.rcParams[\"figure.figsize\"] = [15, 7]"
   ]
  },
  {
   "cell_type": "code",
   "execution_count": 2,
   "metadata": {},
   "outputs": [],
   "source": [
    "verbose_training = True\n",
    "# Hyperparameters\n",
    "epochs = 1000\n",
    "learning_rate = 0.0001\n",
    "patience = 5\n",
    "batch_size = 2\n",
    "test_size = 1\n",
    "validation_size = 1\n",
    "xy_size = 128  # downscale 4\n",
    "#z_size = 96  # downscale 4 (nrrd)\n",
    "z_size = 244  # downscale 4 (tcia)\n",
    "# xy_size = 256  # downscale 2\n",
    "# z_size = 176  # downscale 2\n",
    "# xy_size = 512   # original\n",
    "# z_size = 368    # original"
   ]
  },
  {
   "cell_type": "code",
   "execution_count": 3,
   "metadata": {},
   "outputs": [],
   "source": [
    "def normalize(t):\n",
    "    \"Normalize the input tensor in [0, 1]\"\n",
    "    max_value = tf.reduce_max(t)\n",
    "    min_value = tf.reduce_min(t)\n",
    "    return (t - min_value) / (max_value - min_value)"
   ]
  },
  {
   "cell_type": "code",
   "execution_count": 16,
   "metadata": {},
   "outputs": [
    {
     "data": {
      "text/plain": [
       "<ShuffleDataset shapes: (None, 244, 128, 128, 1), types: tf.float32>"
      ]
     },
     "execution_count": 16,
     "metadata": {},
     "output_type": "execute_result"
    }
   ],
   "source": [
    "data_dir = Path(\"data/tcia-0.25\")\n",
    "tfrecord_fnames = [str(p) for p in data_dir.glob(\"*.tfrecord\")]\n",
    "dataset = tf.data.TFRecordDataset(tfrecord_fnames)\n",
    "dataset = dataset.map(example_to_tensor)\n",
    "dataset = dataset.map(normalize)\n",
    "dataset = dataset.map(lambda x: tf.expand_dims(x, axis=-1))  # add the channel dimension\n",
    "dataset = dataset.padded_batch(\n",
    "    batch_size=2, \n",
    "    padded_shapes=[z_size, xy_size, xy_size, 1],\n",
    ")\n",
    "#dataset = dataset.prefetch(1)\n",
    "test_dataset = dataset.take(test_size)\n",
    "dataset = dataset.skip(test_size)\n",
    "val_dataset = dataset.take(validation_size)\n",
    "train_dataset = dataset.skip(validation_size)\n",
    "train_dataset = train_dataset.shuffle(buffer_size=32, reshuffle_each_iteration=True)\n",
    "train_dataset"
   ]
  },
  {
   "cell_type": "code",
   "execution_count": 17,
   "metadata": {
    "scrolled": false
   },
   "outputs": [
    {
     "name": "stdout",
     "output_type": "stream",
     "text": [
      "Model: \"sequential_3\"\n",
      "_________________________________________________________________\n",
      "Layer (type)                 Output Shape              Param #   \n",
      "=================================================================\n",
      "conv3d_4 (Conv3D)            (None, 244, 128, 128, 8)  224       \n",
      "_________________________________________________________________\n",
      "activation_5 (Activation)    (None, 244, 128, 128, 8)  0         \n",
      "_________________________________________________________________\n",
      "alpha_dropout_4 (AlphaDropou (None, 244, 128, 128, 8)  0         \n",
      "_________________________________________________________________\n",
      "max_pooling3d_2 (MaxPooling3 (None, 122, 64, 64, 8)    0         \n",
      "_________________________________________________________________\n",
      "conv3d_5 (Conv3D)            (None, 122, 64, 64, 16)   3472      \n",
      "_________________________________________________________________\n",
      "activation_6 (Activation)    (None, 122, 64, 64, 16)   0         \n",
      "_________________________________________________________________\n",
      "alpha_dropout_5 (AlphaDropou (None, 122, 64, 64, 16)   0         \n",
      "_________________________________________________________________\n",
      "max_pooling3d_3 (MaxPooling3 (None, 61, 32, 32, 16)    0         \n",
      "=================================================================\n",
      "Total params: 3,696\n",
      "Trainable params: 3,696\n",
      "Non-trainable params: 0\n",
      "_________________________________________________________________\n"
     ]
    }
   ],
   "source": [
    "encoder = keras.models.Sequential(\n",
    "    [\n",
    "        keras.layers.Conv3D(\n",
    "            input_shape=[z_size, xy_size, xy_size, 1],\n",
    "            filters=8,\n",
    "            kernel_size=3,\n",
    "            padding=\"same\",\n",
    "            kernel_initializer=\"lecun_normal\",\n",
    "            bias_initializer=\"lecun_normal\",\n",
    "        ),\n",
    "        keras.layers.Activation(\"selu\"),\n",
    "        keras.layers.AlphaDropout(0.25),\n",
    "        keras.layers.MaxPool3D(pool_size=2),\n",
    "        keras.layers.Conv3D(\n",
    "            filters=16,\n",
    "            kernel_size=3,\n",
    "            padding=\"same\",\n",
    "            kernel_initializer=\"lecun_normal\",\n",
    "            bias_initializer=\"lecun_normal\",\n",
    "        ),\n",
    "        keras.layers.Activation(\"selu\"),\n",
    "        keras.layers.AlphaDropout(0.25),\n",
    "        keras.layers.MaxPool3D(pool_size=2),\n",
    "    ]\n",
    ")\n",
    "encoder.summary()"
   ]
  },
  {
   "cell_type": "code",
   "execution_count": 18,
   "metadata": {},
   "outputs": [
    {
     "name": "stdout",
     "output_type": "stream",
     "text": [
      "Model: \"sequential_4\"\n",
      "_________________________________________________________________\n",
      "Layer (type)                 Output Shape              Param #   \n",
      "=================================================================\n",
      "up_sampling3d_2 (UpSampling3 (None, 122, 64, 64, 16)   0         \n",
      "_________________________________________________________________\n",
      "conv3d_6 (Conv3D)            (None, 122, 64, 64, 16)   6928      \n",
      "_________________________________________________________________\n",
      "activation_7 (Activation)    (None, 122, 64, 64, 16)   0         \n",
      "_________________________________________________________________\n",
      "alpha_dropout_6 (AlphaDropou (None, 122, 64, 64, 16)   0         \n",
      "_________________________________________________________________\n",
      "up_sampling3d_3 (UpSampling3 (None, 244, 128, 128, 16) 0         \n",
      "_________________________________________________________________\n",
      "conv3d_7 (Conv3D)            (None, 244, 128, 128, 8)  3464      \n",
      "_________________________________________________________________\n",
      "activation_8 (Activation)    (None, 244, 128, 128, 8)  0         \n",
      "_________________________________________________________________\n",
      "alpha_dropout_7 (AlphaDropou (None, 244, 128, 128, 8)  0         \n",
      "_________________________________________________________________\n",
      "dense_1 (Dense)              (None, 244, 128, 128, 1)  9         \n",
      "_________________________________________________________________\n",
      "activation_9 (Activation)    (None, 244, 128, 128, 1)  0         \n",
      "=================================================================\n",
      "Total params: 10,401\n",
      "Trainable params: 10,401\n",
      "Non-trainable params: 0\n",
      "_________________________________________________________________\n"
     ]
    }
   ],
   "source": [
    "decoder = keras.models.Sequential(\n",
    "    [\n",
    "        keras.layers.UpSampling3D(\n",
    "            input_shape=encoder.layers[-1].output.shape[1:], size=2,\n",
    "        ),\n",
    "        keras.layers.Conv3D(\n",
    "            filters=16,\n",
    "            kernel_size=3,\n",
    "            padding=\"same\",\n",
    "            kernel_initializer=\"lecun_normal\",\n",
    "            bias_initializer=\"lecun_normal\",\n",
    "        ),\n",
    "        keras.layers.Activation(\"selu\"),\n",
    "        keras.layers.AlphaDropout(0.25),\n",
    "        keras.layers.UpSampling3D(size=2,),\n",
    "        keras.layers.Conv3D(\n",
    "            filters=8,\n",
    "            kernel_size=3,\n",
    "            padding=\"same\",\n",
    "            kernel_initializer=\"lecun_normal\",\n",
    "            bias_initializer=\"lecun_normal\",\n",
    "        ),\n",
    "        keras.layers.Activation(\"selu\"),\n",
    "        keras.layers.AlphaDropout(0.25),\n",
    "        keras.layers.Dense(1),\n",
    "        keras.layers.Activation(\"sigmoid\"),\n",
    "    ]\n",
    ")\n",
    "decoder.summary()"
   ]
  },
  {
   "cell_type": "code",
   "execution_count": 19,
   "metadata": {},
   "outputs": [
    {
     "name": "stdout",
     "output_type": "stream",
     "text": [
      "Model: \"sequential_5\"\n",
      "_________________________________________________________________\n",
      "Layer (type)                 Output Shape              Param #   \n",
      "=================================================================\n",
      "sequential_3 (Sequential)    (None, 61, 32, 32, 16)    3696      \n",
      "_________________________________________________________________\n",
      "sequential_4 (Sequential)    (None, 244, 128, 128, 1)  10401     \n",
      "=================================================================\n",
      "Total params: 14,097\n",
      "Trainable params: 14,097\n",
      "Non-trainable params: 0\n",
      "_________________________________________________________________\n"
     ]
    }
   ],
   "source": [
    "autoencoder = keras.models.Sequential([encoder, decoder])\n",
    "# autoencoder.load_weights(\"models/autoencoder/20200723-103317/best_epoch_ckpt\")\n",
    "# autoencoder = keras.models.load_model(\"models/autoencoder/20200823-110737/\")\n",
    "autoencoder.summary()"
   ]
  },
  {
   "cell_type": "code",
   "execution_count": 20,
   "metadata": {},
   "outputs": [],
   "source": [
    "loss_fn = keras.losses.MeanSquaredError()\n",
    "optimizer = keras.optimizers.Adam(lr=learning_rate)"
   ]
  },
  {
   "cell_type": "code",
   "execution_count": null,
   "metadata": {
    "scrolled": true
   },
   "outputs": [
    {
     "data": {
      "application/vnd.jupyter.widget-view+json": {
       "model_id": "59d929706fb542fd946df83ba9aea4e2",
       "version_major": 2,
       "version_minor": 0
      },
      "text/plain": [
       "HBox(children=(FloatProgress(value=0.0, max=1000.0), HTML(value='')))"
      ]
     },
     "metadata": {},
     "output_type": "display_data"
    },
    {
     "name": "stdout",
     "output_type": "stream",
     "text": [
      "\n",
      "Epoch : 0\n",
      "Training loss: 0.009702341631054878\n",
      "Validation loss: 0.0018241752404719591\n",
      "\n",
      "Epoch : 1\n",
      "Training loss: 0.0015542582841590047\n",
      "Validation loss: 0.0012430717470124364\n",
      "\n",
      "Epoch : 2\n",
      "Training loss: 0.0011069163447245955\n",
      "Validation loss: 0.0010182594414800406\n",
      "\n",
      "Epoch : 3\n",
      "Training loss: 0.0009315984207205474\n",
      "Validation loss: 0.0009205001988448203\n",
      "\n",
      "Epoch : 4\n",
      "Training loss: 0.0008268418605439365\n",
      "Validation loss: 0.0008787276456132531\n"
     ]
    }
   ],
   "source": [
    "current_time = datetime.datetime.now().strftime(\"%Y%m%d-%H%M%S\")\n",
    "log_dir = f\"logs/autoencoder/{current_time}/\"\n",
    "model_dir = f\"models/autoencoder/{current_time}/\"\n",
    "ckpt_dir = model_dir + \"best_epoch_ckpt\"\n",
    "writer = tf.summary.create_file_writer(log_dir)\n",
    "early_stopping = EarlyStopping(patience)\n",
    "\n",
    "for epoch in tqdm(range(epochs), disable=False):\n",
    "    \n",
    "    ### TRAIN ###\n",
    "    \n",
    "    train_loss_metric = tf.keras.metrics.Mean(\"train_loss\", dtype=tf.float32)\n",
    "    for batch in train_dataset:\n",
    "        with tf.GradientTape() as tape:\n",
    "            predictions = autoencoder(batch)\n",
    "            loss_value = loss_fn(predictions, batch)\n",
    "        gradients = tape.gradient(loss_value, autoencoder.trainable_variables)\n",
    "        optimizer.apply_gradients(zip(gradients, autoencoder.trainable_variables))\n",
    "        train_loss_metric.update_state(loss_value)\n",
    "        #with writer.as_default():\n",
    "        #    for grad, param in zip(gradients, autoencoder.trainable_variables):\n",
    "        #        tf.summary.histogram(param.name, param, step=epoch)\n",
    "        #        # tf.summary.histogram(param.name + \"/grad\", grad, buckets=1, step=epoch)\n",
    "\n",
    "    train_loss_mean = train_loss_metric.result()\n",
    "    with writer.as_default():\n",
    "        tf.summary.scalar(\"Training loss\", train_loss_mean, step=epoch)\n",
    "    train_loss_metric.reset_states()\n",
    "   \n",
    "   ### VALIDATION ###\n",
    "\n",
    "    val_loss_metric = tf.keras.metrics.Mean(\"val_loss\", dtype=tf.float32)\n",
    "    for batch in val_dataset:\n",
    "        predictions = autoencoder(batch)\n",
    "        val_loss_metric.update_state(loss_fn(predictions, batch))\n",
    "\n",
    "    val_loss_mean = val_loss_metric.result()\n",
    "    with writer.as_default():\n",
    "        tf.summary.scalar(\"Validation loss\", val_loss_mean, step=epoch)\n",
    "    val_loss_metric.reset_states()\n",
    "\n",
    "    if verbose_training:\n",
    "        print()\n",
    "        print(f\"Epoch : {epoch}\")\n",
    "        print(f\"Training loss: {train_loss_mean}\")\n",
    "        print(f\"Validation loss: {val_loss_mean}\")\n",
    "    \n",
    "    ### EARLY STOPPING ###\n",
    "    \n",
    "    early_stopping.update(val_loss_mean)\n",
    "    if early_stopping.early_stop:\n",
    "        autoencoder.load_weights(ckpt_dir)\n",
    "        break\n",
    "    elif early_stopping.not_improving_epochs == 0:\n",
    "        autoencoder.save_weights(ckpt_dir)\n",
    "\n",
    "autoencoder.save(model_dir)\n",
    "\n",
    "with writer.as_default():\n",
    "    tf.summary.text(\n",
    "        \"Hyperparameters\",\n",
    "        f\"batch size = {batch_size}; \"\n",
    "        f\"patience = {patience}; \"\n",
    "        f\"learning rate = {learning_rate}\",\n",
    "        step=0,\n",
    "    )"
   ]
  },
  {
   "cell_type": "code",
   "execution_count": null,
   "metadata": {},
   "outputs": [],
   "source": [
    "%reload_ext tensorboard\n",
    "%tensorboard --logdir=logs --bind_all"
   ]
  },
  {
   "cell_type": "code",
   "execution_count": null,
   "metadata": {},
   "outputs": [],
   "source": [
    "scan = next(iter(dataset))\n",
    "prediction = autoencoder(scan)\n",
    "plot_slice(prediction, 0, 5)"
   ]
  },
  {
   "cell_type": "code",
   "execution_count": null,
   "metadata": {},
   "outputs": [],
   "source": [
    "encoder_input = next(iter(test_dataset))\n",
    "fig, ax = plt.subplots(ncols=3)\n",
    "batch_index = 0\n",
    "z_index = 30\n",
    "plot_slice(encoder_input, batch_index, z_index, ax[0])\n",
    "encoder_out = autoencoder.layers[0](encoder_input)\n",
    "plot_slice(encoder_out, batch_index, encoder_out.shape[1] // 3, ax[1])\n",
    "decoder_out = autoencoder.layers[1](encoder_out)\n",
    "plot_slice(decoder_out, batch_index, z_index, ax[2])\n",
    "#ax[0].imshow(tf.cast(i[sample, 0, :, :, 0], tf.float32), cmap=\"gray\")\n",
    "#encoder_out = autoencoder.layers[0](i)\n",
    "#ax[1].imshow(tf.cast(encoder_out[sample, 0, :, :, 0], tf.float32), cmap=\"gray\")\n",
    "#decoder_out = autoencoder.layers[1](encoder_out)\n",
    "#ax[2].imshow(tf.cast(decoder_out[sample, 0, :, :, 0], tf.float32), cmap=\"gray\")"
   ]
  }
 ],
 "metadata": {
  "kernelspec": {
   "display_name": "Python 3",
   "language": "python",
   "name": "python3"
  },
  "language_info": {
   "codemirror_mode": {
    "name": "ipython",
    "version": 3
   },
   "file_extension": ".py",
   "mimetype": "text/x-python",
   "name": "python",
   "nbconvert_exporter": "python",
   "pygments_lexer": "ipython3",
   "version": "3.6.6"
  }
 },
 "nbformat": 4,
 "nbformat_minor": 4
}
