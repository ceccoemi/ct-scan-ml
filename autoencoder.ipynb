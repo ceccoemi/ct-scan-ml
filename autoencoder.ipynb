{
 "cells": [
  {
   "cell_type": "code",
   "execution_count": 1,
   "metadata": {},
   "outputs": [
    {
     "name": "stdout",
     "output_type": "stream",
     "text": [
      "Tensorflow: 2.3.0\n"
     ]
    }
   ],
   "source": [
    "import datetime\n",
    "from pathlib import Path\n",
    "\n",
    "import numpy as np\n",
    "import tensorflow as tf\n",
    "from tensorflow import keras\n",
    "from tqdm.notebook import tqdm\n",
    "import matplotlib.pyplot as plt\n",
    "\n",
    "from data import example_to_tensor\n",
    "from train import EarlyStopping\n",
    "from utils import plot_slice, plot_animated_volume\n",
    "\n",
    "print(f\"Tensorflow: {tf.__version__}\")\n",
    "tf.compat.v1.logging.set_verbosity(tf.compat.v1.logging.ERROR)\n",
    "\n",
    "%matplotlib inline\n",
    "plt.rcParams[\"figure.figsize\"] = [15, 7]"
   ]
  },
  {
   "cell_type": "code",
   "execution_count": 2,
   "metadata": {},
   "outputs": [],
   "source": [
    "verbose_training = True\n",
    "# Hyperparameters\n",
    "epochs = 1000\n",
    "learning_rate = 0.0001\n",
    "patience = 20\n",
    "batch_size = 2\n",
    "test_size = 4\n",
    "validation_size = 4\n",
    "xy_size = 128  # downscale 4\n",
    "#z_size = 96  # downscale 4 (nrrd)\n",
    "z_size = 248  # downscale 4 (tcia)\n",
    "#xy_size = 256  # downscale 2\n",
    "# z_size = 176  # downscale 2 (nrrd)\n",
    "#z_size = 488  # downscale 2 (tcia)\n",
    "# xy_size = 512   # original\n",
    "# z_size = 368    # original"
   ]
  },
  {
   "cell_type": "code",
   "execution_count": 3,
   "metadata": {},
   "outputs": [],
   "source": [
    "def normalize(t):\n",
    "    \"Normalize the input tensor in [0, 1]\"\n",
    "    max_value = tf.reduce_max(t)\n",
    "    min_value = tf.reduce_min(t)\n",
    "    return (t - min_value) / (max_value - min_value)"
   ]
  },
  {
   "cell_type": "code",
   "execution_count": 4,
   "metadata": {},
   "outputs": [],
   "source": [
    "data_dir = Path(\"data\")\n",
    "tfrecord_fnames = [str(p) for p in data_dir.glob(\"*-0.25/*.tfrecord\")]\n",
    "\n",
    "full_dataset = tf.data.TFRecordDataset(tfrecord_fnames)\n",
    "full_dataset = full_dataset.map(example_to_tensor)\n",
    "full_dataset = full_dataset.map(normalize)\n",
    "full_dataset = full_dataset.map(lambda x: tf.expand_dims(x, axis=-1))  # add the channel dimension"
   ]
  },
  {
   "cell_type": "code",
   "execution_count": 5,
   "metadata": {},
   "outputs": [
    {
     "data": {
      "text/plain": [
       "<PrefetchDataset shapes: (None, 248, 128, 128, 1), types: tf.float32>"
      ]
     },
     "execution_count": 5,
     "metadata": {},
     "output_type": "execute_result"
    }
   ],
   "source": [
    "dataset = full_dataset\n",
    "test_dataset = dataset.take(test_size)\n",
    "test_dataset = test_dataset.batch(1)\n",
    "dataset = dataset.skip(test_size)\n",
    "dataset = dataset.padded_batch(\n",
    "    batch_size=batch_size, \n",
    "    padded_shapes=[z_size, xy_size, xy_size, 1],\n",
    ")\n",
    "val_dataset = dataset.take(validation_size)\n",
    "train_dataset = dataset.skip(validation_size)\n",
    "train_dataset = train_dataset.shuffle(\n",
    "    buffer_size=64, \n",
    "    reshuffle_each_iteration=True\n",
    ")\n",
    "train_dataset = train_dataset.take(10)\n",
    "train_dataset = train_dataset.prefetch(tf.data.experimental.AUTOTUNE)\n",
    "train_dataset"
   ]
  },
  {
   "cell_type": "code",
   "execution_count": 6,
   "metadata": {
    "scrolled": false
   },
   "outputs": [
    {
     "name": "stdout",
     "output_type": "stream",
     "text": [
      "Model: \"sequential\"\n",
      "_________________________________________________________________\n",
      "Layer (type)                 Output Shape              Param #   \n",
      "=================================================================\n",
      "conv3d (Conv3D)              (None, 248, 128, 128, 32) 896       \n",
      "_________________________________________________________________\n",
      "activation (Activation)      (None, 248, 128, 128, 32) 0         \n",
      "_________________________________________________________________\n",
      "alpha_dropout (AlphaDropout) (None, 248, 128, 128, 32) 0         \n",
      "_________________________________________________________________\n",
      "max_pooling3d (MaxPooling3D) (None, 124, 64, 64, 32)   0         \n",
      "_________________________________________________________________\n",
      "conv3d_1 (Conv3D)            (None, 124, 64, 64, 64)   55360     \n",
      "_________________________________________________________________\n",
      "activation_1 (Activation)    (None, 124, 64, 64, 64)   0         \n",
      "_________________________________________________________________\n",
      "alpha_dropout_1 (AlphaDropou (None, 124, 64, 64, 64)   0         \n",
      "_________________________________________________________________\n",
      "max_pooling3d_1 (MaxPooling3 (None, 62, 32, 32, 64)    0         \n",
      "=================================================================\n",
      "Total params: 56,256\n",
      "Trainable params: 56,256\n",
      "Non-trainable params: 0\n",
      "_________________________________________________________________\n"
     ]
    }
   ],
   "source": [
    "encoder = keras.models.Sequential(\n",
    "    [\n",
    "        keras.layers.Conv3D(\n",
    "            input_shape=[z_size, xy_size, xy_size, 1],\n",
    "            filters=32,\n",
    "            kernel_size=3,\n",
    "            padding=\"same\",\n",
    "            kernel_initializer=\"lecun_normal\",\n",
    "            bias_initializer=\"lecun_normal\",\n",
    "        ),\n",
    "        keras.layers.Activation(\"selu\"),\n",
    "        keras.layers.AlphaDropout(0.25),\n",
    "        keras.layers.MaxPool3D(pool_size=2),\n",
    "        keras.layers.Conv3D(\n",
    "            filters=64,\n",
    "            kernel_size=3,\n",
    "            padding=\"same\",\n",
    "            kernel_initializer=\"lecun_normal\",\n",
    "            bias_initializer=\"lecun_normal\",\n",
    "        ),\n",
    "        keras.layers.Activation(\"selu\"),\n",
    "        keras.layers.AlphaDropout(0.25),\n",
    "        keras.layers.MaxPool3D(pool_size=2),\n",
    "    ]\n",
    ")\n",
    "encoder.summary()"
   ]
  },
  {
   "cell_type": "code",
   "execution_count": 7,
   "metadata": {},
   "outputs": [
    {
     "name": "stdout",
     "output_type": "stream",
     "text": [
      "Model: \"sequential_1\"\n",
      "_________________________________________________________________\n",
      "Layer (type)                 Output Shape              Param #   \n",
      "=================================================================\n",
      "up_sampling3d (UpSampling3D) (None, 124, 64, 64, 64)   0         \n",
      "_________________________________________________________________\n",
      "conv3d_2 (Conv3D)            (None, 124, 64, 64, 64)   110656    \n",
      "_________________________________________________________________\n",
      "activation_2 (Activation)    (None, 124, 64, 64, 64)   0         \n",
      "_________________________________________________________________\n",
      "alpha_dropout_2 (AlphaDropou (None, 124, 64, 64, 64)   0         \n",
      "_________________________________________________________________\n",
      "up_sampling3d_1 (UpSampling3 (None, 248, 128, 128, 64) 0         \n",
      "_________________________________________________________________\n",
      "conv3d_3 (Conv3D)            (None, 248, 128, 128, 32) 55328     \n",
      "_________________________________________________________________\n",
      "activation_3 (Activation)    (None, 248, 128, 128, 32) 0         \n",
      "_________________________________________________________________\n",
      "alpha_dropout_3 (AlphaDropou (None, 248, 128, 128, 32) 0         \n",
      "_________________________________________________________________\n",
      "dense (Dense)                (None, 248, 128, 128, 1)  33        \n",
      "_________________________________________________________________\n",
      "activation_4 (Activation)    (None, 248, 128, 128, 1)  0         \n",
      "=================================================================\n",
      "Total params: 166,017\n",
      "Trainable params: 166,017\n",
      "Non-trainable params: 0\n",
      "_________________________________________________________________\n"
     ]
    }
   ],
   "source": [
    "decoder = keras.models.Sequential(\n",
    "    [\n",
    "        keras.layers.UpSampling3D(\n",
    "            input_shape=encoder.layers[-1].output.shape[1:], size=2,\n",
    "        ),\n",
    "        keras.layers.Conv3D(\n",
    "            filters=64,\n",
    "            kernel_size=3,\n",
    "            padding=\"same\",\n",
    "            kernel_initializer=\"lecun_normal\",\n",
    "            bias_initializer=\"lecun_normal\",\n",
    "        ),\n",
    "        keras.layers.Activation(\"selu\"),\n",
    "        keras.layers.AlphaDropout(0.25),\n",
    "        keras.layers.UpSampling3D(size=2,),\n",
    "        keras.layers.Conv3D(\n",
    "            filters=32,\n",
    "            kernel_size=3,\n",
    "            padding=\"same\",\n",
    "            kernel_initializer=\"lecun_normal\",\n",
    "            bias_initializer=\"lecun_normal\",\n",
    "        ),\n",
    "        keras.layers.Activation(\"selu\"),\n",
    "        keras.layers.AlphaDropout(0.25),\n",
    "        keras.layers.Dense(1),\n",
    "        keras.layers.Activation(\"sigmoid\"),\n",
    "    ]\n",
    ")\n",
    "decoder.summary()"
   ]
  },
  {
   "cell_type": "code",
   "execution_count": 8,
   "metadata": {},
   "outputs": [
    {
     "name": "stdout",
     "output_type": "stream",
     "text": [
      "Model: \"sequential_2\"\n",
      "_________________________________________________________________\n",
      "Layer (type)                 Output Shape              Param #   \n",
      "=================================================================\n",
      "sequential (Sequential)      (None, 62, 32, 32, 64)    56256     \n",
      "_________________________________________________________________\n",
      "sequential_1 (Sequential)    (None, 248, 128, 128, 1)  166017    \n",
      "=================================================================\n",
      "Total params: 222,273\n",
      "Trainable params: 222,273\n",
      "Non-trainable params: 0\n",
      "_________________________________________________________________\n"
     ]
    }
   ],
   "source": [
    "autoencoder = keras.models.Sequential([encoder, decoder])\n",
    "# autoencoder.load_weights(\"models/autoencoder/20200924-235155/best_epoch_ckpt\")\n",
    "# autoencoder = keras.models.load_model(\"models/autoencoder/20200924-235155\")\n",
    "\n",
    "#strategy = tf.distribute.MirroredStrategy()\n",
    "#print('Number of devices: {}'.format(strategy.num_replicas_in_sync))\n",
    "#\n",
    "#with strategy.scope():\n",
    "#    autoencoder = keras.models.Sequential([encoder, decoder])\n",
    "\n",
    "autoencoder.summary()"
   ]
  },
  {
   "cell_type": "code",
   "execution_count": 9,
   "metadata": {},
   "outputs": [],
   "source": [
    "loss_fn = keras.losses.MeanSquaredError()\n",
    "optimizer = keras.optimizers.Adam(lr=learning_rate)"
   ]
  },
  {
   "cell_type": "code",
   "execution_count": 12,
   "metadata": {},
   "outputs": [
    {
     "data": {
      "application/vnd.jupyter.widget-view+json": {
       "model_id": "0c9d48bb89b3451fa7fe55a3ae1fbaf2",
       "version_major": 2,
       "version_minor": 0
      },
      "text/plain": [
       "HBox(children=(FloatProgress(value=0.0, max=1000.0), HTML(value='')))"
      ]
     },
     "metadata": {},
     "output_type": "display_data"
    },
    {
     "name": "stdout",
     "output_type": "stream",
     "text": [
      "\n",
      "Epoch : 0\n",
      "Training loss: 0.9216552972793579\n",
      "Validation loss: 0.9412267804145813\n",
      "\n",
      "Epoch : 1\n",
      "Training loss: 0.9317477941513062\n",
      "Validation loss: 0.9260936975479126\n",
      "\n",
      "Epoch : 2\n",
      "Training loss: 0.9209515452384949\n",
      "Validation loss: 0.9180641174316406\n",
      "\n",
      "Epoch : 3\n",
      "Training loss: 0.932479202747345\n",
      "Validation loss: 0.9426981806755066\n",
      "\n"
     ]
    }
   ],
   "source": [
    "start_time = datetime.datetime.now()\n",
    "start_time_str = start_time.strftime(\"%Y%m%d-%H%M%S\")\n",
    "log_dir = f\"logs/autoencoder/{start_time_str}/\"\n",
    "model_dir = f\"models/autoencoder/{start_time_str}/\"\n",
    "ckpt_dir = model_dir + \"best_epoch_ckpt\"\n",
    "writer = tf.summary.create_file_writer(log_dir)\n",
    "\n",
    "early_stopping = EarlyStopping(patience)\n",
    "\n",
    "for epoch in tqdm(range(epochs), disable=False):\n",
    "    \n",
    "    ### TRAIN ###\n",
    "    \n",
    "    train_loss_metric = tf.keras.metrics.Mean(\"train_loss\", dtype=tf.float32)\n",
    "    for batch in train_dataset:\n",
    "        with tf.GradientTape() as tape:\n",
    "            predictions = autoencoder(batch)\n",
    "            loss_value = loss_fn(predictions, batch)\n",
    "        gradients = tape.gradient(loss_value, autoencoder.trainable_variables)\n",
    "        optimizer.apply_gradients(zip(gradients, autoencoder.trainable_variables))\n",
    "        train_loss_metric.update_state(loss_value)\n",
    "        #with writer.as_default():\n",
    "        #    for grad, param in zip(gradients, autoencoder.trainable_variables):\n",
    "        #        tf.summary.histogram(param.name, param, step=epoch)\n",
    "        #        # tf.summary.histogram(param.name + \"/grad\", grad, buckets=1, step=epoch)\n",
    "\n",
    "    train_loss_mean = train_loss_metric.result()\n",
    "    with writer.as_default():\n",
    "        tf.summary.scalar(\"Training loss\", train_loss_mean, step=epoch)\n",
    "    train_loss_metric.reset_states()\n",
    "   \n",
    "   ### VALIDATION ###\n",
    "\n",
    "    val_loss_metric = tf.keras.metrics.Mean(\"val_loss\", dtype=tf.float32)\n",
    "    #for batch in val_dataset:\n",
    "    for batch in train_dataset:\n",
    "        predictions = autoencoder(batch)\n",
    "        val_loss_metric.update_state(loss_fn(predictions, batch))\n",
    "\n",
    "    val_loss_mean = val_loss_metric.result()\n",
    "    with writer.as_default():\n",
    "        tf.summary.scalar(\"Validation loss\", val_loss_mean, step=epoch)\n",
    "    val_loss_metric.reset_states()\n",
    "\n",
    "    if verbose_training:\n",
    "        print()\n",
    "        print(f\"Epoch : {epoch}\")\n",
    "        print(f\"Training loss: {train_loss_mean}\")\n",
    "        print(f\"Validation loss: {val_loss_mean}\")\n",
    "    \n",
    "    ### EARLY STOPPING ###\n",
    "    \n",
    "    early_stopping.update(val_loss_mean)\n",
    "    if early_stopping.early_stop:\n",
    "        autoencoder.load_weights(ckpt_dir)\n",
    "        break\n",
    "    elif early_stopping.not_improving_epochs == 0:\n",
    "        autoencoder.save_weights(ckpt_dir)\n",
    "\n",
    "autoencoder.save(model_dir)\n",
    "\n",
    "end_time = datetime.datetime.now()\n",
    "training_time = str(end_time - start_time).split(\".\")[0]\n",
    "\n",
    "with writer.as_default():\n",
    "    tf.summary.text(\n",
    "        \"Hyperparameters\",\n",
    "        f\"batch size = {batch_size}; \"\n",
    "        f\"patience = {patience}; \"\n",
    "        f\"learning rate = {learning_rate}; \"\n",
    "        f\"training time = {training_time}\",\n",
    "        step=0,\n",
    "    )"
   ]
  },
  {
   "cell_type": "code",
   "execution_count": 13,
   "metadata": {},
   "outputs": [
    {
     "data": {
      "text/plain": [
       "Reusing TensorBoard on port 6006 (pid 142900), started 6 days, 14:39:20 ago. (Use '!kill 142900' to kill it.)"
      ]
     },
     "metadata": {},
     "output_type": "display_data"
    },
    {
     "data": {
      "text/html": [
       "\n",
       "      <iframe id=\"tensorboard-frame-80f7fc9631ce897f\" width=\"100%\" height=\"800\" frameborder=\"0\">\n",
       "      </iframe>\n",
       "      <script>\n",
       "        (function() {\n",
       "          const frame = document.getElementById(\"tensorboard-frame-80f7fc9631ce897f\");\n",
       "          const url = new URL(\"/\", window.location);\n",
       "          const port = 6006;\n",
       "          if (port) {\n",
       "            url.port = port;\n",
       "          }\n",
       "          frame.src = url;\n",
       "        })();\n",
       "      </script>\n",
       "    "
      ],
      "text/plain": [
       "<IPython.core.display.HTML object>"
      ]
     },
     "metadata": {},
     "output_type": "display_data"
    }
   ],
   "source": [
    "%reload_ext tensorboard\n",
    "%tensorboard --logdir=logs --bind_all"
   ]
  },
  {
   "cell_type": "code",
   "execution_count": null,
   "metadata": {},
   "outputs": [],
   "source": [
    "original = next(iter(test_dataset))\n",
    "encoder_out = autoencoder.layers[0](original)\n",
    "decoder_out = autoencoder.layers[1](encoder_out)\n",
    "batch_index = 0"
   ]
  },
  {
   "cell_type": "code",
   "execution_count": null,
   "metadata": {},
   "outputs": [],
   "source": [
    "z_index = 20\n",
    "fig, ax = plt.subplots(ncols=3)\n",
    "plot_slice(original, batch_index, z_index, ax[0])\n",
    "plot_slice(encoder_out, batch_index, encoder_out.shape[1] // 3, ax[1])\n",
    "plot_slice(decoder_out, batch_index, z_index, ax[2])"
   ]
  },
  {
   "cell_type": "code",
   "execution_count": null,
   "metadata": {},
   "outputs": [],
   "source": [
    "plot_animated_volume(original, batch_index)"
   ]
  },
  {
   "cell_type": "code",
   "execution_count": null,
   "metadata": {},
   "outputs": [],
   "source": [
    "plot_animated_volume(encoder_out, batch_index, fps=10)"
   ]
  },
  {
   "cell_type": "code",
   "execution_count": null,
   "metadata": {},
   "outputs": [],
   "source": [
    "plot_animated_volume(decoder_out, batch_index)"
   ]
  },
  {
   "cell_type": "code",
   "execution_count": null,
   "metadata": {},
   "outputs": [],
   "source": []
  }
 ],
 "metadata": {
  "kernelspec": {
   "display_name": "Python 3",
   "language": "python",
   "name": "python3"
  },
  "language_info": {
   "codemirror_mode": {
    "name": "ipython",
    "version": 3
   },
   "file_extension": ".py",
   "mimetype": "text/x-python",
   "name": "python",
   "nbconvert_exporter": "python",
   "pygments_lexer": "ipython3",
   "version": "3.6.6"
  }
 },
 "nbformat": 4,
 "nbformat_minor": 4
}
