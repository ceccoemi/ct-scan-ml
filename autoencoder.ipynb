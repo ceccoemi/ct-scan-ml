{
 "cells": [
  {
   "cell_type": "code",
   "execution_count": 26,
   "metadata": {},
   "outputs": [
    {
     "name": "stdout",
     "output_type": "stream",
     "text": [
      "Tensorflow: 2.2.0\n"
     ]
    }
   ],
   "source": [
    "import datetime\n",
    "\n",
    "import numpy as np\n",
    "import tensorflow as tf\n",
    "from tensorflow import keras\n",
    "from tqdm.notebook import tqdm\n",
    "import matplotlib.pyplot as plt\n",
    "\n",
    "from data import example_to_tensor\n",
    "from train import EarlyStopping\n",
    "from utils import plot_slice, plot_animated_volume\n",
    "\n",
    "print(f\"Tensorflow: {tf.__version__}\")\n",
    "tf.compat.v1.logging.set_verbosity(tf.compat.v1.logging.ERROR)\n",
    "\n",
    "%matplotlib inline\n",
    "plt.rcParams[\"figure.figsize\"] = [15, 7]"
   ]
  },
  {
   "cell_type": "code",
   "execution_count": 42,
   "metadata": {},
   "outputs": [],
   "source": [
    "# Hyperparameters\n",
    "epochs = 1000\n",
    "learning_rate = 10\n",
    "patience = 3\n",
    "batch_size = 2\n",
    "xy_size = 128  # downscale 4\n",
    "z_size = 96  # downscale 4 (nrrd)\n",
    "# z_size = 244  # downscale 4 (tcia)\n",
    "# xy_size = 256  # downscale 2\n",
    "# z_size = 176  # downscale 2\n",
    "# xy_size = 512   # original\n",
    "# z_size = 368    # original"
   ]
  },
  {
   "cell_type": "code",
   "execution_count": 43,
   "metadata": {},
   "outputs": [
    {
     "data": {
      "text/plain": [
       "<TakeDataset shapes: (None, 96, 128, 128, 1), types: tf.float32>"
      ]
     },
     "execution_count": 43,
     "metadata": {},
     "output_type": "execute_result"
    }
   ],
   "source": [
    "dataset = tf.data.TFRecordDataset(\"data/nrrd-0.25-float32.tfrecords\")\n",
    "dataset = dataset.map(lambda x: example_to_tensor(x, \"float32\"))\n",
    "dataset = dataset.padded_batch(\n",
    "    batch_size=2, padded_shapes=[z_size, xy_size, xy_size, 1],\n",
    ")\n",
    "# dataset = dataset.skip(10)\n",
    "dataset = dataset.take(2)\n",
    "# dataset = dataset.shuffle(buffer_size=10, reshuffle_each_iteration=True)\n",
    "dataset"
   ]
  },
  {
   "cell_type": "code",
   "execution_count": 44,
   "metadata": {
    "scrolled": false
   },
   "outputs": [
    {
     "name": "stdout",
     "output_type": "stream",
     "text": [
      "Model: \"sequential_13\"\n",
      "_________________________________________________________________\n",
      "Layer (type)                 Output Shape              Param #   \n",
      "=================================================================\n",
      "conv3d_18 (Conv3D)           (None, 96, 128, 128, 8)   224       \n",
      "_________________________________________________________________\n",
      "activation_22 (Activation)   (None, 96, 128, 128, 8)   0         \n",
      "_________________________________________________________________\n",
      "alpha_dropout_18 (AlphaDropo (None, 96, 128, 128, 8)   0         \n",
      "_________________________________________________________________\n",
      "max_pooling3d_10 (MaxPooling (None, 48, 64, 64, 8)     0         \n",
      "_________________________________________________________________\n",
      "conv3d_19 (Conv3D)           (None, 48, 64, 64, 16)    3472      \n",
      "_________________________________________________________________\n",
      "activation_23 (Activation)   (None, 48, 64, 64, 16)    0         \n",
      "_________________________________________________________________\n",
      "alpha_dropout_19 (AlphaDropo (None, 48, 64, 64, 16)    0         \n",
      "_________________________________________________________________\n",
      "max_pooling3d_11 (MaxPooling (None, 24, 32, 32, 16)    0         \n",
      "=================================================================\n",
      "Total params: 3,696\n",
      "Trainable params: 3,696\n",
      "Non-trainable params: 0\n",
      "_________________________________________________________________\n"
     ]
    }
   ],
   "source": [
    "encoder = keras.models.Sequential(\n",
    "    [\n",
    "        keras.layers.Conv3D(\n",
    "            input_shape=[z_size, xy_size, xy_size, 1],\n",
    "            filters=8,\n",
    "            kernel_size=3,\n",
    "            padding=\"same\",\n",
    "            kernel_initializer=\"lecun_normal\",\n",
    "            bias_initializer=\"lecun_normal\",\n",
    "        ),\n",
    "        keras.layers.Activation(\"selu\"),\n",
    "        keras.layers.AlphaDropout(0.25),\n",
    "        keras.layers.MaxPool3D(pool_size=2),\n",
    "        keras.layers.Conv3D(\n",
    "            filters=16,\n",
    "            kernel_size=3,\n",
    "            padding=\"same\",\n",
    "            kernel_initializer=\"lecun_normal\",\n",
    "            bias_initializer=\"lecun_normal\",\n",
    "        ),\n",
    "        keras.layers.Activation(\"selu\"),\n",
    "        keras.layers.AlphaDropout(0.25),\n",
    "        keras.layers.MaxPool3D(pool_size=2),\n",
    "    ]\n",
    ")\n",
    "encoder.summary()"
   ]
  },
  {
   "cell_type": "code",
   "execution_count": 45,
   "metadata": {},
   "outputs": [
    {
     "name": "stdout",
     "output_type": "stream",
     "text": [
      "Model: \"sequential_14\"\n",
      "_________________________________________________________________\n",
      "Layer (type)                 Output Shape              Param #   \n",
      "=================================================================\n",
      "up_sampling3d_8 (UpSampling3 (None, 48, 64, 64, 16)    0         \n",
      "_________________________________________________________________\n",
      "conv3d_20 (Conv3D)           (None, 48, 64, 64, 16)    6928      \n",
      "_________________________________________________________________\n",
      "activation_24 (Activation)   (None, 48, 64, 64, 16)    0         \n",
      "_________________________________________________________________\n",
      "alpha_dropout_20 (AlphaDropo (None, 48, 64, 64, 16)    0         \n",
      "_________________________________________________________________\n",
      "up_sampling3d_9 (UpSampling3 (None, 96, 128, 128, 16)  0         \n",
      "_________________________________________________________________\n",
      "conv3d_21 (Conv3D)           (None, 96, 128, 128, 8)   3464      \n",
      "_________________________________________________________________\n",
      "activation_25 (Activation)   (None, 96, 128, 128, 8)   0         \n",
      "_________________________________________________________________\n",
      "alpha_dropout_21 (AlphaDropo (None, 96, 128, 128, 8)   0         \n",
      "_________________________________________________________________\n",
      "dense_4 (Dense)              (None, 96, 128, 128, 1)   9         \n",
      "_________________________________________________________________\n",
      "activation_26 (Activation)   (None, 96, 128, 128, 1)   0         \n",
      "=================================================================\n",
      "Total params: 10,401\n",
      "Trainable params: 10,401\n",
      "Non-trainable params: 0\n",
      "_________________________________________________________________\n"
     ]
    }
   ],
   "source": [
    "decoder = keras.models.Sequential(\n",
    "    [\n",
    "        keras.layers.UpSampling3D(\n",
    "            input_shape=encoder.layers[-1].output.shape[1:], size=2,\n",
    "        ),\n",
    "        keras.layers.Conv3D(\n",
    "            filters=16,\n",
    "            kernel_size=3,\n",
    "            padding=\"same\",\n",
    "            kernel_initializer=\"lecun_normal\",\n",
    "            bias_initializer=\"lecun_normal\",\n",
    "        ),\n",
    "        keras.layers.Activation(\"selu\"),\n",
    "        keras.layers.AlphaDropout(0.25),\n",
    "        keras.layers.UpSampling3D(size=2,),\n",
    "        keras.layers.Conv3D(\n",
    "            filters=8,\n",
    "            kernel_size=3,\n",
    "            padding=\"same\",\n",
    "            kernel_initializer=\"lecun_normal\",\n",
    "            bias_initializer=\"lecun_normal\",\n",
    "        ),\n",
    "        keras.layers.Activation(\"selu\"),\n",
    "        keras.layers.AlphaDropout(0.25),\n",
    "        keras.layers.Dense(1),\n",
    "        keras.layers.Activation(\"sigmoid\"),\n",
    "    ]\n",
    ")\n",
    "decoder.summary()"
   ]
  },
  {
   "cell_type": "code",
   "execution_count": 46,
   "metadata": {},
   "outputs": [
    {
     "name": "stdout",
     "output_type": "stream",
     "text": [
      "Model: \"sequential_15\"\n",
      "_________________________________________________________________\n",
      "Layer (type)                 Output Shape              Param #   \n",
      "=================================================================\n",
      "sequential_13 (Sequential)   (None, 24, 32, 32, 16)    3696      \n",
      "_________________________________________________________________\n",
      "sequential_14 (Sequential)   (None, 96, 128, 128, 1)   10401     \n",
      "=================================================================\n",
      "Total params: 14,097\n",
      "Trainable params: 14,097\n",
      "Non-trainable params: 0\n",
      "_________________________________________________________________\n"
     ]
    }
   ],
   "source": [
    "autoencoder = keras.models.Sequential([encoder, decoder])\n",
    "# autoencoder.load_weights(\"models/autoencoder/20200723-103317/best_epoch_ckpt\")\n",
    "# autoencoder = keras.models.load_model(\"../../20200816-170759/\")\n",
    "autoencoder.summary()"
   ]
  },
  {
   "cell_type": "code",
   "execution_count": 47,
   "metadata": {},
   "outputs": [],
   "source": [
    "loss_fn = keras.losses.MeanSquaredError()\n",
    "optimizer = keras.optimizers.Adam(lr=learning_rate)"
   ]
  },
  {
   "cell_type": "code",
   "execution_count": 48,
   "metadata": {
    "scrolled": true
   },
   "outputs": [
    {
     "data": {
      "application/vnd.jupyter.widget-view+json": {
       "model_id": "e53dd0826ce84b0cbcd229f852475f21",
       "version_major": 2,
       "version_minor": 0
      },
      "text/plain": [
       "HBox(children=(FloatProgress(value=0.0, max=1000.0), HTML(value='')))"
      ]
     },
     "metadata": {},
     "output_type": "display_data"
    },
    {
     "name": "stdout",
     "output_type": "stream",
     "text": [
      "Training loss: 0.45461514592170715\n",
      "Training loss: 0.9215137958526611\n",
      "Training loss: 0.9215137958526611\n",
      "Training loss: 0.9215137958526611\n",
      "Training loss: 0.9215137958526611\n",
      "\n"
     ]
    }
   ],
   "source": [
    "current_time = datetime.datetime.now().strftime(\"%Y%m%d-%H%M%S\")\n",
    "log_dir = f\"logs/autoencoder/{current_time}/\"\n",
    "model_dir = f\"models/autoencoder/{current_time}/\"\n",
    "ckpt_dir = model_dir + \"best_epoch_ckpt\"\n",
    "writer = tf.summary.create_file_writer(log_dir)\n",
    "train_loss = tf.keras.metrics.Mean(\"train_loss\", dtype=tf.float32)\n",
    "early_stopping = EarlyStopping(patience)\n",
    "\n",
    "for epoch in tqdm(range(epochs), disable=False):\n",
    "    for batch_features in tqdm(dataset, total=1, disable=True):\n",
    "        with tf.GradientTape() as tape:\n",
    "            predictions = autoencoder(batch_features)\n",
    "            loss_value = loss_fn(predictions, batch_features)\n",
    "        gradients = tape.gradient(loss_value, autoencoder.trainable_variables)\n",
    "        optimizer.apply_gradients(zip(gradients, autoencoder.trainable_variables))\n",
    "        with writer.as_default():\n",
    "            for grad, param in zip(gradients, autoencoder.trainable_variables):\n",
    "                tf.summary.histogram(param.name, param, step=epoch)\n",
    "                # tf.summary.histogram(param.name + \"/grad\", grad, buckets=1, step=epoch)\n",
    "            train_loss(loss_value)\n",
    "\n",
    "    with writer.as_default():\n",
    "        loss_mean = train_loss.result()\n",
    "        print(f\"Training loss: {loss_mean}\")\n",
    "        tf.summary.scalar(\"loss\", loss_mean, step=epoch)\n",
    "\n",
    "    train_loss.reset_states()\n",
    "\n",
    "    early_stopping(loss_mean)\n",
    "    if early_stopping.early_stop:\n",
    "        autoencoder.load_weights(ckpt_dir)\n",
    "        autoencoder.save(model_dir)\n",
    "        break\n",
    "    elif early_stopping.counter == 0:\n",
    "        autoencoder.save_weights(ckpt_dir)\n",
    "else:\n",
    "    # didn't stop for early stopping\n",
    "    autoencoder.save(model_dir)\n",
    "\n",
    "with writer.as_default():\n",
    "    tf.summary.text(\n",
    "        \"Hyperparameters\",\n",
    "        f\"batch size = {batch_size}; \"\n",
    "        f\"patience = {patience}; \"\n",
    "        f\"learning rate = {learning_rate}\",\n",
    "        step=0,\n",
    "    )"
   ]
  },
  {
   "cell_type": "code",
   "execution_count": null,
   "metadata": {},
   "outputs": [],
   "source": [
    "%reload_ext tensorboard\n",
    "%tensorboard --logdir=logs --bind_all"
   ]
  },
  {
   "cell_type": "code",
   "execution_count": 49,
   "metadata": {},
   "outputs": [
    {
     "data": {
      "text/html": [
       "<video width=\"1080\" height=\"504\" controls autoplay loop>\n",
       "  <source type=\"video/mp4\" src=\"data:video/mp4;base64,AAAAHGZ0eXBNNFYgAAACAGlzb21pc28yYXZjMQAAAAhmcmVlAAAVxG1kYXQAAAKvBgX//6vcRem9\n",
       "5tlIt5Ys2CDZI+7veDI2NCAtIGNvcmUgMTQ4IHIyNzQ4IDk3ZWFlZjIgLSBILjI2NC9NUEVHLTQg\n",
       "QVZDIGNvZGVjIC0gQ29weWxlZnQgMjAwMy0yMDE2IC0gaHR0cDovL3d3dy52aWRlb2xhbi5vcmcv\n",
       "eDI2NC5odG1sIC0gb3B0aW9uczogY2FiYWM9MSByZWY9MyBkZWJsb2NrPTE6MDowIGFuYWx5c2U9\n",
       "MHgzOjB4MTEzIG1lPWhleCBzdWJtZT03IHBzeT0xIHBzeV9yZD0xLjAwOjAuMDAgbWl4ZWRfcmVm\n",
       "PTEgbWVfcmFuZ2U9MTYgY2hyb21hX21lPTEgdHJlbGxpcz0xIDh4OGRjdD0xIGNxbT0wIGRlYWR6\n",
       "b25lPTIxLDExIGZhc3RfcHNraXA9MSBjaHJvbWFfcXBfb2Zmc2V0PS0yIHRocmVhZHM9MTYgbG9v\n",
       "a2FoZWFkX3RocmVhZHM9MiBzbGljZWRfdGhyZWFkcz0wIG5yPTAgZGVjaW1hdGU9MSBpbnRlcmxh\n",
       "Y2VkPTAgYmx1cmF5X2NvbXBhdD0wIGNvbnN0cmFpbmVkX2ludHJhPTAgYmZyYW1lcz0zIGJfcHly\n",
       "YW1pZD0yIGJfYWRhcHQ9MSBiX2JpYXM9MCBkaXJlY3Q9MSB3ZWlnaHRiPTEgb3Blbl9nb3A9MCB3\n",
       "ZWlnaHRwPTIga2V5aW50PTI1MCBrZXlpbnRfbWluPTEwIHNjZW5lY3V0PTQwIGludHJhX3JlZnJl\n",
       "c2g9MCByY19sb29rYWhlYWQ9NDAgcmM9Y3JmIG1idHJlZT0xIGNyZj0yMy4wIHFjb21wPTAuNjAg\n",
       "cXBtaW49MCBxcG1heD02OSBxcHN0ZXA9NCBpcF9yYXRpbz0xLjQwIGFxPTE6MS4wMACAAAAH52WI\n",
       "hAAR//73iB8yy2n5OtdyEeetLq0fUO5GcV6kvf4gAAADAAADAAADAAAv5GoJj2hIvd/4gAAAAwAI\n",
       "8AAwx4t/Bav8Qm5EpdmQOm7v5Af5tWAZo+0tqVPnAwpz9QCoY/bPsuyihV41EMpFLIFpNoQCkfXa\n",
       "lvJ4YnVVj07Pfo+hUdHN7qnQzG9PsKESD1BT3xMF8WvJW9XAMEOkaNVX4CEwhuwr9gzJjMhBvv5n\n",
       "XrQzLXXH9EtPs5c42PYD+hJBAcoAAboANPToE3F6m5lqi/nMdPYSKF7ojxq2y4VNZ7dCjfmhryTA\n",
       "tve6JhUQXHGn9F/MhCK3Scrpgm8JutGPUcnD9azScDHNEDCRt5z4Rm/z36+3iSkwfJawmpGwqOPw\n",
       "zvei6TtZ/M8n0VSy6mreaZAZ9wIAMY96L9Dl2Dd5nKFmLJSmPMYH2dAC+ACDABi9/Qcs/rx/LhKu\n",
       "JvqU+AM3yajWAfcrwQ3r6OmcCzflbMgnvCNujDR45mSysQ5fJAOxholSeEibv+OMKnmqvHWydQnt\n",
       "ZNxwKb/kzIMsRPErT8UG0j+R07glrc/b31jR/Wjj6udgropnobokm60hEd+Mx+GgGF7U+SCA2gBH\n",
       "gAB9CxnefmBb5TxbM60kpVmY/dg3Fkpoz9l77f/z/mJc/mjNFkQvFnC90xp4q8iGdrH9QAPn0cZo\n",
       "ChTNZcyQnJ49jsCMqv1EDiQTdoykCorP7xfMlHns1RlTjLvWUVH+Hw829hdwJkK/Onjjq32iAAAD\n",
       "AAADAADDqqStIHIk9TuBId9DXOfj4ll150YSLNo9E8hAO0nPB9aOjIS8Qsfzc6bFfFL7XnIieqbB\n",
       "j8LaVtsyr9sKKN4QHwObZLY5kdB9XI2BFBkv4Vpts6M8PgFBodorKx+IAF9dllm+2IiwjgAAAwAA\n",
       "AwAGtnpz7ylMdwC+N7MPmt9oW9GneyxZDXnoQAGOfWHlEVg8164QkIKl1ppap9MHcJf5iDt+LOVN\n",
       "0HWJDkspYv7LCt/+p+bQJIxjLRF6noow3uxnctW9X7FH0Z4mEwxsagQ2QGIh53Skt6hfzTFY7fL2\n",
       "bCn1W9ZfCQCQPs/99n3XmynlayvzEOMBKeOpZiOdm89DR1haSCpwR3ws5zErIDNNMZIPQFB8nFKK\n",
       "IBaJquO2K7xJyh2fIQ3wf6oZ/ajB+0wKIkAAAAMAAAMAVpOJOe6/2x/6EYrLkYY+s/iwmejdhbYQ\n",
       "L+bv496aQmcwSI/MLkYv4OTYX400uCtXHc5hFtazAEs9Nzd+wXkAH2lSlY4DBN8OuGU3CUkYj11f\n",
       "Sx8ZyGxOa/PjMNiO7XeUJOqKtLl2XyMimFG6knfBnQDyNq1ZG94ZePViUOO9EM9Dd6YtYlcPPUPM\n",
       "mg0UCr909MqQ2UrYcf56hNSHX1fcKEGynwfL2eDTLtKo/59xmz3CqKMGIpXP7i3Cgt5VZEMfH/IO\n",
       "/ILqn2yTYAGmNAf1QRCPNgwddOPy502CH+pi6zS5a1Y4LGZR0oc/fJVjXlMyVPZSZgFv8UudgYvg\n",
       "cghy5NKuaV2YQ2oHtZf9NyrTK0ymoZMYPi9htYQlZHa14fxGd/1DHX/znLixtfiBNUEhwx2gxOEj\n",
       "gsUahk60P1z//fxd0KVidaCJn5rIbEesCBNpz5I+mAG96pAW+6TiWDZkZujoRyXw0hTiz3Idr+Ug\n",
       "QwaoI6HxRkElIgWN4My8MmvOonXZYiU6aXAbNrrZaAkncA6X9MuFK1pGDd6Vjz/Kslcld9BRvMxC\n",
       "pzo0poOfNvnJEngAAAeMSlxEN3YWEFPK00Oy/gyojCIUk9HPT28gf03DLufU/+yMkwgCLmGSmIZm\n",
       "rykezfYe5a72fiypokXKarrNslj2mJDu+lLQhZIagUQT7LA5wbERBoFDdUs9OeVolXsatn4vFiD2\n",
       "9zlFXVruG9f0QR0p97duXiLwnnYDrX426cZAuWUZ6A2k7UhOPlwV92HwncRN/wNoYBfL8KWRARUW\n",
       "FWNdY2VDYDSwye+OpiS0XUULupOkQwjGsUK+kSBwLRABAk6YhzmWPEnyu9/gST20YcQUYvgE33zg\n",
       "EW2RDXbPizeQxwqJah52So5NDJLdSOgOFRESWTIG6cq7zIlTx8FxBpu+ggR4YjqCB6Rnq665Vl6Y\n",
       "k/KQls1yWGb+KxzoyQl3hthiSbLBHE8NM0a89qsaVKgymLaRHUwjvHqrMUQzP1yj4F2KJnQm5nL5\n",
       "ceKbMddxYvFkXeTjklcYZrgXMvRJur8mx0ebh3I341OC4kgNq0XzhDgSt4BwxtXdCPHXjmQQCzah\n",
       "Or8ZOvtvttGYFber0MGgo25obnf7eLVk78d3NzJJyBJD12TG8pwKATe6SbbmRAG+xvGFhHz8seeG\n",
       "uips2UOh7p117LzmIPChMbaARmeNX74GEwS3x+mu7URlu3pmQP92F4K7kPzcFE6gkXVAccAUf/+B\n",
       "l20NpkfBpFkL5ll7ZLm01crrtVV6hyFoaAi6YJi2LGWUz8kXWJd83v2kgAACJe16p4GCsBawxvB1\n",
       "5RzNqNGxhP8Gxc1KpO9DZ4a2O7eGYZ4dkND1LDZaU8TwNtXcPAQioRfWjazA/qrNs9bLQ9bB239I\n",
       "55QNVxg8toKHLIpJCf7HV5bgJVuRGLBzo9L9nOSKgPQ96btMP6ZwsftFE1VwdIbJC/FjdAc8eZip\n",
       "otHQ9s+W7+aC0UxsAAADACNn8AAAAwAADTkAAAAvQZokbEEf/rUqgAAAAwAAAwAAAwAAGUz26ACJ\n",
       "2Ol6RLZZ/W68bGq7Ut8A7k5zakAAAAAZQZ5CeId/AAADAAADAAADAAADAGK2rIoTcQAAABkBnmF0\n",
       "Q38AAAMAAAMAAAMAAAMAir7FNhBwAAAAFwGeY2pDfwAAAwAAAwAAAwAAAwAAAwHHAAAAIEGaaEmo\n",
       "QWiZTAgj//61KoAAAAMAAAMAAAMAAAMAAFNBAAAAGUGehkURLDv/AAADAAADAAADAAADAAADAUMA\n",
       "AAAXAZ6ldEN/AAADAAADAAADAAADAAADAccAAAAXAZ6nakN/AAADAAADAAADAAADAAADAccAAAAg\n",
       "QZqsSahBbJlMCCP//rUqgAAAAwAAAwAAAwAAAwAAU0AAAAAZQZ7KRRUsO/8AAAMAAAMAAAMAAAMA\n",
       "AAMBQwAAABcBnul0Q38AAAMAAAMAAAMAAAMAAAMBxwAAABcBnutqQ38AAAMAAAMAAAMAAAMAAAMB\n",
       "xwAAACBBmvBJqEFsmUwII//+tSqAAAADAAADAAADAAADAABTQQAAABlBnw5FFSw7/wAAAwAAAwAA\n",
       "AwAAAwAAAwFDAAAAFwGfLXRDfwAAAwAAAwAAAwAAAwAAAwHHAAAAFwGfL2pDfwAAAwAAAwAAAwAA\n",
       "AwAAAwHHAAAAIEGbNEmoQWyZTAgj//61KoAAAAMAAAMAAAMAAAMAAFNAAAAAGUGfUkUVLDv/AAAD\n",
       "AAADAAADAAADAAADAUMAAAAXAZ9xdEN/AAADAAADAAADAAADAAADAccAAAAXAZ9zakN/AAADAAAD\n",
       "AAADAAADAAADAccAAAAgQZt4SahBbJlMCCP//rUqgAAAAwAAAwAAAwAAAwAAU0EAAAAZQZ+WRRUs\n",
       "O/8AAAMAAAMAAAMAAAMAAAMBQwAAABcBn7V0Q38AAAMAAAMAAAMAAAMAAAMBxwAAABcBn7dqQ38A\n",
       "AAMAAAMAAAMAAAMAAAMBxwAAACBBm7xJqEFsmUwII//+tSqAAAADAAADAAADAAADAABTQAAAABlB\n",
       "n9pFFSw7/wAAAwAAAwAAAwAAAwAAAwFDAAAAFwGf+XRDfwAAAwAAAwAAAwAAAwAAAwHHAAAAFwGf\n",
       "+2pDfwAAAwAAAwAAAwAAAwAAAwHHAAAAIEGb4EmoQWyZTAgj//61KoAAAAMAAAMAAAMAAAMAAFNB\n",
       "AAAAGUGeHkUVLDv/AAADAAADAAADAAADAAADAUMAAAAXAZ49dEN/AAADAAADAAADAAADAAADAccA\n",
       "AAAXAZ4/akN/AAADAAADAAADAAADAAADAccAAAAgQZokSahBbJlMCCP//rUqgAAAAwAAAwAAAwAA\n",
       "AwAAU0AAAAAZQZ5CRRUsO/8AAAMAAAMAAAMAAAMAAAMBQwAAABcBnmF0Q38AAAMAAAMAAAMAAAMA\n",
       "AAMBxwAAABcBnmNqQ38AAAMAAAMAAAMAAAMAAAMBxwAAACBBmmhJqEFsmUwII//+tSqAAAADAAAD\n",
       "AAADAAADAABTQQAAABlBnoZFFSw7/wAAAwAAAwAAAwAAAwAAAwFDAAAAFwGepXRDfwAAAwAAAwAA\n",
       "AwAAAwAAAwHHAAAAFwGep2pDfwAAAwAAAwAAAwAAAwAAAwHHAAAAIEGarEmoQWyZTAgj//61KoAA\n",
       "AAMAAAMAAAMAAAMAAFNAAAAAGUGeykUVLDv/AAADAAADAAADAAADAAADAUMAAAAXAZ7pdEN/AAAD\n",
       "AAADAAADAAADAAADAccAAAAXAZ7rakN/AAADAAADAAADAAADAAADAccAAAAgQZrwSahBbJlMCCP/\n",
       "/rUqgAAAAwAAAwAAAwAAAwAAU0EAAAAZQZ8ORRUsO/8AAAMAAAMAAAMAAAMAAAMBQwAAABcBny10\n",
       "Q38AAAMAAAMAAAMAAAMAAAMBxwAAABcBny9qQ38AAAMAAAMAAAMAAAMAAAMBxwAAACBBmzRJqEFs\n",
       "mUwII//+tSqAAAADAAADAAADAAADAABTQAAAABlBn1JFFSw7/wAAAwAAAwAAAwAAAwAAAwFDAAAA\n",
       "FwGfcXRDfwAAAwAAAwAAAwAAAwAAAwHHAAAAFwGfc2pDfwAAAwAAAwAAAwAAAwAAAwHHAAAAIEGb\n",
       "eEmoQWyZTAgj//61KoAAAAMAAAMAAAMAAAMAAFNBAAAAGUGflkUVLDv/AAADAAADAAADAAADAAAD\n",
       "AUMAAAAXAZ+1dEN/AAADAAADAAADAAADAAADAccAAAAXAZ+3akN/AAADAAADAAADAAADAAADAccA\n",
       "AAAgQZu8SahBbJlMCCP//rUqgAAAAwAAAwAAAwAAAwAAU0AAAAAZQZ/aRRUsO/8AAAMAAAMAAAMA\n",
       "AAMAAAMBQwAAABcBn/l0Q38AAAMAAAMAAAMAAAMAAAMBxwAAABcBn/tqQ38AAAMAAAMAAAMAAAMA\n",
       "AAMBxwAAACBBm+BJqEFsmUwII//+tSqAAAADAAADAAADAAADAABTQQAAABlBnh5FFSw7/wAAAwAA\n",
       "AwAAAwAAAwAAAwFDAAAAFwGePXRDfwAAAwAAAwAAAwAAAwAAAwHHAAAAFwGeP2pDfwAAAwAAAwAA\n",
       "AwAAAwAAAwHHAAAAIEGaJEmoQWyZTAgj//61KoAAAAMAAAMAAAMAAAMAAFNAAAAAGUGeQkUVLDv/\n",
       "AAADAAADAAADAAADAAADAUMAAAAXAZ5hdEN/AAADAAADAAADAAADAAADAccAAAAXAZ5jakN/AAAD\n",
       "AAADAAADAAADAAADAccAAAAgQZpoSahBbJlMCCP//rUqgAAAAwAAAwAAAwAAAwAAU0EAAAAZQZ6G\n",
       "RRUsO/8AAAMAAAMAAAMAAAMAAAMBQwAAABcBnqV0Q38AAAMAAAMAAAMAAAMAAAMBxwAAABcBnqdq\n",
       "Q38AAAMAAAMAAAMAAAMAAAMBxwAAACBBmqxJqEFsmUwII//+tSqAAAADAAADAAADAAADAABTQAAA\n",
       "ABlBnspFFSw7/wAAAwAAAwAAAwAAAwAAAwFDAAAAFwGe6XRDfwAAAwAAAwAAAwAAAwAAAwHHAAAA\n",
       "FwGe62pDfwAAAwAAAwAAAwAAAwAAAwHHAAAAIEGa8EmoQWyZTAgj//61KoAAAAMAAAMAAAMAAAMA\n",
       "AFNBAAAAGUGfDkUVLDv/AAADAAADAAADAAADAAADAUMAAAAXAZ8tdEN/AAADAAADAAADAAADAAAD\n",
       "AccAAAAXAZ8vakN/AAADAAADAAADAAADAAADAccAAAAgQZs0SahBbJlMCCP//rUqgAAAAwAAAwAA\n",
       "AwAAAwAAU0AAAAAZQZ9SRRUsO/8AAAMAAAMAAAMAAAMAAAMBQwAAABcBn3F0Q38AAAMAAAMAAAMA\n",
       "AAMAAAMBxwAAABcBn3NqQ38AAAMAAAMAAAMAAAMAAAMBxwAAACFBm3hJqEFsmUwIIf/+qlUAAAMA\n",
       "AAMAAAMAAAMAAAMApoEAAAAZQZ+WRRUsO/8AAAMAAAMAAAMAAAMAAAMBQwAAABcBn7V0Q38AAAMA\n",
       "AAMAAAMAAAMAAAMBxwAAABcBn7dqQ38AAAMAAAMAAAMAAAMAAAMBxwAAACBBm7xJqEFsmUwIf//+\n",
       "qZYAAAMAAAMAAAMAAAMAAAMChgAAABlBn9pFFSw7/wAAAwAAAwAAAwAAAwAAAwFDAAAAFwGf+XRD\n",
       "fwAAAwAAAwAAAwAAAwAAAwHHAAAAFwGf+2pDfwAAAwAAAwAAAwAAAwAAAwHHAAAAH0Gb/0moQWyZ\n",
       "TAhv//6nhAAAAwAAAwAAAwAAAwAABQUAAAAZQZ4dRRUsN/8AAAMAAAMAAAMAAAMAAAMBxwAAABcB\n",
       "nj5qQ38AAAMAAAMAAAMAAAMAAAMBxwAAB6htb292AAAAbG12aGQAAAAAAAAAAAAAAAAAAAPoAAAl\n",
       "gAABAAABAAAAAAAAAAAAAAAAAQAAAAAAAAAAAAAAAAAAAAEAAAAAAAAAAAAAAAAAAEAAAAAAAAAA\n",
       "AAAAAAAAAAAAAAAAAAAAAAAAAAAAAAACAAAG0nRyYWsAAABcdGtoZAAAAAMAAAAAAAAAAAAAAAEA\n",
       "AAAAAAAlgAAAAAAAAAAAAAAAAAAAAAAAAQAAAAAAAAAAAAAAAAAAAAEAAAAAAAAAAAAAAAAAAEAA\n",
       "AAAEOAAAAfgAAAAAACRlZHRzAAAAHGVsc3QAAAAAAAAAAQAAJYAAAAgAAAEAAAAABkptZGlhAAAA\n",
       "IG1kaGQAAAAAAAAAAAAAAAAAACgAAAGAAFXEAAAAAAAtaGRscgAAAAAAAAAAdmlkZQAAAAAAAAAA\n",
       "AAAAAFZpZGVvSGFuZGxlcgAAAAX1bWluZgAAABR2bWhkAAAAAQAAAAAAAAAAAAAAJGRpbmYAAAAc\n",
       "ZHJlZgAAAAAAAAABAAAADHVybCAAAAABAAAFtXN0YmwAAAC1c3RzZAAAAAAAAAABAAAApWF2YzEA\n",
       "AAAAAAAAAQAAAAAAAAAAAAAAAAAAAAAEOAH4AEgAAABIAAAAAAAAAAEAAAAAAAAAAAAAAAAAAAAA\n",
       "AAAAAAAAAAAAAAAAAAAAAAAY//8AAAAzYXZjQwFkAB//4QAaZ2QAH6zZQEQEHllhAAADAAEAAAMA\n",
       "FA8YMZYBAAZo6+PLIsAAAAAcdXVpZGtoQPJfJE/FujmlG88DI/MAAAAAAAAAGHN0dHMAAAAAAAAA\n",
       "AQAAAGAAAAQAAAAAFHN0c3MAAAAAAAAAAQAAAAEAAAMIY3R0cwAAAAAAAABfAAAAAQAACAAAAAAB\n",
       "AAAUAAAAAAEAAAgAAAAAAQAAAAAAAAABAAAEAAAAAAEAABQAAAAAAQAACAAAAAABAAAAAAAAAAEA\n",
       "AAQAAAAAAQAAFAAAAAABAAAIAAAAAAEAAAAAAAAAAQAABAAAAAABAAAUAAAAAAEAAAgAAAAAAQAA\n",
       "AAAAAAABAAAEAAAAAAEAABQAAAAAAQAACAAAAAABAAAAAAAAAAEAAAQAAAAAAQAAFAAAAAABAAAI\n",
       "AAAAAAEAAAAAAAAAAQAABAAAAAABAAAUAAAAAAEAAAgAAAAAAQAAAAAAAAABAAAEAAAAAAEAABQA\n",
       "AAAAAQAACAAAAAABAAAAAAAAAAEAAAQAAAAAAQAAFAAAAAABAAAIAAAAAAEAAAAAAAAAAQAABAAA\n",
       "AAABAAAUAAAAAAEAAAgAAAAAAQAAAAAAAAABAAAEAAAAAAEAABQAAAAAAQAACAAAAAABAAAAAAAA\n",
       "AAEAAAQAAAAAAQAAFAAAAAABAAAIAAAAAAEAAAAAAAAAAQAABAAAAAABAAAUAAAAAAEAAAgAAAAA\n",
       "AQAAAAAAAAABAAAEAAAAAAEAABQAAAAAAQAACAAAAAABAAAAAAAAAAEAAAQAAAAAAQAAFAAAAAAB\n",
       "AAAIAAAAAAEAAAAAAAAAAQAABAAAAAABAAAUAAAAAAEAAAgAAAAAAQAAAAAAAAABAAAEAAAAAAEA\n",
       "ABQAAAAAAQAACAAAAAABAAAAAAAAAAEAAAQAAAAAAQAAFAAAAAABAAAIAAAAAAEAAAAAAAAAAQAA\n",
       "BAAAAAABAAAUAAAAAAEAAAgAAAAAAQAAAAAAAAABAAAEAAAAAAEAABQAAAAAAQAACAAAAAABAAAA\n",
       "AAAAAAEAAAQAAAAAAQAAFAAAAAABAAAIAAAAAAEAAAAAAAAAAQAABAAAAAABAAAUAAAAAAEAAAgA\n",
       "AAAAAQAAAAAAAAABAAAEAAAAAAEAABQAAAAAAQAACAAAAAABAAAAAAAAAAEAAAQAAAAAAQAAEAAA\n",
       "AAACAAAEAAAAABxzdHNjAAAAAAAAAAEAAAABAAAAYAAAAAEAAAGUc3RzegAAAAAAAAAAAAAAYAAA\n",
       "Cp4AAAAzAAAAHQAAAB0AAAAbAAAAJAAAAB0AAAAbAAAAGwAAACQAAAAdAAAAGwAAABsAAAAkAAAA\n",
       "HQAAABsAAAAbAAAAJAAAAB0AAAAbAAAAGwAAACQAAAAdAAAAGwAAABsAAAAkAAAAHQAAABsAAAAb\n",
       "AAAAJAAAAB0AAAAbAAAAGwAAACQAAAAdAAAAGwAAABsAAAAkAAAAHQAAABsAAAAbAAAAJAAAAB0A\n",
       "AAAbAAAAGwAAACQAAAAdAAAAGwAAABsAAAAkAAAAHQAAABsAAAAbAAAAJAAAAB0AAAAbAAAAGwAA\n",
       "ACQAAAAdAAAAGwAAABsAAAAkAAAAHQAAABsAAAAbAAAAJAAAAB0AAAAbAAAAGwAAACQAAAAdAAAA\n",
       "GwAAABsAAAAkAAAAHQAAABsAAAAbAAAAJAAAAB0AAAAbAAAAGwAAACQAAAAdAAAAGwAAABsAAAAl\n",
       "AAAAHQAAABsAAAAbAAAAJAAAAB0AAAAbAAAAGwAAACMAAAAdAAAAGwAAABRzdGNvAAAAAAAAAAEA\n",
       "AAAsAAAAYnVkdGEAAABabWV0YQAAAAAAAAAhaGRscgAAAAAAAAAAbWRpcmFwcGwAAAAAAAAAAAAA\n",
       "AAAtaWxzdAAAACWpdG9vAAAAHWRhdGEAAAABAAAAAExhdmY1Ny41Ni4xMDE=\n",
       "\">\n",
       "  Your browser does not support the video tag.\n",
       "</video>"
      ],
      "text/plain": [
       "<IPython.core.display.HTML object>"
      ]
     },
     "execution_count": 49,
     "metadata": {},
     "output_type": "execute_result"
    }
   ],
   "source": [
    "scan = next(iter(dataset))\n",
    "prediction = autoencoder(scan)\n",
    "print(loss_fn(scan, prediction))\n",
    "plot_animated_volume(prediction)"
   ]
  },
  {
   "cell_type": "code",
   "execution_count": null,
   "metadata": {},
   "outputs": [],
   "source": [
    "i = next(iter(dataset))\n",
    "fig, ax = plt.subplots(ncols=3)\n",
    "sample = 1\n",
    "ax[0].imshow(tf.cast(i[sample, 0, :, :, 0], tf.float32), cmap=\"gray\")\n",
    "encoder_out = autoencoder.layers[0](i)\n",
    "ax[1].imshow(tf.cast(encoder_out[sample, 0, :, :, 0], tf.float32), cmap=\"gray\")\n",
    "decoder_out = autoencoder.layers[1](encoder_out)\n",
    "ax[2].imshow(tf.cast(decoder_out[sample, 0, :, :, 0], tf.float32), cmap=\"gray\")"
   ]
  }
 ],
 "metadata": {
  "kernelspec": {
   "display_name": "Python 3",
   "language": "python",
   "name": "python3"
  },
  "language_info": {
   "codemirror_mode": {
    "name": "ipython",
    "version": 3
   },
   "file_extension": ".py",
   "mimetype": "text/x-python",
   "name": "python",
   "nbconvert_exporter": "python",
   "pygments_lexer": "ipython3",
   "version": "3.7.4"
  }
 },
 "nbformat": 4,
 "nbformat_minor": 4
}
