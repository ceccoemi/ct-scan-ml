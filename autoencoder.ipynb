{
 "cells": [
  {
   "cell_type": "code",
   "execution_count": null,
   "metadata": {},
   "outputs": [],
   "source": [
    "import datetime\n",
    "from pathlib import Path\n",
    "\n",
    "import numpy as np\n",
    "import tensorflow as tf\n",
    "from tensorflow import keras\n",
    "from tqdm.notebook import tqdm\n",
    "import matplotlib.pyplot as plt\n",
    "\n",
    "from data import example_to_tensor\n",
    "from train import EarlyStopping\n",
    "from utils import plot_slice, plot_animated_volume\n",
    "\n",
    "print(f\"Tensorflow: {tf.__version__}\")\n",
    "tf.compat.v1.logging.set_verbosity(tf.compat.v1.logging.ERROR)\n",
    "\n",
    "%matplotlib inline\n",
    "plt.rcParams[\"figure.figsize\"] = [15, 7]"
   ]
  },
  {
   "cell_type": "code",
   "execution_count": null,
   "metadata": {},
   "outputs": [],
   "source": [
    "verbose_training = True\n",
    "# Hyperparameters\n",
    "epochs = 1000\n",
    "learning_rate = 0.0005\n",
    "patience = 20\n",
    "batch_size = 2\n",
    "test_size = 2 # number of images\n",
    "validation_size = 4  # number of batches\n",
    "input_shape = (248, 128, 128, 1)  # downscale 4\n",
    "# input_shape = (488, 256, 256, 1)  # downscale 2\n",
    "# input_shape = (964, 512, 512, 1)  # original"
   ]
  },
  {
   "cell_type": "code",
   "execution_count": null,
   "metadata": {},
   "outputs": [],
   "source": [
    "def normalize(t):\n",
    "    \"Normalize the input tensor in [0, 1]\"\n",
    "    max_value = tf.reduce_max(t)\n",
    "    min_value = tf.reduce_min(t)\n",
    "    return (t - min_value) / (max_value - min_value)"
   ]
  },
  {
   "cell_type": "code",
   "execution_count": null,
   "metadata": {},
   "outputs": [],
   "source": [
    "data_dir = Path(\"data\")\n",
    "tfrecord_fnames = [\n",
    "    str(p)\n",
    "    for g in (data_dir.glob(\"tcia-0.25/*.tfrecord\"), data_dir.glob(\"nrrd-0.25/*.tfrecord\"))\n",
    "    for p in g\n",
    "]\n",
    "\n",
    "full_dataset = tf.data.TFRecordDataset(tfrecord_fnames)\n",
    "full_dataset = full_dataset.map(example_to_tensor)\n",
    "full_dataset = full_dataset.map(normalize)\n",
    "full_dataset = full_dataset.map(\n",
    "   lambda x: tf.expand_dims(x, axis=-1)\n",
    ")  # add the channel dimension"
   ]
  },
  {
   "cell_type": "code",
   "execution_count": null,
   "metadata": {},
   "outputs": [],
   "source": [
    "dataset = full_dataset\n",
    "test_dataset = dataset.take(test_size)\n",
    "test_dataset = test_dataset.batch(1)\n",
    "dataset = dataset.skip(test_size)\n",
    "dataset = dataset.padded_batch(batch_size=batch_size, padded_shapes=input_shape,)\n",
    "val_dataset = dataset.take(validation_size)\n",
    "train_dataset = dataset.skip(validation_size)\n",
    "train_dataset = train_dataset.shuffle(buffer_size=64, reshuffle_each_iteration=True)\n",
    "train_dataset = train_dataset.take(100)\n",
    "train_dataset = train_dataset.prefetch(tf.data.experimental.AUTOTUNE)\n",
    "train_dataset"
   ]
  },
  {
   "cell_type": "code",
   "execution_count": null,
   "metadata": {},
   "outputs": [],
   "source": [
    "def conv_block(filters, kernel_size=3, dropout_rate=0.1, pool_size=2):\n",
    "    \"\"\"\n",
    "    - Convolution 3D\n",
    "    - Selu activation\n",
    "    - Dropout\n",
    "    - Max pool 3D\n",
    "    \"\"\"\n",
    "    return (\n",
    "        keras.layers.Conv3D(\n",
    "            filters=filters,\n",
    "            kernel_size=3,\n",
    "            padding=\"same\",\n",
    "            kernel_initializer=\"lecun_normal\",\n",
    "            bias_initializer=\"lecun_normal\",\n",
    "        ),\n",
    "        keras.layers.Activation(\"selu\"),\n",
    "        keras.layers.AlphaDropout(dropout_rate),\n",
    "        keras.layers.MaxPool3D(pool_size=pool_size),\n",
    "    )"
   ]
  },
  {
   "cell_type": "code",
   "execution_count": null,
   "metadata": {},
   "outputs": [],
   "source": [
    "def deconv_block(filters, kernel_size=3, dropout_rate=0.1, pool_size=2):\n",
    "    \"\"\"\n",
    "    - Up sampling 3D\n",
    "    - Convolution 3D\n",
    "    - Selu activation\n",
    "    - Dropout\n",
    "    \"\"\"\n",
    "    return (\n",
    "        keras.layers.UpSampling3D(size=pool_size),\n",
    "        keras.layers.Conv3D(\n",
    "            filters=filters,\n",
    "            kernel_size=kernel_size,\n",
    "            padding=\"same\",\n",
    "            kernel_initializer=\"lecun_normal\",\n",
    "            bias_initializer=\"lecun_normal\",\n",
    "        ),\n",
    "        keras.layers.Activation(\"selu\"),\n",
    "        keras.layers.AlphaDropout(dropout_rate),\n",
    "    )"
   ]
  },
  {
   "cell_type": "code",
   "execution_count": null,
   "metadata": {
    "scrolled": false
   },
   "outputs": [],
   "source": [
    "encoder = keras.Sequential(\n",
    "    [\n",
    "        keras.layers.InputLayer(input_shape),\n",
    "        *conv_block(filters=16),\n",
    "        *conv_block(filters=32),\n",
    "        *conv_block(filters=64),\n",
    "    ]\n",
    ")\n",
    "encoder.summary()"
   ]
  },
  {
   "cell_type": "code",
   "execution_count": null,
   "metadata": {},
   "outputs": [],
   "source": [
    "decoder = keras.models.Sequential(\n",
    "    [\n",
    "        keras.layers.InputLayer(input_shape=encoder.layers[-1].output.shape[1:],),\n",
    "        *deconv_block(64),\n",
    "        *deconv_block(32),\n",
    "        *deconv_block(16),\n",
    "        keras.layers.Dense(1),\n",
    "        keras.layers.Activation(\"sigmoid\"),\n",
    "    ]\n",
    ")\n",
    "decoder.summary()"
   ]
  },
  {
   "cell_type": "code",
   "execution_count": null,
   "metadata": {},
   "outputs": [],
   "source": [
    "autoencoder = keras.models.Sequential([encoder, decoder])\n",
    "# autoencoder.load_weights(\"models/autoencoder/20200924-235155/best_epoch_ckpt\")\n",
    "# autoencoder = keras.models.load_model(\"models/autoencoder/20200924-235155\")\n",
    "\n",
    "#strategy = tf.distribute.MirroredStrategy()\n",
    "#print('Number of devices: {}'.format(strategy.num_replicas_in_sync))\n",
    "#with strategy.scope():\n",
    "#    autoencoder = keras.models.Sequential([encoder, decoder])\n",
    "\n",
    "autoencoder.build((None, *input_shape))\n",
    "autoencoder.summary()"
   ]
  },
  {
   "cell_type": "code",
   "execution_count": null,
   "metadata": {},
   "outputs": [],
   "source": [
    "loss_fn = keras.losses.MeanSquaredError()\n",
    "optimizer = keras.optimizers.Adam(lr=learning_rate)"
   ]
  },
  {
   "cell_type": "code",
   "execution_count": null,
   "metadata": {},
   "outputs": [],
   "source": [
    "start_time = datetime.datetime.now()\n",
    "start_time_str = start_time.strftime(\"%Y%m%d-%H%M%S\")\n",
    "log_dir = f\"logs/autoencoder/{start_time_str}/\"\n",
    "model_dir = f\"models/autoencoder/{start_time_str}/\"\n",
    "ckpt_dir = model_dir + \"best_epoch_ckpt\"\n",
    "writer = tf.summary.create_file_writer(log_dir)\n",
    "\n",
    "early_stopping = EarlyStopping(patience)\n",
    "\n",
    "for epoch in tqdm(range(epochs), disable=False):\n",
    "\n",
    "    ### TRAIN ###\n",
    "\n",
    "    train_loss_metric = tf.keras.metrics.Mean(\"train_loss\", dtype=tf.float32)\n",
    "    for batch in train_dataset:\n",
    "        with tf.GradientTape() as tape:\n",
    "            predictions = autoencoder(batch)\n",
    "            loss_value = loss_fn(predictions, batch)\n",
    "        gradients = tape.gradient(loss_value, autoencoder.trainable_variables)\n",
    "        optimizer.apply_gradients(zip(gradients, autoencoder.trainable_variables))\n",
    "        train_loss_metric.update_state(loss_value)\n",
    "        with writer.as_default():\n",
    "            for grad, param in zip(gradients, autoencoder.trainable_variables):\n",
    "                tf.summary.histogram(param.name, param, step=epoch)\n",
    "                # tf.summary.histogram(param.name + \"/grad\", grad, buckets=1, step=epoch)\n",
    "\n",
    "    train_loss_mean = train_loss_metric.result()\n",
    "    with writer.as_default():\n",
    "        tf.summary.scalar(\"Training loss\", train_loss_mean, step=epoch)\n",
    "    train_loss_metric.reset_states()\n",
    "\n",
    "    ### VALIDATION ###\n",
    "\n",
    "    val_loss_metric = tf.keras.metrics.Mean(\"val_loss\", dtype=tf.float32)\n",
    "    for batch in val_dataset:\n",
    "        predictions = autoencoder(batch)\n",
    "        val_loss_metric.update_state(loss_fn(predictions, batch))\n",
    "\n",
    "    val_loss_mean = val_loss_metric.result()\n",
    "    with writer.as_default():\n",
    "        tf.summary.scalar(\"Validation loss\", val_loss_mean, step=epoch)\n",
    "    val_loss_metric.reset_states()\n",
    "\n",
    "    if verbose_training:\n",
    "        print()\n",
    "        print(f\"Epoch : {epoch}\")\n",
    "        print(f\"Training loss: {train_loss_mean}\")\n",
    "        print(f\"Validation loss: {val_loss_mean}\")\n",
    "\n",
    "    ### EARLY STOPPING ###\n",
    "\n",
    "    early_stopping.update(val_loss_mean)\n",
    "    if early_stopping.early_stop:\n",
    "        autoencoder.load_weights(ckpt_dir)\n",
    "        break\n",
    "    elif early_stopping.not_improving_epochs == 0:\n",
    "        autoencoder.save_weights(ckpt_dir)\n",
    "\n",
    "autoencoder.save(model_dir)\n",
    "\n",
    "end_time = datetime.datetime.now()\n",
    "training_time = str(end_time - start_time).split(\".\")[0]\n",
    "\n",
    "with writer.as_default():\n",
    "    tf.summary.text(\n",
    "        \"Hyperparameters\",\n",
    "        f\"batch size = {batch_size}; \"\n",
    "        f\"patience = {patience}; \"\n",
    "        f\"learning rate = {learning_rate}; \"\n",
    "        f\"training time = {training_time}\",\n",
    "        step=0,\n",
    "    )"
   ]
  },
  {
   "cell_type": "code",
   "execution_count": null,
   "metadata": {},
   "outputs": [],
   "source": [
    "%reload_ext tensorboard\n",
    "%tensorboard --logdir=logs --bind_all"
   ]
  },
  {
   "cell_type": "code",
   "execution_count": null,
   "metadata": {},
   "outputs": [],
   "source": [
    "original = next(iter(test_dataset))\n",
    "encoder_out = autoencoder.layers[0](original)\n",
    "decoder_out = autoencoder.layers[1](encoder_out)\n",
    "batch_index = 0"
   ]
  },
  {
   "cell_type": "code",
   "execution_count": null,
   "metadata": {},
   "outputs": [],
   "source": [
    "z_index = 20\n",
    "fig, ax = plt.subplots(ncols=3)\n",
    "plot_slice(original, batch_index, z_index, ax[0])\n",
    "plot_slice(encoder_out, batch_index, encoder_out.shape[1] // 3, ax[1])\n",
    "plot_slice(decoder_out, batch_index, z_index, ax[2])"
   ]
  },
  {
   "cell_type": "code",
   "execution_count": null,
   "metadata": {},
   "outputs": [],
   "source": [
    "plot_animated_volume(original, batch_index)"
   ]
  },
  {
   "cell_type": "code",
   "execution_count": null,
   "metadata": {},
   "outputs": [],
   "source": [
    "plot_animated_volume(encoder_out, batch_index, fps=10)"
   ]
  },
  {
   "cell_type": "code",
   "execution_count": null,
   "metadata": {},
   "outputs": [],
   "source": [
    "plot_animated_volume(decoder_out, batch_index)"
   ]
  },
  {
   "cell_type": "code",
   "execution_count": null,
   "metadata": {},
   "outputs": [],
   "source": []
  }
 ],
 "metadata": {
  "kernelspec": {
   "display_name": "Python 3",
   "language": "python",
   "name": "python3"
  },
  "language_info": {
   "codemirror_mode": {
    "name": "ipython",
    "version": 3
   },
   "file_extension": ".py",
   "mimetype": "text/x-python",
   "name": "python",
   "nbconvert_exporter": "python",
   "pygments_lexer": "ipython3",
   "version": "3.6.6"
  }
 },
 "nbformat": 4,
 "nbformat_minor": 4
}
