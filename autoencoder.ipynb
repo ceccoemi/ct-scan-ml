{
 "cells": [
  {
   "cell_type": "code",
   "execution_count": 1,
   "metadata": {},
   "outputs": [
    {
     "name": "stdout",
     "output_type": "stream",
     "text": [
      "Tensorflow: 2.3.0\n"
     ]
    }
   ],
   "source": [
    "import datetime\n",
    "\n",
    "import numpy as np\n",
    "import tensorflow as tf\n",
    "from tensorflow import keras\n",
    "from tqdm.notebook import tqdm\n",
    "import matplotlib.pyplot as plt\n",
    "\n",
    "from data import example_to_tensor\n",
    "from train import EarlyStopping\n",
    "from utils import plot_slice, plot_animated_volume\n",
    "\n",
    "print(f\"Tensorflow: {tf.__version__}\")\n",
    "tf.compat.v1.logging.set_verbosity(tf.compat.v1.logging.ERROR)\n",
    "\n",
    "%matplotlib inline\n",
    "plt.rcParams[\"figure.figsize\"] = [15, 7]"
   ]
  },
  {
   "cell_type": "code",
   "execution_count": 30,
   "metadata": {},
   "outputs": [],
   "source": [
    "# Hyperparameters\n",
    "epochs = 1000\n",
    "learning_rate = 0.0001\n",
    "patience = 3\n",
    "batch_size = 2\n",
    "xy_size = 128  # downscale 4\n",
    "#z_size = 96  # downscale 4 (nrrd)\n",
    "z_size = 244  # downscale 4 (tcia)\n",
    "# xy_size = 256  # downscale 2\n",
    "# z_size = 176  # downscale 2\n",
    "# xy_size = 512   # original\n",
    "# z_size = 368    # original"
   ]
  },
  {
   "cell_type": "code",
   "execution_count": 31,
   "metadata": {},
   "outputs": [
    {
     "data": {
      "text/plain": [
       "<TakeDataset shapes: (None, 244, 128, 128, 1), types: tf.float16>"
      ]
     },
     "execution_count": 31,
     "metadata": {},
     "output_type": "execute_result"
    }
   ],
   "source": [
    "dataset = tf.data.TFRecordDataset(\"data/nrrd-0.25-float16.tfrecords\")\n",
    "dataset = dataset.map(lambda x: example_to_tensor(x, \"float16\"))\n",
    "dataset = dataset.padded_batch(\n",
    "    batch_size=2, padded_shapes=[z_size, xy_size, xy_size, 1],\n",
    ")\n",
    "# dataset = dataset.skip(10)\n",
    "dataset = dataset.take(1)\n",
    "# dataset = dataset.shuffle(buffer_size=10, reshuffle_each_iteration=True)\n",
    "dataset"
   ]
  },
  {
   "cell_type": "code",
   "execution_count": 38,
   "metadata": {
    "scrolled": false
   },
   "outputs": [
    {
     "name": "stdout",
     "output_type": "stream",
     "text": [
      "Model: \"sequential_11\"\n",
      "_________________________________________________________________\n",
      "Layer (type)                 Output Shape              Param #   \n",
      "=================================================================\n",
      "conv3d_16 (Conv3D)           (None, 244, 128, 128, 16) 448       \n",
      "_________________________________________________________________\n",
      "activation_20 (Activation)   (None, 244, 128, 128, 16) 0         \n",
      "_________________________________________________________________\n",
      "alpha_dropout_16 (AlphaDropo (None, 244, 128, 128, 16) 0         \n",
      "_________________________________________________________________\n",
      "max_pooling3d_8 (MaxPooling3 (None, 122, 64, 64, 16)   0         \n",
      "_________________________________________________________________\n",
      "conv3d_17 (Conv3D)           (None, 122, 64, 64, 32)   13856     \n",
      "_________________________________________________________________\n",
      "activation_21 (Activation)   (None, 122, 64, 64, 32)   0         \n",
      "_________________________________________________________________\n",
      "alpha_dropout_17 (AlphaDropo (None, 122, 64, 64, 32)   0         \n",
      "_________________________________________________________________\n",
      "max_pooling3d_9 (MaxPooling3 (None, 61, 32, 32, 32)    0         \n",
      "=================================================================\n",
      "Total params: 14,304\n",
      "Trainable params: 14,304\n",
      "Non-trainable params: 0\n",
      "_________________________________________________________________\n"
     ]
    }
   ],
   "source": [
    "encoder = keras.models.Sequential(\n",
    "    [\n",
    "        keras.layers.Conv3D(\n",
    "            input_shape=[z_size, xy_size, xy_size, 1],\n",
    "            filters=16,\n",
    "            kernel_size=3,\n",
    "            padding=\"same\",\n",
    "            kernel_initializer=\"lecun_normal\",\n",
    "            bias_initializer=\"lecun_normal\",\n",
    "        ),\n",
    "        keras.layers.Activation(\"selu\"),\n",
    "        keras.layers.AlphaDropout(0.25),\n",
    "        keras.layers.MaxPool3D(pool_size=2),\n",
    "        keras.layers.Conv3D(\n",
    "            filters=32,\n",
    "            kernel_size=3,\n",
    "            padding=\"same\",\n",
    "            kernel_initializer=\"lecun_normal\",\n",
    "            bias_initializer=\"lecun_normal\",\n",
    "        ),\n",
    "        keras.layers.Activation(\"selu\"),\n",
    "        keras.layers.AlphaDropout(0.25),\n",
    "        keras.layers.MaxPool3D(pool_size=2),\n",
    "    ]\n",
    ")\n",
    "encoder.summary()"
   ]
  },
  {
   "cell_type": "code",
   "execution_count": 39,
   "metadata": {},
   "outputs": [
    {
     "name": "stdout",
     "output_type": "stream",
     "text": [
      "Model: \"sequential_12\"\n",
      "_________________________________________________________________\n",
      "Layer (type)                 Output Shape              Param #   \n",
      "=================================================================\n",
      "up_sampling3d_8 (UpSampling3 (None, 122, 64, 64, 32)   0         \n",
      "_________________________________________________________________\n",
      "conv3d_18 (Conv3D)           (None, 122, 64, 64, 32)   27680     \n",
      "_________________________________________________________________\n",
      "activation_22 (Activation)   (None, 122, 64, 64, 32)   0         \n",
      "_________________________________________________________________\n",
      "alpha_dropout_18 (AlphaDropo (None, 122, 64, 64, 32)   0         \n",
      "_________________________________________________________________\n",
      "up_sampling3d_9 (UpSampling3 (None, 244, 128, 128, 32) 0         \n",
      "_________________________________________________________________\n",
      "conv3d_19 (Conv3D)           (None, 244, 128, 128, 16) 13840     \n",
      "_________________________________________________________________\n",
      "activation_23 (Activation)   (None, 244, 128, 128, 16) 0         \n",
      "_________________________________________________________________\n",
      "alpha_dropout_19 (AlphaDropo (None, 244, 128, 128, 16) 0         \n",
      "_________________________________________________________________\n",
      "dense_4 (Dense)              (None, 244, 128, 128, 1)  17        \n",
      "_________________________________________________________________\n",
      "activation_24 (Activation)   (None, 244, 128, 128, 1)  0         \n",
      "=================================================================\n",
      "Total params: 41,537\n",
      "Trainable params: 41,537\n",
      "Non-trainable params: 0\n",
      "_________________________________________________________________\n"
     ]
    }
   ],
   "source": [
    "decoder = keras.models.Sequential(\n",
    "    [\n",
    "        keras.layers.UpSampling3D(\n",
    "            input_shape=encoder.layers[-1].output.shape[1:], size=2,\n",
    "        ),\n",
    "        keras.layers.Conv3D(\n",
    "            filters=32,\n",
    "            kernel_size=3,\n",
    "            padding=\"same\",\n",
    "            kernel_initializer=\"lecun_normal\",\n",
    "            bias_initializer=\"lecun_normal\",\n",
    "        ),\n",
    "        keras.layers.Activation(\"selu\"),\n",
    "        keras.layers.AlphaDropout(0.25),\n",
    "        keras.layers.UpSampling3D(size=2,),\n",
    "        keras.layers.Conv3D(\n",
    "            filters=16,\n",
    "            kernel_size=3,\n",
    "            padding=\"same\",\n",
    "            kernel_initializer=\"lecun_normal\",\n",
    "            bias_initializer=\"lecun_normal\",\n",
    "        ),\n",
    "        keras.layers.Activation(\"selu\"),\n",
    "        keras.layers.AlphaDropout(0.25),\n",
    "        keras.layers.Dense(1),\n",
    "        keras.layers.Activation(\"sigmoid\"),\n",
    "    ]\n",
    ")\n",
    "decoder.summary()"
   ]
  },
  {
   "cell_type": "code",
   "execution_count": 40,
   "metadata": {},
   "outputs": [
    {
     "name": "stdout",
     "output_type": "stream",
     "text": [
      "Model: \"sequential_13\"\n",
      "_________________________________________________________________\n",
      "Layer (type)                 Output Shape              Param #   \n",
      "=================================================================\n",
      "sequential_11 (Sequential)   (None, 61, 32, 32, 32)    14304     \n",
      "_________________________________________________________________\n",
      "sequential_12 (Sequential)   (None, 244, 128, 128, 1)  41537     \n",
      "=================================================================\n",
      "Total params: 55,841\n",
      "Trainable params: 55,841\n",
      "Non-trainable params: 0\n",
      "_________________________________________________________________\n"
     ]
    }
   ],
   "source": [
    "autoencoder = keras.models.Sequential([encoder, decoder])\n",
    "# autoencoder.load_weights(\"models/autoencoder/20200723-103317/best_epoch_ckpt\")\n",
    "# autoencoder = keras.models.load_model(\"models/autoencoder/20200823-110737/\")\n",
    "autoencoder.summary()"
   ]
  },
  {
   "cell_type": "code",
   "execution_count": 41,
   "metadata": {},
   "outputs": [],
   "source": [
    "loss_fn = keras.losses.MeanSquaredError()\n",
    "optimizer = keras.optimizers.Adam(lr=learning_rate)"
   ]
  },
  {
   "cell_type": "code",
   "execution_count": 42,
   "metadata": {
    "scrolled": true
   },
   "outputs": [
    {
     "data": {
      "application/vnd.jupyter.widget-view+json": {
       "model_id": "9072d9672e61449ba6fbb4530a7722f7",
       "version_major": 2,
       "version_minor": 0
      },
      "text/plain": [
       "HBox(children=(FloatProgress(value=0.0, max=1000.0), HTML(value='')))"
      ]
     },
     "metadata": {},
     "output_type": "display_data"
    },
    {
     "name": "stdout",
     "output_type": "stream",
     "text": [
      "Training loss: 0.1767578125\n",
      "Training loss: 0.07073974609375\n",
      "Training loss: 0.0288543701171875\n",
      "Training loss: 0.01375579833984375\n",
      "Training loss: 0.00817108154296875\n",
      "Training loss: 0.0057525634765625\n",
      "Training loss: 0.004550933837890625\n",
      "Training loss: 0.0038890838623046875\n",
      "Training loss: 0.003490447998046875\n",
      "Training loss: 0.003231048583984375\n",
      "Training loss: 0.0030536651611328125\n",
      "Training loss: 0.0029277801513671875\n",
      "Training loss: 0.002834320068359375\n",
      "Training loss: 0.0027618408203125\n",
      "Training loss: 0.0027065277099609375\n",
      "Training loss: 0.00266265869140625\n",
      "Training loss: 0.002628326416015625\n",
      "Training loss: 0.002597808837890625\n",
      "Training loss: 0.002574920654296875\n",
      "Training loss: 0.0025539398193359375\n",
      "Training loss: 0.002536773681640625\n",
      "Training loss: 0.0025234222412109375\n",
      "Training loss: 0.00251007080078125\n",
      "Training loss: 0.0025005340576171875\n",
      "Training loss: 0.002490997314453125\n",
      "Training loss: 0.0024814605712890625\n",
      "Training loss: 0.002475738525390625\n",
      "Training loss: 0.002468109130859375\n",
      "Training loss: 0.0024623870849609375\n",
      "Training loss: 0.0024585723876953125\n",
      "Training loss: 0.0024547576904296875\n",
      "Training loss: 0.0024509429931640625\n",
      "Training loss: 0.0024471282958984375\n",
      "Training loss: 0.0024433135986328125\n",
      "Training loss: 0.00244140625\n",
      "Training loss: 0.0024394989013671875\n",
      "Training loss: 0.0024356842041015625\n",
      "Training loss: 0.00243377685546875\n",
      "Training loss: 0.0024318695068359375\n",
      "Training loss: 0.002429962158203125\n",
      "Training loss: 0.002429962158203125\n",
      "Training loss: 0.0024280548095703125\n",
      "Training loss: 0.0024261474609375\n",
      "Training loss: 0.0024261474609375\n",
      "Training loss: 0.0024242401123046875\n",
      "Training loss: 0.0024242401123046875\n",
      "Training loss: 0.002422332763671875\n",
      "Training loss: 0.002422332763671875\n",
      "Training loss: 0.0024204254150390625\n",
      "Training loss: 0.0024204254150390625\n",
      "Training loss: 0.0024204254150390625\n",
      "Training loss: 0.00241851806640625\n",
      "Training loss: 0.00241851806640625\n",
      "Training loss: 0.00241851806640625\n",
      "Training loss: 0.0024166107177734375\n",
      "Training loss: 0.0024166107177734375\n",
      "Training loss: 0.0024166107177734375\n",
      "Training loss: 0.0024166107177734375\n",
      "Training loss: 0.002414703369140625\n",
      "Training loss: 0.002414703369140625\n",
      "Training loss: 0.002414703369140625\n",
      "Training loss: 0.002414703369140625\n",
      "Training loss: 0.002414703369140625\n",
      "\n"
     ]
    }
   ],
   "source": [
    "current_time = datetime.datetime.now().strftime(\"%Y%m%d-%H%M%S\")\n",
    "log_dir = f\"logs/autoencoder/{current_time}/\"\n",
    "model_dir = f\"models/autoencoder/{current_time}/\"\n",
    "ckpt_dir = model_dir + \"best_epoch_ckpt\"\n",
    "writer = tf.summary.create_file_writer(log_dir)\n",
    "train_loss = tf.keras.metrics.Mean(\"train_loss\", dtype=tf.float32)\n",
    "early_stopping = EarlyStopping(patience)\n",
    "\n",
    "for epoch in tqdm(range(epochs), disable=False):\n",
    "    for batch_features in tqdm(dataset, total=1, disable=True):\n",
    "        with tf.GradientTape() as tape:\n",
    "            predictions = autoencoder(batch_features)\n",
    "            loss_value = loss_fn(predictions, batch_features)\n",
    "        gradients = tape.gradient(loss_value, autoencoder.trainable_variables)\n",
    "        optimizer.apply_gradients(zip(gradients, autoencoder.trainable_variables))\n",
    "        with writer.as_default():\n",
    "            for grad, param in zip(gradients, autoencoder.trainable_variables):\n",
    "                tf.summary.histogram(param.name, param, step=epoch)\n",
    "                # tf.summary.histogram(param.name + \"/grad\", grad, buckets=1, step=epoch)\n",
    "            train_loss(loss_value)\n",
    "\n",
    "    with writer.as_default():\n",
    "        loss_mean = train_loss.result()\n",
    "        print(f\"Training loss: {loss_mean}\")\n",
    "        tf.summary.scalar(\"loss\", loss_mean, step=epoch)\n",
    "\n",
    "    train_loss.reset_states()\n",
    "\n",
    "    early_stopping(loss_mean)\n",
    "    if early_stopping.early_stop:\n",
    "        autoencoder.load_weights(ckpt_dir)\n",
    "        autoencoder.save(model_dir)\n",
    "        break\n",
    "    elif early_stopping.counter == 0:\n",
    "        autoencoder.save_weights(ckpt_dir)\n",
    "else:\n",
    "    # didn't stop for early stopping\n",
    "    autoencoder.save(model_dir)\n",
    "\n",
    "with writer.as_default():\n",
    "    tf.summary.text(\n",
    "        \"Hyperparameters\",\n",
    "        f\"batch size = {batch_size}; \"\n",
    "        f\"patience = {patience}; \"\n",
    "        f\"learning rate = {learning_rate}\",\n",
    "        step=0,\n",
    "    )"
   ]
  },
  {
   "cell_type": "code",
   "execution_count": null,
   "metadata": {},
   "outputs": [],
   "source": [
    "%reload_ext tensorboard\n",
    "%tensorboard --logdir=logs --bind_all"
   ]
  },
  {
   "cell_type": "code",
   "execution_count": null,
   "metadata": {},
   "outputs": [],
   "source": [
    "scan = next(iter(dataset))\n",
    "prediction = autoencoder(scan)\n",
    "loss_fn(scan, prediction)\n",
    "plot_slice(prediction, 0, 5)"
   ]
  },
  {
   "cell_type": "code",
   "execution_count": 37,
   "metadata": {},
   "outputs": [
    {
     "data": {
      "text/plain": [
       "<matplotlib.image.AxesImage at 0x7f424782b978>"
      ]
     },
     "execution_count": 37,
     "metadata": {},
     "output_type": "execute_result"
    },
    {
     "data": {
      "image/png": "[encoded data removed]",
      "text/plain": [
       "<Figure size 1080x504 with 3 Axes>"
      ]
     },
     "metadata": {
      "needs_background": "light"
     },
     "output_type": "display_data"
    }
   ],
   "source": [
    "encoder_input = next(iter(dataset))\n",
    "fig, ax = plt.subplots(ncols=3)\n",
    "batch_index = 0\n",
    "z_index = 10\n",
    "plot_slice(encoder_input, batch_index, z_index, ax[0])\n",
    "encoder_out = autoencoder.layers[0](encoder_input)\n",
    "plot_slice(encoder_out, batch_index, z_index, ax[1])\n",
    "decoder_out = autoencoder.layers[1](encoder_out)\n",
    "plot_slice(decoder_out, batch_index, z_index, ax[2])\n",
    "#ax[0].imshow(tf.cast(i[sample, 0, :, :, 0], tf.float32), cmap=\"gray\")\n",
    "#encoder_out = autoencoder.layers[0](i)\n",
    "#ax[1].imshow(tf.cast(encoder_out[sample, 0, :, :, 0], tf.float32), cmap=\"gray\")\n",
    "#decoder_out = autoencoder.layers[1](encoder_out)\n",
    "#ax[2].imshow(tf.cast(decoder_out[sample, 0, :, :, 0], tf.float32), cmap=\"gray\")"
   ]
  }
 ],
 "metadata": {
  "kernelspec": {
   "display_name": "Python 3",
   "language": "python",
   "name": "python3"
  },
  "language_info": {
   "codemirror_mode": {
    "name": "ipython",
    "version": 3
   },
   "file_extension": ".py",
   "mimetype": "text/x-python",
   "name": "python",
   "nbconvert_exporter": "python",
   "pygments_lexer": "ipython3",
   "version": "3.6.6"
  }
 },
 "nbformat": 4,
 "nbformat_minor": 4
}
