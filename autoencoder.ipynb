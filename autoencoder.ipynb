{
 "cells": [
  {
   "cell_type": "code",
   "execution_count": 1,
   "metadata": {},
   "outputs": [
    {
     "name": "stdout",
     "output_type": "stream",
     "text": [
      "Tensorflow: 2.2.0\n"
     ]
    }
   ],
   "source": [
    "import datetime\n",
    "\n",
    "import numpy as np\n",
    "import tensorflow as tf\n",
    "from tensorflow import keras\n",
    "from tqdm.notebook import tqdm\n",
    "import matplotlib.pyplot as plt\n",
    "\n",
    "from data import example_to_tensor\n",
    "from train import EarlyStopping\n",
    "\n",
    "print(f\"Tensorflow: {tf.__version__}\")\n",
    "tf.compat.v1.logging.set_verbosity(tf.compat.v1.logging.ERROR)\n",
    "\n",
    "%matplotlib inline\n",
    "plt.rcParams[\"figure.figsize\"] = [15, 7]"
   ]
  },
  {
   "cell_type": "code",
   "execution_count": 2,
   "metadata": {},
   "outputs": [],
   "source": [
    "# Hyperparameters\n",
    "epochs = 1000\n",
    "learning_rate = 0.0001\n",
    "patience = 3\n",
    "batch_size = 2\n",
    "xy_size = 128  # downscale 4\n",
    "#z_size = 96  # downscale 4 (nrrd)\n",
    "z_size = 244  # downscale 4 (tcia)\n",
    "# xy_size = 256  # downscale 2\n",
    "# z_size = 176  # downscale 2\n",
    "# xy_size = 512   # original\n",
    "# z_size = 368    # original"
   ]
  },
  {
   "cell_type": "code",
   "execution_count": 3,
   "metadata": {},
   "outputs": [
    {
     "data": {
      "text/plain": [
       "<TakeDataset shapes: (None, 244, 128, 128, 1), types: tf.float16>"
      ]
     },
     "execution_count": 3,
     "metadata": {},
     "output_type": "execute_result"
    }
   ],
   "source": [
    "dataset = tf.data.TFRecordDataset(\"data/tcia-0.25-float16.tfrecords\")\n",
    "dataset = dataset.map(lambda x: example_to_tensor(x, \"float16\"))\n",
    "dataset = dataset.padded_batch(\n",
    "    batch_size=2, padded_shapes=[z_size, xy_size, xy_size, 1],\n",
    ")\n",
    "# dataset = dataset.skip(10)\n",
    "dataset = dataset.take(2)\n",
    "#dataset = dataset.shuffle(buffer_size=10, reshuffle_each_iteration=True)\n",
    "dataset"
   ]
  },
  {
   "cell_type": "code",
   "execution_count": null,
   "metadata": {},
   "outputs": [],
   "source": [
    "next(iter(dataset))"
   ]
  },
  {
   "cell_type": "code",
   "execution_count": null,
   "metadata": {
    "scrolled": false
   },
   "outputs": [],
   "source": [
    "encoder = keras.models.Sequential(\n",
    "    [\n",
    "        keras.layers.Conv3D(\n",
    "            input_shape=[z_size, xy_size, xy_size, 1],\n",
    "            filters=8,\n",
    "            kernel_size=3,\n",
    "            padding=\"same\",\n",
    "            kernel_initializer=\"lecun_normal\",\n",
    "            bias_initializer=\"lecun_normal\",\n",
    "        ),\n",
    "        keras.layers.Activation(\"selu\"),\n",
    "        keras.layers.AlphaDropout(0.25),\n",
    "        keras.layers.MaxPool3D(pool_size=2),\n",
    "        keras.layers.Conv3D(\n",
    "            filters=16,\n",
    "            kernel_size=3,\n",
    "            padding=\"same\",\n",
    "            kernel_initializer=\"lecun_normal\",\n",
    "            bias_initializer=\"lecun_normal\",\n",
    "        ),\n",
    "        keras.layers.Activation(\"selu\"),\n",
    "        keras.layers.AlphaDropout(0.25),\n",
    "        keras.layers.MaxPool3D(pool_size=2),\n",
    "    ]\n",
    ")\n",
    "encoder.summary()"
   ]
  },
  {
   "cell_type": "code",
   "execution_count": null,
   "metadata": {},
   "outputs": [],
   "source": [
    "decoder = keras.models.Sequential(\n",
    "    [\n",
    "        keras.layers.UpSampling3D(\n",
    "            input_shape=encoder.layers[-1].output.shape[1:], size=2,\n",
    "        ),\n",
    "        keras.layers.Conv3D(\n",
    "            filters=16,\n",
    "            kernel_size=3,\n",
    "            padding=\"same\",\n",
    "            kernel_initializer=\"lecun_normal\",\n",
    "            bias_initializer=\"lecun_normal\",\n",
    "        ),\n",
    "        keras.layers.Activation(\"selu\"),\n",
    "        keras.layers.AlphaDropout(0.25),\n",
    "        keras.layers.UpSampling3D(size=2,),\n",
    "        keras.layers.Conv3D(\n",
    "            filters=8,\n",
    "            kernel_size=3,\n",
    "            padding=\"same\",\n",
    "            kernel_initializer=\"lecun_normal\",\n",
    "            bias_initializer=\"lecun_normal\",\n",
    "        ),\n",
    "        keras.layers.Activation(\"selu\"),\n",
    "        keras.layers.AlphaDropout(0.25),\n",
    "        keras.layers.Dense(1),\n",
    "        keras.layers.Activation(\"sigmoid\"),\n",
    "    ]\n",
    ")\n",
    "decoder.summary()"
   ]
  },
  {
   "cell_type": "code",
   "execution_count": null,
   "metadata": {},
   "outputs": [],
   "source": [
    "autoencoder = keras.models.Sequential([encoder, decoder])\n",
    "# autoencoder.load_weights(\"models/autoencoder/20200723-103317/best_epoch_ckpt\")\n",
    "# autoencoder = keras.models.load_model(\"../../20200816-170759/\")\n",
    "autoencoder.summary()"
   ]
  },
  {
   "cell_type": "code",
   "execution_count": null,
   "metadata": {},
   "outputs": [],
   "source": [
    "loss_fn = keras.losses.MeanSquaredError()\n",
    "optimizer = keras.optimizers.Adam(lr=learning_rate)"
   ]
  },
  {
   "cell_type": "code",
   "execution_count": null,
   "metadata": {
    "scrolled": true
   },
   "outputs": [],
   "source": [
    "current_time = datetime.datetime.now().strftime(\"%Y%m%d-%H%M%S\")\n",
    "log_dir = f\"logs/autoencoder/{current_time}/\"\n",
    "model_dir = f\"models/autoencoder/{current_time}/\"\n",
    "ckpt_dir = model_dir + \"best_epoch_ckpt\"\n",
    "writer = tf.summary.create_file_writer(log_dir)\n",
    "train_loss = tf.keras.metrics.Mean(\"train_loss\", dtype=tf.float32)\n",
    "early_stopping = EarlyStopping(patience)\n",
    "\n",
    "for epoch in tqdm(range(epochs), disable=False):\n",
    "    for batch_features in tqdm(dataset, total=1, disable=True):\n",
    "        with tf.GradientTape() as tape:\n",
    "            predictions = autoencoder(batch_features)\n",
    "            loss_value = loss_fn(predictions, batch_features)\n",
    "        gradients = tape.gradient(loss_value, autoencoder.trainable_variables)\n",
    "        optimizer.apply_gradients(zip(gradients, autoencoder.trainable_variables))\n",
    "        with writer.as_default():\n",
    "            for grad, param in zip(gradients, autoencoder.trainable_variables):\n",
    "                tf.summary.histogram(param.name, param, step=epoch)\n",
    "                # tf.summary.histogram(param.name + \"/grad\", grad, buckets=1, step=epoch)\n",
    "            train_loss(loss_value)\n",
    "\n",
    "    with writer.as_default():\n",
    "        loss_mean = train_loss.result()\n",
    "        print(f\"Training loss: {loss_mean}\")\n",
    "        tf.summary.scalar(\"loss\", loss_mean, step=epoch)\n",
    "\n",
    "    train_loss.reset_states()\n",
    "\n",
    "    early_stopping(loss_mean)\n",
    "    if early_stopping:\n",
    "        autoencoder.load_weights(ckpt_dir)\n",
    "        autoencoder.save(model_dir)\n",
    "        break\n",
    "    else:\n",
    "        autoencoder.save_weights(ckpt_dir)\n",
    "else:\n",
    "    # didn't stop for early stopping\n",
    "    autoencoder.save(model_dir)\n",
    "\n",
    "with writer.as_default():\n",
    "    tf.summary.text(\n",
    "        \"Hyperparameters\",\n",
    "        f\"batch size = {batch_size}; \"\n",
    "        f\"patience = {patience}; \"\n",
    "        f\"learning rate = {learning_rate}\",\n",
    "        step=0,\n",
    "    )"
   ]
  },
  {
   "cell_type": "code",
   "execution_count": null,
   "metadata": {},
   "outputs": [],
   "source": [
    "%reload_ext tensorboard\n",
    "%tensorboard --logdir=logs --bind_all"
   ]
  },
  {
   "cell_type": "code",
   "execution_count": null,
   "metadata": {},
   "outputs": [],
   "source": [
    "i = next(iter(dataset))\n",
    "fig, ax = plt.subplots(ncols=3)\n",
    "sample = 1\n",
    "ax[0].imshow(tf.cast(i[sample, 0, :, :, 0], tf.float32), cmap=\"gray\")\n",
    "encoder_out = autoencoder.layers[0](i)\n",
    "ax[1].imshow(tf.cast(encoder_out[sample, 0, :, :, 0], tf.float32), cmap=\"gray\")\n",
    "decoder_out = autoencoder.layers[1](encoder_out)\n",
    "ax[2].imshow(tf.cast(decoder_out[sample, 0, :, :, 0], tf.float32), cmap=\"gray\")"
   ]
  }
 ],
 "metadata": {
  "kernelspec": {
   "display_name": "Python 3",
   "language": "python",
   "name": "python3"
  },
  "language_info": {
   "codemirror_mode": {
    "name": "ipython",
    "version": 3
   },
   "file_extension": ".py",
   "mimetype": "text/x-python",
   "name": "python",
   "nbconvert_exporter": "python",
   "pygments_lexer": "ipython3",
   "version": "3.7.4"
  }
 },
 "nbformat": 4,
 "nbformat_minor": 4
}
