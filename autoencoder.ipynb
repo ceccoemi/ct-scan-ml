{
 "cells": [
  {
   "cell_type": "code",
   "execution_count": 5,
   "metadata": {},
   "outputs": [],
   "source": [
    "from collections import defaultdict\n",
    "\n",
    "import numpy as np\n",
    "import tensorflow as tf\n",
    "from tensorflow import keras\n",
    "from tqdm.notebook import tqdm\n",
    "import matplotlib.pyplot as plt\n",
    "import pandas as pd\n",
    "import seaborn as sns\n",
    "\n",
    "from data import tfrecord_dataset, train_test_split\n",
    "from models import SeluConv3D, SeluDense\n",
    "from plot import plot_slice, plot_volume_animation\n",
    "from config import (\n",
    "    LIDC_SMALL_NEG_TFRECORD,\n",
    "    LIDC_BIG_NEG_TFRECORD,\n",
    "    LIDC_SMALL_POS_TFRECORD,\n",
    "    LIDC_BIG_POS_TFRECORD,\n",
    "    LIDC_SMALL_UNLABELED_TFRECORD,\n",
    "    LIDC_BIG_UNLABELED_TFRECORD,\n",
    "    SMALL_PATCH_SHAPE,\n",
    "    BIG_PATCH_SHAPE,\n",
    "    SEED,\n",
    ")\n",
    "\n",
    "%matplotlib inline\n",
    "plt.rcParams[\"figure.figsize\"] = [15, 7]"
   ]
  },
  {
   "cell_type": "code",
   "execution_count": 6,
   "metadata": {},
   "outputs": [
    {
     "name": "stdout",
     "output_type": "stream",
     "text": [
      "pos_samples = 379\n",
      "neg_samples = 375\n",
      "labeled_samples = 754\n",
      "unlabeled_samples = 385\n"
     ]
    }
   ],
   "source": [
    "small_pos_x = tfrecord_dataset(LIDC_SMALL_POS_TFRECORD)\n",
    "pos_samples = sum(1 for _ in small_pos_x)\n",
    "print(f\"{pos_samples = }\")\n",
    "\n",
    "big_pos_x = tfrecord_dataset(LIDC_BIG_POS_TFRECORD)\n",
    "pos_samples = sum(1 for _ in big_pos_x)\n",
    "assert sum(1 for _ in big_pos_x) == pos_samples\n",
    "\n",
    "small_neg_x = tfrecord_dataset(LIDC_SMALL_NEG_TFRECORD)\n",
    "neg_samples = sum(1 for _ in small_neg_x)\n",
    "print(f\"{neg_samples = }\")\n",
    "\n",
    "big_neg_x = tfrecord_dataset(LIDC_BIG_NEG_TFRECORD)\n",
    "neg_samples = sum(1 for _ in big_neg_x)\n",
    "assert sum(1 for _ in big_neg_x) == neg_samples\n",
    "\n",
    "labeled_samples = pos_samples + neg_samples\n",
    "print(f\"{labeled_samples = }\")\n",
    "\n",
    "small_unlabeled_x = tfrecord_dataset(LIDC_SMALL_UNLABELED_TFRECORD)\n",
    "unlabeled_samples = sum(1 for _ in small_unlabeled_x)\n",
    "print(f\"{unlabeled_samples = }\")\n",
    "big_unlabeled_x = tfrecord_dataset(LIDC_BIG_UNLABELED_TFRECORD)\n",
    "assert unlabeled_samples == sum(1 for _ in big_unlabeled_x)"
   ]
  },
  {
   "cell_type": "code",
   "execution_count": 7,
   "metadata": {},
   "outputs": [],
   "source": [
    "subset_size = 200\n",
    "assert subset_size % 2 == 0"
   ]
  },
  {
   "cell_type": "code",
   "execution_count": 8,
   "metadata": {},
   "outputs": [],
   "source": [
    "pos_x = tf.data.Dataset.zip((small_pos_x, big_pos_x))\n",
    "classification_pos_dataset = tf.data.Dataset.zip(\n",
    "    (\n",
    "        pos_x.take(subset_size // 2),\n",
    "        tf.data.Dataset.from_tensor_slices(np.int8([[1]])).repeat(subset_size // 2),\n",
    "    )\n",
    ")\n",
    "assert sum(1 for _ in classification_pos_dataset) == subset_size // 2\n",
    "\n",
    "neg_x = tf.data.Dataset.zip((small_neg_x, big_neg_x))\n",
    "classification_neg_dataset = tf.data.Dataset.zip(\n",
    "    (\n",
    "        neg_x.take(subset_size // 2),\n",
    "        tf.data.Dataset.from_tensor_slices(np.int8([[0]])).repeat(subset_size // 2),\n",
    "    )\n",
    ")\n",
    "assert sum(1 for _ in classification_neg_dataset) == subset_size // 2\n",
    "\n",
    "classification_dataset = classification_pos_dataset.concatenate(\n",
    "    classification_neg_dataset\n",
    ").shuffle(buffer_size=subset_size, reshuffle_each_iteration=False)\n",
    "assert sum(1 for _ in classification_dataset) == subset_size"
   ]
  },
  {
   "cell_type": "code",
   "execution_count": 9,
   "metadata": {},
   "outputs": [
    {
     "name": "stdout",
     "output_type": "stream",
     "text": [
      "unsupervised_samples = 939\n"
     ]
    },
    {
     "data": {
      "text/plain": [
       "<ZipDataset shapes: ((None, None, None, None), (None, None, None, None)), types: (tf.float32, tf.float32)>"
      ]
     },
     "execution_count": 9,
     "metadata": {},
     "output_type": "execute_result"
    }
   ],
   "source": [
    "unsupervised_dataset = (\n",
    "    small_pos_x.skip(subset_size // 2)\n",
    "    .concatenate(small_neg_x.skip(subset_size // 2))\n",
    "    .concatenate(small_unlabeled_x)\n",
    ")\n",
    "unsupervised_samples = sum(1 for _ in unsupervised_dataset)\n",
    "print(f\"{unsupervised_samples = }\")\n",
    "assert unsupervised_samples == (labeled_samples - subset_size + unlabeled_samples)\n",
    "unsupervised_dataset = tf.data.Dataset.zip((unsupervised_dataset, unsupervised_dataset))\n",
    "unsupervised_dataset"
   ]
  },
  {
   "cell_type": "code",
   "execution_count": null,
   "metadata": {},
   "outputs": [],
   "source": [
    "# check that the two datasets are non-overlapping\n",
    "\n",
    "# for (_, big), _ in classification_dataset:\n",
    "#    for x, _ in unsupervised_dataset:\n",
    "#        assert not tf.reduce_all(tf.equal(big, x))"
   ]
  },
  {
   "cell_type": "code",
   "execution_count": null,
   "metadata": {},
   "outputs": [],
   "source": [
    "val_perc = 0.1\n",
    "batch_size = 16\n",
    "noise_stddev = 0.05"
   ]
  },
  {
   "cell_type": "code",
   "execution_count": null,
   "metadata": {},
   "outputs": [],
   "source": [
    "@tf.function\n",
    "def add_random_gaussian_noise(x, y):\n",
    "    small, big = x\n",
    "    noise = tf.random.normal(\n",
    "        shape=SMALL_PATCH_SHAPE, mean=0, stddev=noise_stddev, dtype=tf.float32\n",
    "    )\n",
    "    small = small + noise\n",
    "    small = tf.clip_by_value(small, 0, 1)\n",
    "    small.set_shape(SMALL_PATCH_SHAPE)  # help shape inference\n",
    "    noise = tf.random.normal(\n",
    "        shape=BIG_PATCH_SHAPE, mean=0, stddev=noise_stddev, dtype=tf.float32\n",
    "    )\n",
    "    big = big + noise\n",
    "    big = tf.clip_by_value(big, 0, 1)\n",
    "    big.set_shape(BIG_PATCH_SHAPE)  # help shape inference\n",
    "    return (small, big), y"
   ]
  },
  {
   "cell_type": "code",
   "execution_count": null,
   "metadata": {},
   "outputs": [],
   "source": [
    "unsupervised_train_dataset, unsupervised_val_dataset = train_test_split(\n",
    "    unsupervised_dataset,\n",
    "    test_perc=val_perc,\n",
    "    cardinality=unsupervised_samples,\n",
    ")\n",
    "unsupervised_val_dataset = (\n",
    "    unsupervised_val_dataset.cache()\n",
    "    # .map(add_random_gaussian_noise, num_parallel_calls=tf.data.experimental.AUTOTUNE)\n",
    "    .batch(batch_size).prefetch(tf.data.experimental.AUTOTUNE)\n",
    ")\n",
    "unsupervised_train_dataset = (\n",
    "    unsupervised_train_dataset.cache()  # must be called before shuffle\n",
    "    # .map(add_random_gaussian_noise, num_parallel_calls=tf.data.experimental.AUTOTUNE)\n",
    "    .shuffle(buffer_size=1024, reshuffle_each_iteration=True)\n",
    "    .batch(batch_size)\n",
    "    .prefetch(tf.data.experimental.AUTOTUNE)\n",
    ")\n",
    "unsupervised_train_dataset"
   ]
  },
  {
   "cell_type": "code",
   "execution_count": null,
   "metadata": {},
   "outputs": [],
   "source": [
    "encoder = keras.Sequential(\n",
    "    [\n",
    "        keras.layers.InputLayer(SMALL_PATCH_SHAPE, name=\"encoder_input\"),\n",
    "        SeluConv3D(\n",
    "            filters=32,\n",
    "            kernel_size=3,\n",
    "            name=\"encoder_selu_conv3d_1\",\n",
    "        ),\n",
    "        keras.layers.MaxPooling3D((1, 2, 2), name=\"encoder_maxpool_1\"),\n",
    "        SeluConv3D(\n",
    "            filters=64,\n",
    "            kernel_size=3,\n",
    "            name=\"encoder_selu_conv3d_2\",\n",
    "        ),\n",
    "        keras.layers.MaxPooling3D((1, 2, 2), name=\"encoder_maxpool_2\"),\n",
    "        SeluConv3D(\n",
    "            filters=128,\n",
    "            kernel_size=3,\n",
    "            name=\"encoder_selu_conv3d_3\",\n",
    "        ),\n",
    "        keras.layers.MaxPooling3D((1, 2, 2), name=\"encoder_maxpool_3\"),\n",
    "        SeluConv3D(\n",
    "            filters=256,\n",
    "            kernel_size=3,\n",
    "            name=\"encoder_selu_conv3d_4\",\n",
    "        ),\n",
    "        keras.layers.MaxPooling3D((1, 2, 2), name=\"encoder_maxpool_4\"),\n",
    "    ],\n",
    "    name=\"encoder\",\n",
    ")\n",
    "encoder.summary()"
   ]
  },
  {
   "cell_type": "code",
   "execution_count": null,
   "metadata": {},
   "outputs": [],
   "source": [
    "decoder = keras.Sequential(\n",
    "    [\n",
    "        keras.layers.InputLayer(encoder.output_shape[1:], name=\"decoder_input\"),\n",
    "        keras.layers.UpSampling3D((1, 2, 2), name=\"decoder_upsampling_0\"),\n",
    "        SeluConv3D(\n",
    "            filters=256,\n",
    "            kernel_size=3,\n",
    "            name=\"decoder_selu_conv3d_1\",\n",
    "        ),\n",
    "        keras.layers.UpSampling3D((1, 2, 2), name=\"decoder_upsampling_1\"),\n",
    "        SeluConv3D(\n",
    "            filters=128,\n",
    "            kernel_size=3,\n",
    "            name=\"decoder_selu_conv3d_2\",\n",
    "        ),\n",
    "        keras.layers.UpSampling3D((1, 2, 2), name=\"decoder_upsampling_2\"),\n",
    "        SeluConv3D(\n",
    "            filters=64,\n",
    "            kernel_size=3,\n",
    "            name=\"decoder_selu_conv3d_3\",\n",
    "        ),\n",
    "        keras.layers.UpSampling3D((1, 2, 2), name=\"decoder_upsampling_3\"),\n",
    "        SeluConv3D(\n",
    "            filters=32,\n",
    "            kernel_size=3,\n",
    "            name=\"decoder_selu_conv3d_4\",\n",
    "        ),\n",
    "        keras.layers.Dense(1, activation=\"sigmoid\", name=\"decoder_final_dense\"),\n",
    "    ],\n",
    "    name=\"decoder\",\n",
    ")\n",
    "decoder.summary()"
   ]
  },
  {
   "cell_type": "code",
   "execution_count": null,
   "metadata": {},
   "outputs": [],
   "source": [
    "autoencoder = keras.Sequential(\n",
    "    [\n",
    "        keras.layers.InputLayer(SMALL_PATCH_SHAPE, name=\"autoencoder_input\"),\n",
    "        encoder,\n",
    "        decoder,\n",
    "    ],\n",
    "    name=\"autoencoder\",\n",
    ")\n",
    "autoencoder.summary()"
   ]
  },
  {
   "cell_type": "code",
   "execution_count": null,
   "metadata": {},
   "outputs": [],
   "source": [
    "patience = 30\n",
    "learning_rate = 1e-5"
   ]
  },
  {
   "cell_type": "code",
   "execution_count": null,
   "metadata": {},
   "outputs": [],
   "source": [
    "autoencoder.compile(\n",
    "    optimizer=keras.optimizers.Adam(learning_rate),\n",
    "    loss=keras.losses.MeanSquaredError(),\n",
    ")\n",
    "\n",
    "model_fname = f\"models/autoencoder.h5\"\n",
    "log_dir = f\"logs/autoencoder\"\n",
    "autoencoder = train_model_with_early_stopping(\n",
    "    autoencoder,\n",
    "    unsupervised_train_dataset,\n",
    "    unsupervised_val_dataset,\n",
    "    patience,\n",
    "    \"val_loss\",\n",
    "    model_fname,\n",
    "    log_dir,\n",
    "    verbose_checkpoint=1,\n",
    ")"
   ]
  },
  {
   "cell_type": "code",
   "execution_count": null,
   "metadata": {},
   "outputs": [],
   "source": [
    "autoencoder = keras.models.load_model(\"models/autoencoder.h5\")"
   ]
  },
  {
   "cell_type": "code",
   "execution_count": null,
   "metadata": {},
   "outputs": [],
   "source": [
    "original, _ = next(iter(unsupervised_val_dataset.unbatch().batch(1).skip(0)))\n",
    "plot_volume_animation(original[0, :])"
   ]
  },
  {
   "cell_type": "code",
   "execution_count": null,
   "metadata": {},
   "outputs": [],
   "source": [
    "out = autoencoder(original, training=False)\n",
    "plot_volume_animation(out[0, :])"
   ]
  },
  {
   "cell_type": "code",
   "execution_count": 10,
   "metadata": {},
   "outputs": [],
   "source": [
    "def build_3d_cnn():\n",
    "    input_small = keras.Input(SMALL_PATCH_SHAPE, name=\"input_small\")\n",
    "    x_small = SeluConv3D(\n",
    "        filters=32,\n",
    "        kernel_size=3,\n",
    "        name=\"small_selu_conv3d_1\",\n",
    "    )(input_small)\n",
    "    x_small = keras.layers.MaxPooling3D((1, 2, 2), name=\"small_maxpool_1\")(x_small)\n",
    "    x_small = SeluConv3D(\n",
    "        filters=64,\n",
    "        kernel_size=3,\n",
    "        name=\"small_selu_conv3d_2\",\n",
    "    )(x_small)\n",
    "    x_small = keras.layers.MaxPooling3D((1, 2, 2), name=\"small_maxpool_2\")(x_small)\n",
    "    x_small = SeluConv3D(\n",
    "        filters=128,\n",
    "        kernel_size=3,\n",
    "        name=\"small_selu_conv3d_3\",\n",
    "    )(x_small)\n",
    "    x_small = keras.layers.MaxPooling3D((1, 2, 2), name=\"small_maxpool_3\")(x_small)\n",
    "    x_small = SeluConv3D(\n",
    "        filters=256,\n",
    "        kernel_size=3,\n",
    "        name=\"small_selu_conv3d_4\",\n",
    "    )(x_small)\n",
    "    x_small = keras.layers.MaxPooling3D((1, 2, 2), name=\"small_maxpool_4\")(x_small)\n",
    "    x_small = keras.layers.Flatten(name=\"flatten_small\")(x_small)\n",
    "\n",
    "    input_big = keras.Input(BIG_PATCH_SHAPE, name=\"input_big\")\n",
    "    x_big = keras.layers.MaxPooling3D((2, 2, 2), name=\"big_maxpool_0\")(input_big)\n",
    "    x_big = SeluConv3D(\n",
    "        filters=32,\n",
    "        kernel_size=3,\n",
    "        name=\"big_selu_conv3d_1\",\n",
    "    )(x_big)\n",
    "    x_big = keras.layers.MaxPooling3D((1, 2, 2), name=\"big_maxpool_1\")(x_big)\n",
    "    x_big = SeluConv3D(\n",
    "        filters=64,\n",
    "        kernel_size=3,\n",
    "        name=\"big_selu_conv3d_2\",\n",
    "    )(x_big)\n",
    "    x_big = keras.layers.MaxPooling3D((1, 2, 2), name=\"big_maxpool_2\")(x_big)\n",
    "    x_big = SeluConv3D(\n",
    "        filters=128,\n",
    "        kernel_size=3,\n",
    "        name=\"big_selu_conv3d_3\",\n",
    "    )(x_big)\n",
    "    x_big = keras.layers.MaxPooling3D((1, 2, 2), name=\"big_maxpool_3\")(x_big)\n",
    "    x_big = SeluConv3D(\n",
    "        filters=256,\n",
    "        kernel_size=3,\n",
    "        name=\"big_selu_conv3d_4\",\n",
    "    )(x_big)\n",
    "    x_big = keras.layers.MaxPooling3D((1, 2, 2), name=\"big_maxpool_4\")(x_big)\n",
    "    x_big = keras.layers.Flatten(name=\"flatten_big\")(x_big)\n",
    "\n",
    "    x = keras.layers.concatenate([x_small, x_big], name=\"concatenate\")\n",
    "    x = SeluDense(128, name=\"selu_dense\")(x)\n",
    "    x = keras.layers.AlphaDropout(0.5)(x)\n",
    "    x = keras.layers.Dense(1, activation=\"sigmoid\", name=\"final_dense\")(x)\n",
    "\n",
    "    cnn_3d = keras.Model(inputs=[input_small, input_big], outputs=x, name=\"3dcnn\")\n",
    "\n",
    "    return cnn_3d"
   ]
  },
  {
   "cell_type": "code",
   "execution_count": 11,
   "metadata": {},
   "outputs": [],
   "source": [
    "def build_ae_pretrained_3d_cnn():\n",
    "    small_encoder = keras.models.load_model(\"models/autoencoder.h5\").get_layer(\n",
    "        \"encoder\"\n",
    "    )\n",
    "    small_encoder._name = \"small_encoder\"\n",
    "    for layer in small_encoder.layers:\n",
    "        layer._name = \"small_\" + layer._name\n",
    "    small_encoder.trainable = False\n",
    "\n",
    "    input_small = keras.Input(SMALL_PATCH_SHAPE, name=\"input_small\")\n",
    "    x_small = small_encoder(input_small)\n",
    "    x_small = keras.layers.Flatten(name=\"flatten_small\")(x_small)\n",
    "\n",
    "    big_encoder = keras.models.load_model(\"models/autoencoder.h5\").get_layer(\"encoder\")\n",
    "    big_encoder._name = \"big_encoder\"\n",
    "    for layer in big_encoder.layers:\n",
    "        layer._name = \"big_\" + layer._name\n",
    "    big_encoder.trainable = False\n",
    "\n",
    "    input_big = keras.Input(BIG_PATCH_SHAPE, name=\"input_big\")\n",
    "    x_big = keras.layers.MaxPooling3D((2, 2, 2), name=\"big_maxpool_0\")(input_big)\n",
    "    x_big = big_encoder(x_big)\n",
    "    x_big = keras.layers.Flatten(name=\"flatten_big\")(x_big)\n",
    "\n",
    "    x = keras.layers.concatenate([x_small, x_big], name=\"concatenate\")\n",
    "    x = SeluDense(128, name=\"selu_dense\")(x)\n",
    "    x = keras.layers.AlphaDropout(0.5)(x)\n",
    "    x = keras.layers.Dense(1, activation=\"sigmoid\", name=\"final_dense\")(x)\n",
    "\n",
    "    cnn_3d = keras.Model(inputs=[input_small, input_big], outputs=x, name=\"3dcnn\")\n",
    "\n",
    "    return cnn_3d"
   ]
  },
  {
   "cell_type": "code",
   "execution_count": 13,
   "metadata": {},
   "outputs": [],
   "source": [
    "tries = 1\n",
    "fracs = (1, 5, 10)\n",
    "test_perc = 0.25\n",
    "batch_size = 8\n",
    "learning_rate = 1e-5\n",
    "num_epochs = 2\n",
    "patience = 100\n",
    "dataset = classification_dataset\n",
    "metrics = [\n",
    "    keras.metrics.AUC(name=\"auc\"),\n",
    "    keras.metrics.BinaryAccuracy(name=\"accuracy\"),\n",
    "]"
   ]
  },
  {
   "cell_type": "code",
   "execution_count": 15,
   "metadata": {},
   "outputs": [
    {
     "data": {
      "application/vnd.jupyter.widget-view+json": {
       "model_id": "47d97703d0ca4373ab371fa9482add0a",
       "version_major": 2,
       "version_minor": 0
      },
      "text/plain": [
       "HBox(children=(HTML(value=''), FloatProgress(value=0.0, max=1.0), HTML(value='')))"
      ]
     },
     "metadata": {},
     "output_type": "display_data"
    },
    {
     "name": "stdout",
     "output_type": "stream",
     "text": [
      "\n"
     ]
    }
   ],
   "source": [
    "data = defaultdict(list)\n",
    "for _ in tqdm(range(tries)):\n",
    "    full_train_dataset, test_dataset = train_test_split(\n",
    "        dataset, test_perc=test_perc, seed=None\n",
    "    )\n",
    "    test_dataset = test_dataset.batch(batch_size)\n",
    "    for frac in fracs:\n",
    "        val_dataset, train_dataset = train_test_split(\n",
    "            full_train_dataset, test_perc=(1 / frac), seed=None\n",
    "        )\n",
    "        val_dataset = val_dataset.batch(batch_size)\n",
    "        if sum(1 for _ in val_dataset) == 0:\n",
    "            val_dataset = test_dataset\n",
    "        train_dataset = (\n",
    "            train_dataset.cache()  # must be called before shuffle\n",
    "            .shuffle(buffer_size=1024, reshuffle_each_iteration=True)\n",
    "            .batch(batch_size)\n",
    "            .prefetch(tf.data.experimental.AUTOTUNE)\n",
    "        )\n",
    "\n",
    "        cnn = build_3d_cnn()\n",
    "        cnn.compile(\n",
    "            optimizer=keras.optimizers.Adam(learning_rate),\n",
    "            loss=keras.losses.MeanSquaredError(),\n",
    "            metrics=metrics,\n",
    "        )\n",
    "        cnn.fit(\n",
    "            train_dataset,\n",
    "            validation_data=val_dataset,\n",
    "            epochs=num_epochs,\n",
    "            verbose=0,\n",
    "            callbacks=[\n",
    "                keras.callbacks.EarlyStopping(\n",
    "                    monitor=\"val_loss\",\n",
    "                    patience=patience,\n",
    "                    verbose=0,\n",
    "                ),\n",
    "                keras.callbacks.ModelCheckpoint(\n",
    "                    \"models/3d-cnn-wo-pretraining\",\n",
    "                    monitor=\"val_loss\",\n",
    "                    save_best_only=True,\n",
    "                    save_weights_only=True,\n",
    "                    verbose=0,\n",
    "                ),\n",
    "                # keras.callbacks.TensorBoard(\n",
    "                #    log_dir=f\"logs/3d-cnn-wo-pretraining-{frac}\",\n",
    "                #    histogram_freq=2,\n",
    "                #    write_graph=False,\n",
    "                #    profile_batch=0,\n",
    "                # ),\n",
    "            ],\n",
    "        )\n",
    "        cnn.load_weights(\"models/3d-cnn-wo-pretraining\")\n",
    "        test_metrics = cnn.evaluate(test_dataset, return_dict=True, verbose=False)\n",
    "        data[\"nn_type\"].append(\"3D CNN W/O pretraining\")\n",
    "        data[\"train_size_fraction\"].append(frac)\n",
    "        data[\"metric\"].append(\"AUC\")\n",
    "        data[\"metric_value\"].append(test_metrics[\"auc\"])\n",
    "        data[\"nn_type\"].append(\"3D CNN W/O pretraining\")\n",
    "        data[\"train_size_fraction\"].append(frac)\n",
    "        data[\"metric\"].append(\"Accuracy\")\n",
    "        data[\"metric_value\"].append(test_metrics[\"accuracy\"])\n",
    "\n",
    "        cnn = build_ae_pretrained_3d_cnn()\n",
    "        cnn.compile(\n",
    "            optimizer=keras.optimizers.Adam(learning_rate),\n",
    "            loss=keras.losses.MeanSquaredError(),\n",
    "            metrics=metrics,\n",
    "        )\n",
    "        cnn.fit(\n",
    "            train_dataset,\n",
    "            validation_data=val_dataset,\n",
    "            epochs=num_epochs,\n",
    "            verbose=0,\n",
    "            callbacks=[\n",
    "                keras.callbacks.EarlyStopping(\n",
    "                    monitor=\"val_loss\",\n",
    "                    patience=patience,\n",
    "                    verbose=0,\n",
    "                ),\n",
    "                keras.callbacks.ModelCheckpoint(\n",
    "                    \"models/3d-cnn-w-pretraining\",\n",
    "                    monitor=\"val_loss\",\n",
    "                    save_best_only=True,\n",
    "                    save_weights_only=True,\n",
    "                    verbose=0,\n",
    "                ),\n",
    "                # keras.callbacks.TensorBoard(\n",
    "                #    log_dir=f\"logs/3d-cnn-w-pretraining-{frac}\",\n",
    "                #    histogram_freq=2,\n",
    "                #    write_graph=False,\n",
    "                #    profile_batch=0,\n",
    "                # ),\n",
    "            ],\n",
    "        )\n",
    "        cnn.load_weights(\"models/3d-cnn-w-pretraining\")\n",
    "        test_metrics = cnn.evaluate(test_dataset, return_dict=True, verbose=False)\n",
    "        data[\"nn_type\"].append(\"3D CNN W/ pretraining\")\n",
    "        data[\"train_size_fraction\"].append(frac)\n",
    "        data[\"metric\"].append(\"AUC\")\n",
    "        data[\"metric_value\"].append(test_metrics[\"auc\"])\n",
    "        data[\"nn_type\"].append(\"3D CNN W/ pretraining\")\n",
    "        data[\"train_size_fraction\"].append(frac)\n",
    "        data[\"metric\"].append(\"Accuracy\")\n",
    "        data[\"metric_value\"].append(test_metrics[\"accuracy\"])\n",
    "\n",
    "df = pd.DataFrame(data)\n",
    "df.to_csv(\"frac-training.csv\", index=False)"
   ]
  },
  {
   "cell_type": "code",
   "execution_count": 16,
   "metadata": {},
   "outputs": [
    {
     "data": {
      "text/plain": [
       "<seaborn.axisgrid.FacetGrid at 0x7f93cf3a36a0>"
      ]
     },
     "execution_count": 16,
     "metadata": {},
     "output_type": "execute_result"
    },
    {
     "data": {
      "image/png": "[encoded data removed]",
      "text/plain": [
       "<Figure size 877.5x360 with 2 Axes>"
      ]
     },
     "metadata": {
      "needs_background": "light"
     },
     "output_type": "display_data"
    }
   ],
   "source": [
    "df = pd.read_csv(\"frac-training.csv\")\n",
    "sns.catplot(\n",
    "    x=\"train_size_fraction\",\n",
    "    y=\"metric_value\",\n",
    "    hue=\"nn_type\",\n",
    "    col=\"metric\",\n",
    "    kind=\"point\",\n",
    "    data=df,\n",
    ")"
   ]
  },
  {
   "cell_type": "code",
   "execution_count": null,
   "metadata": {},
   "outputs": [],
   "source": []
  }
 ],
 "metadata": {
  "kernelspec": {
   "display_name": "Python 3",
   "language": "python",
   "name": "python3"
  },
  "language_info": {
   "codemirror_mode": {
    "name": "ipython",
    "version": 3
   },
   "file_extension": ".py",
   "mimetype": "text/x-python",
   "name": "python",
   "nbconvert_exporter": "python",
   "pygments_lexer": "ipython3",
   "version": "3.8.0"
  }
 },
 "nbformat": 4,
 "nbformat_minor": 4
}
