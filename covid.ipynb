{
 "cells": [
  {
   "cell_type": "code",
   "execution_count": null,
   "metadata": {},
   "outputs": [],
   "source": [
    "import datetime\n",
    "from pathlib import Path\n",
    "\n",
    "import matplotlib.pyplot as plt\n",
    "import numpy as np\n",
    "import tensorflow as tf\n",
    "from tensorflow import keras\n",
    "\n",
    "from model import build_encoder, build_autoencoder\n",
    "from data import example_to_tensor, normalize, add_channel_axis, train_test_split\n",
    "from train import train_func\n",
    "from utils import duplicate_iterator, plot_slice, plot_animated_volume\n",
    "from config import allocate_gpu_memory_only_when_needed, data_root_dir, seed\n",
    "\n",
    "%matplotlib inline\n",
    "plt.rcParams[\"figure.figsize\"] = [15, 7]"
   ]
  },
  {
   "cell_type": "code",
   "execution_count": null,
   "metadata": {},
   "outputs": [],
   "source": [
    "allocate_gpu_memory_only_when_needed(True)\n",
    "input_shape = (24, 128, 128, 1)\n",
    "epochs = 1000\n",
    "patience = 20\n",
    "batch_size = 4\n",
    "learning_rate = 0.0001\n",
    "unsupervised_val_perc = 0.2\n",
    "val_perc = 0.1  # percentage from the already splitted training test\n",
    "test_perc = 0.1"
   ]
  },
  {
   "cell_type": "code",
   "execution_count": null,
   "metadata": {},
   "outputs": [],
   "source": [
    "neg_tfrecord_fnames = [str(p) for p in Path(data_root_dir).glob(\"CT-0-0.25/*.tfrecord\")]\n",
    "neg_x = (\n",
    "    tf.data.TFRecordDataset(neg_tfrecord_fnames)\n",
    "    .map(example_to_tensor, num_parallel_calls=tf.data.experimental.AUTOTUNE)\n",
    "    .map(normalize, num_parallel_calls=tf.data.experimental.AUTOTUNE)\n",
    "    .map(add_channel_axis, num_parallel_calls=tf.data.experimental.AUTOTUNE)\n",
    ")\n",
    "neg_x"
   ]
  },
  {
   "cell_type": "code",
   "execution_count": null,
   "metadata": {},
   "outputs": [],
   "source": [
    "pos_tfrecord_fnames = [\n",
    "    str(p) for p in Path(data_root_dir).glob(\"CT-[1-4]-0.25/*.tfrecord\")\n",
    "]\n",
    "pos_x = (\n",
    "    tf.data.TFRecordDataset(pos_tfrecord_fnames)\n",
    "    .map(example_to_tensor, num_parallel_calls=tf.data.experimental.AUTOTUNE)\n",
    "    .map(normalize, num_parallel_calls=tf.data.experimental.AUTOTUNE)\n",
    "    .map(add_channel_axis, num_parallel_calls=tf.data.experimental.AUTOTUNE)\n",
    "    # .take(254)\n",
    ")\n",
    "pos_x"
   ]
  },
  {
   "cell_type": "code",
   "execution_count": null,
   "metadata": {},
   "outputs": [],
   "source": [
    "unsupervised_train_ds, unsupervised_val_ds = train_test_split(\n",
    "    neg_x.concatenate(pos_x),\n",
    "    test_perc=unsupervised_val_perc,\n",
    "    cardinality=None,\n",
    "    seed=seed,\n",
    ")\n",
    "unsupervised_val_ds = unsupervised_val_ds.padded_batch(batch_size, input_shape)\n",
    "val_ds_gen = duplicate_iterator(unsupervised_val_ds)\n",
    "unsupervised_val_ds = (\n",
    "    tf.data.Dataset.from_generator(lambda: val_ds_gen, (tf.float32, tf.float32))\n",
    "    .cache()\n",
    "    .prefetch(tf.data.experimental.AUTOTUNE)\n",
    ")\n",
    "unsupervised_train_ds = unsupervised_train_ds.padded_batch(batch_size, input_shape)\n",
    "train_ds_gen = duplicate_iterator(unsupervised_train_ds)\n",
    "unsupervised_train_ds = (\n",
    "    tf.data.Dataset.from_generator(lambda: train_ds_gen, (tf.float32, tf.float32))\n",
    "    .cache()  # must be called before shuffle\n",
    "    .shuffle(buffer_size=64, reshuffle_each_iteration=True)\n",
    "    .prefetch(tf.data.experimental.AUTOTUNE)\n",
    ")\n",
    "unsupervised_train_ds"
   ]
  },
  {
   "cell_type": "code",
   "execution_count": null,
   "metadata": {},
   "outputs": [],
   "source": [
    "autoencoder = build_autoencoder(input_shape)\n",
    "autoencoder.get_layer(\"encoder\").summary()\n",
    "autoencoder.get_layer(\"decoder\").summary()\n",
    "autoencoder.summary()"
   ]
  },
  {
   "cell_type": "code",
   "execution_count": null,
   "metadata": {},
   "outputs": [],
   "source": [
    "cnn.compile(\n",
    "    optimizer=keras.optimizers.Adam(learning_rate),\n",
    "    loss=keras.losses.MeanSquaredError(),\n",
    ")\n",
    "\n",
    "start_time = datetime.datetime.now().strftime(\"%Y%m%d-%H%M%S\")\n",
    "best_checkpoint = f\"models/autoencoder/{start_time}.h5\"\n",
    "checkpoint_cb = keras.callbacks.ModelCheckpoint(best_checkpoint, save_best_only=True)\n",
    "early_stopping_cb = keras.callbacks.EarlyStopping(\n",
    "    monitor=\"val_loss\",\n",
    "    patience=patience,\n",
    ")\n",
    "tensorboard_cb = tf.keras.callbacks.TensorBoard(\n",
    "    log_dir=f\"logs/autoencoder/{start_time}\",\n",
    "    histogram_freq=1,\n",
    "    write_graph=False,\n",
    "    profile_batch=0,\n",
    ")\n",
    "autoencoder.fit(\n",
    "    unsupervised_train_ds,\n",
    "    validation_data=unsupervised_val_ds,\n",
    "    epochs=epochs,\n",
    "    callbacks=[checkpoint_cb, early_stopping_cb, tensorboard_cb],\n",
    ")\n",
    "autoencoder = keras.models.load_model(best_checkpoint)"
   ]
  },
  {
   "cell_type": "code",
   "execution_count": null,
   "metadata": {},
   "outputs": [],
   "source": [
    "original, _ = next(iter(unsupervised_val_ds.skip(5)))\n",
    "encoder_out = autoencoder.get_layer(\"encoder\")(original, training=False)\n",
    "decoder_out = autoencoder.get_layer(\"decoder\")(encoder_out, training=False)\n",
    "batch_index = 0\n",
    "autoencoder.evaluate(unsupervised_val_ds, return_dict=True, verbose=0)"
   ]
  },
  {
   "cell_type": "code",
   "execution_count": null,
   "metadata": {},
   "outputs": [],
   "source": [
    "z_index = 5\n",
    "fig, ax = plt.subplots(ncols=3)\n",
    "plot_slice(original[batch_index, :], z_index, ax[0])\n",
    "plot_slice(encoder_out[batch_index, :], encoder_out.shape[1] // 3, ax[1])\n",
    "plot_slice(decoder_out[batch_index, :], z_index, ax[2])"
   ]
  },
  {
   "cell_type": "code",
   "execution_count": null,
   "metadata": {},
   "outputs": [],
   "source": []
  },
  {
   "cell_type": "code",
   "execution_count": null,
   "metadata": {},
   "outputs": [],
   "source": []
  },
  {
   "cell_type": "code",
   "execution_count": null,
   "metadata": {},
   "outputs": [],
   "source": [
    "num_neg = sum(1 for _ in neg_x)\n",
    "neg_y = tf.data.Dataset.from_tensors(tf.constant([0], dtype=tf.int8)).repeat(num_neg)\n",
    "neg_dataset = tf.data.Dataset.zip((neg_x, neg_y))\n",
    "neg_dataset"
   ]
  },
  {
   "cell_type": "code",
   "execution_count": null,
   "metadata": {},
   "outputs": [],
   "source": [
    "num_pos = sum(1 for _ in pos_x)\n",
    "pos_y = tf.data.Dataset.from_tensors(tf.constant([1], dtype=tf.int8)).repeat(num_pos)\n",
    "pos_dataset = tf.data.Dataset.zip((pos_x, pos_y))\n",
    "pos_dataset"
   ]
  },
  {
   "cell_type": "code",
   "execution_count": null,
   "metadata": {},
   "outputs": [],
   "source": [
    "dataset = neg_dataset.concatenate(pos_dataset)\n",
    "dataset, test_dataset = train_test_split(\n",
    "    dataset,\n",
    "    test_perc=test_perc,\n",
    "    cardinality=None,\n",
    "    seed=seed,\n",
    ")\n",
    "test_dataset = test_dataset.padded_batch(1, (input_shape, (1,)))\n",
    "train_dataset, val_dataset = train_test_split(\n",
    "    dataset,\n",
    "    test_perc=val_perc,\n",
    "    cardinality=None,\n",
    "    seed=seed,\n",
    ")\n",
    "val_dataset = (\n",
    "    val_dataset.padded_batch(batch_size, (input_shape, (1,)), drop_remainder=True)\n",
    "    .cache()\n",
    "    .prefetch(tf.data.experimental.AUTOTUNE)\n",
    ")\n",
    "train_dataset = (\n",
    "    train_dataset.padded_batch(batch_size, (input_shape, (1,)), drop_remainder=True)\n",
    "    .cache()  # must be called before shuffle\n",
    "    .shuffle(buffer_size=64, reshuffle_each_iteration=True)\n",
    "    .prefetch(tf.data.experimental.AUTOTUNE)\n",
    ")\n",
    "train_dataset"
   ]
  },
  {
   "cell_type": "code",
   "execution_count": null,
   "metadata": {},
   "outputs": [],
   "source": [
    "from collections import Counter\n",
    "\n",
    "print(Counter(label.numpy()[0] for _, label in train_dataset.unbatch()))\n",
    "print(Counter(label.numpy()[0] for _, label in val_dataset.unbatch()))\n",
    "print(Counter(label.numpy()[0] for _, label in test_dataset.unbatch()))"
   ]
  },
  {
   "cell_type": "code",
   "execution_count": null,
   "metadata": {},
   "outputs": [],
   "source": [
    "pretrained = True\n",
    "if pretrained:\n",
    "    encoder = keras.models.load_model(\n",
    "        \"models/autoencoder/20201020-161512.h5\"\n",
    "    ).get_layer(\"encoder\")\n",
    "else:\n",
    "    encoder = build_encoder(input_shape)\n",
    "encoder.summary()"
   ]
  },
  {
   "cell_type": "code",
   "execution_count": null,
   "metadata": {},
   "outputs": [],
   "source": [
    "cnn = keras.Sequential(\n",
    "    [\n",
    "        encoder,\n",
    "        keras.layers.Flatten(),\n",
    "        keras.layers.Dense(\n",
    "            512,\n",
    "            kernel_initializer=\"lecun_normal\",\n",
    "            bias_initializer=\"lecun_normal\",\n",
    "            activation=\"selu\",\n",
    "        ),\n",
    "        keras.layers.AlphaDropout(0.1),\n",
    "        keras.layers.Dense(1, activation=\"sigmoid\"),\n",
    "    ],\n",
    "    name=\"cnn\",\n",
    ")\n",
    "cnn.summary()"
   ]
  },
  {
   "cell_type": "code",
   "execution_count": null,
   "metadata": {},
   "outputs": [],
   "source": [
    "cnn.compile(\n",
    "    optimizer=keras.optimizers.Adam(learning_rate),\n",
    "    loss=keras.losses.BinaryCrossentropy(),\n",
    "    metrics=[\n",
    "        keras.metrics.TruePositives(name=\"tp\"),\n",
    "        keras.metrics.FalsePositives(name=\"fp\"),\n",
    "        keras.metrics.TrueNegatives(name=\"tn\"),\n",
    "        keras.metrics.FalseNegatives(name=\"fn\"),\n",
    "        keras.metrics.BinaryAccuracy(name=\"accuracy\"),\n",
    "        keras.metrics.Precision(name=\"precision\"),\n",
    "        keras.metrics.Recall(name=\"recall\"),\n",
    "        keras.metrics.AUC(name=\"auc\"),\n",
    "    ],\n",
    ")\n",
    "\n",
    "start_time = datetime.datetime.now().strftime(\"%Y%m%d-%H%M%S\")\n",
    "best_checkpoint = f\"models/{'pretrained-' if pretrained else ''}{start_time}.h5\"\n",
    "checkpoint_cb = keras.callbacks.ModelCheckpoint(\n",
    "    best_checkpoint, monitor=\"val_auc\", mode=\"max\", verbose=1, save_best_only=True\n",
    ")\n",
    "early_stopping_cb = keras.callbacks.EarlyStopping(\n",
    "    monitor=\"val_auc\", patience=patience, mode=\"max\"\n",
    ")\n",
    "tensorboard_cb = tf.keras.callbacks.TensorBoard(\n",
    "    log_dir=f\"logs/{'pretrained-' if pretrained else ''}{start_time}\",\n",
    "    histogram_freq=1,\n",
    "    write_graph=False,\n",
    "    profile_batch=0,\n",
    ")\n",
    "cnn.fit(\n",
    "    train_dataset,\n",
    "    validation_data=val_dataset,\n",
    "    epochs=epochs,\n",
    "    callbacks=[checkpoint_cb, early_stopping_cb, tensorboard_cb],\n",
    ")\n",
    "cnn = keras.models.load_model(best_checkpoint)"
   ]
  },
  {
   "cell_type": "code",
   "execution_count": null,
   "metadata": {},
   "outputs": [],
   "source": [
    "cnn = keras.models.load_models()\n",
    "cnn.evaluate(val_dataset, verbose=0, return_dict=True)"
   ]
  },
  {
   "cell_type": "code",
   "execution_count": null,
   "metadata": {},
   "outputs": [],
   "source": [
    "x, y = next(iter(test_dataset.skip(2)))\n",
    "prediction = cnn(x, training=False)\n",
    "print(f\"real: {y.numpy()}, prediction: {prediction.numpy()}\")\n",
    "plot_animated_volume(x[0, :], fps=5)"
   ]
  },
  {
   "cell_type": "code",
   "execution_count": null,
   "metadata": {},
   "outputs": [],
   "source": []
  }
 ],
 "metadata": {
  "kernelspec": {
   "display_name": "Python 3",
   "language": "python",
   "name": "python3"
  },
  "language_info": {
   "codemirror_mode": {
    "name": "ipython",
    "version": 3
   },
   "file_extension": ".py",
   "mimetype": "text/x-python",
   "name": "python",
   "nbconvert_exporter": "python",
   "pygments_lexer": "ipython3",
   "version": "3.8.0"
  }
 },
 "nbformat": 4,
 "nbformat_minor": 4
}
